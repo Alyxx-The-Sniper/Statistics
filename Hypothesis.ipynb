{
 "cells": [
  {
   "cell_type": "markdown",
   "id": "3b57bfb5",
   "metadata": {},
   "source": [
    "# Hypothesis\n"
   ]
  },
  {
   "cell_type": "markdown",
   "id": "0f8a7757",
   "metadata": {},
   "source": [
    "***"
   ]
  },
  {
   "cell_type": "markdown",
   "id": "1c0cf9d6",
   "metadata": {},
   "source": [
    "# I. T-Test (One sample )\n",
    "Comparing a sample average to a hypothetical population average\n",
    "\n",
    "`Assumptions of a One Sample T-Test`\n",
    "<br/>\n",
    "When running any hypothesis test, it is important to know and verify the assumptions of the test\n",
    "\n",
    "1. The sample was randomly selected from the population\n",
    "2. The individual observations were independent\n",
    "3. The data is normally distributed without outliers OR the sample size is large (enough) \n",
    "    - There are no set rules on what a “large enough” sample size is, but a common threshold is around 40. \n",
    "\n",
    "`Note:` \n",
    "In general, if you run an experiment that violates (or possibly violates) one of these assumptions, you can still run the test and report the results but you should also report assumptions that were not met and acknowledge that the test results could be flawed."
   ]
  },
  {
   "cell_type": "markdown",
   "id": "a9e00461",
   "metadata": {},
   "source": [
    "### Example Data\n",
    "Blood transfusion is the process of transferring blood products into a person's circulation intravenously. Transfusions are used for various medical conditions to replace lost components of the blood.\n",
    "\n",
    "The first thing we want to know is whether Familiar’s most basic package, the Vein Pack, actually has a significant impact on the subscribers. It would be a marketing goldmine if we can show that subscribers to the Vein Pack live longer than other people."
   ]
  },
  {
   "cell_type": "markdown",
   "id": "70039c0c",
   "metadata": {},
   "source": [
    "### Importing Necessary Libary and Packages"
   ]
  },
  {
   "cell_type": "code",
   "execution_count": 1,
   "id": "33568ad6",
   "metadata": {
    "code_folding": []
   },
   "outputs": [],
   "source": [
    "#\n",
    "import pandas as pd\n",
    "import numpy as np\n",
    "from scipy.stats import ttest_1samp, ttest_ind, chi2_contingency, binom_test, f_oneway, chi2_contingency, chi2\n",
    "from statsmodels.stats.multicomp import pairwise_tukeyhsd\n",
    "import matplotlib.pyplot as plt\n",
    "import seaborn as sns\n",
    "import scipy.stats as stats"
   ]
  },
  {
   "cell_type": "markdown",
   "id": "0c0504df",
   "metadata": {},
   "source": [
    "### - Loading our Dataset"
   ]
  },
  {
   "cell_type": "code",
   "execution_count": 10,
   "id": "4549452d",
   "metadata": {},
   "outputs": [
    {
     "data": {
      "text/html": [
       "<div>\n",
       "<style scoped>\n",
       "    .dataframe tbody tr th:only-of-type {\n",
       "        vertical-align: middle;\n",
       "    }\n",
       "\n",
       "    .dataframe tbody tr th {\n",
       "        vertical-align: top;\n",
       "    }\n",
       "\n",
       "    .dataframe thead th {\n",
       "        text-align: right;\n",
       "    }\n",
       "</style>\n",
       "<table border=\"1\" class=\"dataframe\">\n",
       "  <thead>\n",
       "    <tr style=\"text-align: right;\">\n",
       "      <th></th>\n",
       "      <th>pack</th>\n",
       "      <th>lifespan</th>\n",
       "    </tr>\n",
       "  </thead>\n",
       "  <tbody>\n",
       "    <tr>\n",
       "      <th>0</th>\n",
       "      <td>vein</td>\n",
       "      <td>76.255090</td>\n",
       "    </tr>\n",
       "    <tr>\n",
       "      <th>1</th>\n",
       "      <td>artery</td>\n",
       "      <td>76.404504</td>\n",
       "    </tr>\n",
       "    <tr>\n",
       "      <th>2</th>\n",
       "      <td>artery</td>\n",
       "      <td>75.952442</td>\n",
       "    </tr>\n",
       "  </tbody>\n",
       "</table>\n",
       "</div>"
      ],
      "text/plain": [
       "     pack   lifespan\n",
       "0    vein  76.255090\n",
       "1  artery  76.404504\n",
       "2  artery  75.952442"
      ]
     },
     "execution_count": 10,
     "metadata": {},
     "output_type": "execute_result"
    }
   ],
   "source": [
    "url = 'https://raw.githubusercontent.com/Alyxx-The-Sniper/Statistics/main/dataset_files/familiar_lifespan.csv'\n",
    "df = pd.read_csv(url)\n",
    "df.head(3)"
   ]
  },
  {
   "cell_type": "markdown",
   "id": "01711b59",
   "metadata": {},
   "source": [
    "### - Histogram Plot\n",
    "Check skewness and kurtusis"
   ]
  },
  {
   "cell_type": "code",
   "execution_count": 7,
   "id": "c7dec6ef",
   "metadata": {},
   "outputs": [],
   "source": [
    "vein = df[df['pack']=='vein']"
   ]
  },
  {
   "cell_type": "code",
   "execution_count": 8,
   "id": "3a5d9ad7",
   "metadata": {},
   "outputs": [
    {
     "name": "stdout",
     "output_type": "stream",
     "text": [
      "21.999970292003603\n",
      "4.690411213648852\n"
     ]
    },
    {
     "data": {
      "image/png": "[encoded data removed]",
      "text/plain": [
       "<Figure size 640x480 with 1 Axes>"
      ]
     },
     "metadata": {},
     "output_type": "display_data"
    }
   ],
   "source": [
    "sns.histplot(vein.lifespan,\n",
    "            kde=True,)\n",
    "print(vein.lifespan.kurt())\n",
    "print(vein.lifespan.skew())"
   ]
  },
  {
   "cell_type": "code",
   "execution_count": 4,
   "id": "900a4a41",
   "metadata": {
    "code_folding": []
   },
   "outputs": [
    {
     "ename": "KeyboardInterrupt",
     "evalue": "",
     "output_type": "error",
     "traceback": [
      "\u001b[1;31m---------------------------------------------------------------------------\u001b[0m",
      "\u001b[1;31mKeyboardInterrupt\u001b[0m                         Traceback (most recent call last)",
      "Input \u001b[1;32mIn [4]\u001b[0m, in \u001b[0;36m<cell line: 4>\u001b[1;34m()\u001b[0m\n\u001b[0;32m      1\u001b[0m \u001b[38;5;66;03m# Create new vein dataframe\u001b[39;00m\n\u001b[0;32m      2\u001b[0m vein \u001b[38;5;241m=\u001b[39m df[df[\u001b[38;5;124m'\u001b[39m\u001b[38;5;124mpack\u001b[39m\u001b[38;5;124m'\u001b[39m]\u001b[38;5;241m==\u001b[39m\u001b[38;5;124m'\u001b[39m\u001b[38;5;124mvein\u001b[39m\u001b[38;5;124m'\u001b[39m]\n\u001b[1;32m----> 4\u001b[0m \u001b[43msns\u001b[49m\u001b[38;5;241;43m.\u001b[39;49m\u001b[43mhistplot\u001b[49m\u001b[43m(\u001b[49m\u001b[43mvein\u001b[49m\u001b[38;5;241;43m.\u001b[39;49m\u001b[43mlifespan\u001b[49m\u001b[43m,\u001b[49m\n\u001b[0;32m      5\u001b[0m \u001b[43m            \u001b[49m\u001b[43mkde\u001b[49m\u001b[38;5;241;43m=\u001b[39;49m\u001b[38;5;28;43;01mTrue\u001b[39;49;00m\u001b[43m,\u001b[49m\u001b[43m)\u001b[49m\n\u001b[0;32m      6\u001b[0m \u001b[38;5;28mprint\u001b[39m(vein\u001b[38;5;241m.\u001b[39mlifespan\u001b[38;5;241m.\u001b[39mkurt())\n\u001b[0;32m      7\u001b[0m \u001b[38;5;28mprint\u001b[39m(vein\u001b[38;5;241m.\u001b[39mlifespan\u001b[38;5;241m.\u001b[39mskew())\n",
      "File \u001b[1;32m~\\anaconda3\\lib\\site-packages\\seaborn\\distributions.py:1462\u001b[0m, in \u001b[0;36mhistplot\u001b[1;34m(data, x, y, hue, weights, stat, bins, binwidth, binrange, discrete, cumulative, common_bins, common_norm, multiple, element, fill, shrink, kde, kde_kws, line_kws, thresh, pthresh, pmax, cbar, cbar_ax, cbar_kws, palette, hue_order, hue_norm, color, log_scale, legend, ax, **kwargs)\u001b[0m\n\u001b[0;32m   1451\u001b[0m estimate_kws \u001b[38;5;241m=\u001b[39m \u001b[38;5;28mdict\u001b[39m(\n\u001b[0;32m   1452\u001b[0m     stat\u001b[38;5;241m=\u001b[39mstat,\n\u001b[0;32m   1453\u001b[0m     bins\u001b[38;5;241m=\u001b[39mbins,\n\u001b[1;32m   (...)\u001b[0m\n\u001b[0;32m   1457\u001b[0m     cumulative\u001b[38;5;241m=\u001b[39mcumulative,\n\u001b[0;32m   1458\u001b[0m )\n\u001b[0;32m   1460\u001b[0m \u001b[38;5;28;01mif\u001b[39;00m p\u001b[38;5;241m.\u001b[39munivariate:\n\u001b[1;32m-> 1462\u001b[0m     \u001b[43mp\u001b[49m\u001b[38;5;241;43m.\u001b[39;49m\u001b[43mplot_univariate_histogram\u001b[49m\u001b[43m(\u001b[49m\n\u001b[0;32m   1463\u001b[0m \u001b[43m        \u001b[49m\u001b[43mmultiple\u001b[49m\u001b[38;5;241;43m=\u001b[39;49m\u001b[43mmultiple\u001b[49m\u001b[43m,\u001b[49m\n\u001b[0;32m   1464\u001b[0m \u001b[43m        \u001b[49m\u001b[43melement\u001b[49m\u001b[38;5;241;43m=\u001b[39;49m\u001b[43melement\u001b[49m\u001b[43m,\u001b[49m\n\u001b[0;32m   1465\u001b[0m \u001b[43m        \u001b[49m\u001b[43mfill\u001b[49m\u001b[38;5;241;43m=\u001b[39;49m\u001b[43mfill\u001b[49m\u001b[43m,\u001b[49m\n\u001b[0;32m   1466\u001b[0m \u001b[43m        \u001b[49m\u001b[43mshrink\u001b[49m\u001b[38;5;241;43m=\u001b[39;49m\u001b[43mshrink\u001b[49m\u001b[43m,\u001b[49m\n\u001b[0;32m   1467\u001b[0m \u001b[43m        \u001b[49m\u001b[43mcommon_norm\u001b[49m\u001b[38;5;241;43m=\u001b[39;49m\u001b[43mcommon_norm\u001b[49m\u001b[43m,\u001b[49m\n\u001b[0;32m   1468\u001b[0m \u001b[43m        \u001b[49m\u001b[43mcommon_bins\u001b[49m\u001b[38;5;241;43m=\u001b[39;49m\u001b[43mcommon_bins\u001b[49m\u001b[43m,\u001b[49m\n\u001b[0;32m   1469\u001b[0m \u001b[43m        \u001b[49m\u001b[43mkde\u001b[49m\u001b[38;5;241;43m=\u001b[39;49m\u001b[43mkde\u001b[49m\u001b[43m,\u001b[49m\n\u001b[0;32m   1470\u001b[0m \u001b[43m        \u001b[49m\u001b[43mkde_kws\u001b[49m\u001b[38;5;241;43m=\u001b[39;49m\u001b[43mkde_kws\u001b[49m\u001b[43m,\u001b[49m\n\u001b[0;32m   1471\u001b[0m \u001b[43m        \u001b[49m\u001b[43mcolor\u001b[49m\u001b[38;5;241;43m=\u001b[39;49m\u001b[43mcolor\u001b[49m\u001b[43m,\u001b[49m\n\u001b[0;32m   1472\u001b[0m \u001b[43m        \u001b[49m\u001b[43mlegend\u001b[49m\u001b[38;5;241;43m=\u001b[39;49m\u001b[43mlegend\u001b[49m\u001b[43m,\u001b[49m\n\u001b[0;32m   1473\u001b[0m \u001b[43m        \u001b[49m\u001b[43mestimate_kws\u001b[49m\u001b[38;5;241;43m=\u001b[39;49m\u001b[43mestimate_kws\u001b[49m\u001b[43m,\u001b[49m\n\u001b[0;32m   1474\u001b[0m \u001b[43m        \u001b[49m\u001b[43mline_kws\u001b[49m\u001b[38;5;241;43m=\u001b[39;49m\u001b[43mline_kws\u001b[49m\u001b[43m,\u001b[49m\n\u001b[0;32m   1475\u001b[0m \u001b[43m        \u001b[49m\u001b[38;5;241;43m*\u001b[39;49m\u001b[38;5;241;43m*\u001b[39;49m\u001b[43mkwargs\u001b[49m\u001b[43m,\u001b[49m\n\u001b[0;32m   1476\u001b[0m \u001b[43m    \u001b[49m\u001b[43m)\u001b[49m\n\u001b[0;32m   1478\u001b[0m \u001b[38;5;28;01melse\u001b[39;00m:\n\u001b[0;32m   1480\u001b[0m     p\u001b[38;5;241m.\u001b[39mplot_bivariate_histogram(\n\u001b[0;32m   1481\u001b[0m         common_bins\u001b[38;5;241m=\u001b[39mcommon_bins,\n\u001b[0;32m   1482\u001b[0m         common_norm\u001b[38;5;241m=\u001b[39mcommon_norm,\n\u001b[1;32m   (...)\u001b[0m\n\u001b[0;32m   1492\u001b[0m         \u001b[38;5;241m*\u001b[39m\u001b[38;5;241m*\u001b[39mkwargs,\n\u001b[0;32m   1493\u001b[0m     )\n",
      "File \u001b[1;32m~\\anaconda3\\lib\\site-packages\\seaborn\\distributions.py:565\u001b[0m, in \u001b[0;36m_DistributionPlotter.plot_univariate_histogram\u001b[1;34m(self, multiple, element, fill, common_norm, common_bins, shrink, kde, kde_kws, color, legend, line_kws, estimate_kws, **plot_kws)\u001b[0m\n\u001b[0;32m    560\u001b[0m \u001b[38;5;28;01mif\u001b[39;00m element \u001b[38;5;241m==\u001b[39m \u001b[38;5;124m\"\u001b[39m\u001b[38;5;124mbars\u001b[39m\u001b[38;5;124m\"\u001b[39m:\n\u001b[0;32m    561\u001b[0m \n\u001b[0;32m    562\u001b[0m     \u001b[38;5;66;03m# Use matplotlib bar plotting\u001b[39;00m\n\u001b[0;32m    564\u001b[0m     plot_func \u001b[38;5;241m=\u001b[39m ax\u001b[38;5;241m.\u001b[39mbar \u001b[38;5;28;01mif\u001b[39;00m \u001b[38;5;28mself\u001b[39m\u001b[38;5;241m.\u001b[39mdata_variable \u001b[38;5;241m==\u001b[39m \u001b[38;5;124m\"\u001b[39m\u001b[38;5;124mx\u001b[39m\u001b[38;5;124m\"\u001b[39m \u001b[38;5;28;01melse\u001b[39;00m ax\u001b[38;5;241m.\u001b[39mbarh\n\u001b[1;32m--> 565\u001b[0m     artists \u001b[38;5;241m=\u001b[39m \u001b[43mplot_func\u001b[49m\u001b[43m(\u001b[49m\n\u001b[0;32m    566\u001b[0m \u001b[43m        \u001b[49m\u001b[43mhist\u001b[49m\u001b[43m[\u001b[49m\u001b[38;5;124;43m\"\u001b[39;49m\u001b[38;5;124;43medges\u001b[39;49m\u001b[38;5;124;43m\"\u001b[39;49m\u001b[43m]\u001b[49m\u001b[43m,\u001b[49m\n\u001b[0;32m    567\u001b[0m \u001b[43m        \u001b[49m\u001b[43mhist\u001b[49m\u001b[43m[\u001b[49m\u001b[38;5;124;43m\"\u001b[39;49m\u001b[38;5;124;43mheights\u001b[39;49m\u001b[38;5;124;43m\"\u001b[39;49m\u001b[43m]\u001b[49m\u001b[43m \u001b[49m\u001b[38;5;241;43m-\u001b[39;49m\u001b[43m \u001b[49m\u001b[43mbottom\u001b[49m\u001b[43m,\u001b[49m\n\u001b[0;32m    568\u001b[0m \u001b[43m        \u001b[49m\u001b[43mhist\u001b[49m\u001b[43m[\u001b[49m\u001b[38;5;124;43m\"\u001b[39;49m\u001b[38;5;124;43mwidths\u001b[39;49m\u001b[38;5;124;43m\"\u001b[39;49m\u001b[43m]\u001b[49m\u001b[43m,\u001b[49m\n\u001b[0;32m    569\u001b[0m \u001b[43m        \u001b[49m\u001b[43mbottom\u001b[49m\u001b[43m,\u001b[49m\n\u001b[0;32m    570\u001b[0m \u001b[43m        \u001b[49m\u001b[43malign\u001b[49m\u001b[38;5;241;43m=\u001b[39;49m\u001b[38;5;124;43m\"\u001b[39;49m\u001b[38;5;124;43medge\u001b[39;49m\u001b[38;5;124;43m\"\u001b[39;49m\u001b[43m,\u001b[49m\n\u001b[0;32m    571\u001b[0m \u001b[43m        \u001b[49m\u001b[38;5;241;43m*\u001b[39;49m\u001b[38;5;241;43m*\u001b[39;49m\u001b[43martist_kws\u001b[49m\u001b[43m,\u001b[49m\n\u001b[0;32m    572\u001b[0m \u001b[43m    \u001b[49m\u001b[43m)\u001b[49m\n\u001b[0;32m    573\u001b[0m     \u001b[38;5;28;01mfor\u001b[39;00m bar \u001b[38;5;129;01min\u001b[39;00m artists:\n\u001b[0;32m    574\u001b[0m         \u001b[38;5;28;01mif\u001b[39;00m \u001b[38;5;28mself\u001b[39m\u001b[38;5;241m.\u001b[39mdata_variable \u001b[38;5;241m==\u001b[39m \u001b[38;5;124m\"\u001b[39m\u001b[38;5;124mx\u001b[39m\u001b[38;5;124m\"\u001b[39m:\n",
      "File \u001b[1;32m~\\anaconda3\\lib\\site-packages\\matplotlib\\__init__.py:1412\u001b[0m, in \u001b[0;36m_preprocess_data.<locals>.inner\u001b[1;34m(ax, data, *args, **kwargs)\u001b[0m\n\u001b[0;32m   1409\u001b[0m \u001b[38;5;129m@functools\u001b[39m\u001b[38;5;241m.\u001b[39mwraps(func)\n\u001b[0;32m   1410\u001b[0m \u001b[38;5;28;01mdef\u001b[39;00m \u001b[38;5;21minner\u001b[39m(ax, \u001b[38;5;241m*\u001b[39margs, data\u001b[38;5;241m=\u001b[39m\u001b[38;5;28;01mNone\u001b[39;00m, \u001b[38;5;241m*\u001b[39m\u001b[38;5;241m*\u001b[39mkwargs):\n\u001b[0;32m   1411\u001b[0m     \u001b[38;5;28;01mif\u001b[39;00m data \u001b[38;5;129;01mis\u001b[39;00m \u001b[38;5;28;01mNone\u001b[39;00m:\n\u001b[1;32m-> 1412\u001b[0m         \u001b[38;5;28;01mreturn\u001b[39;00m \u001b[43mfunc\u001b[49m\u001b[43m(\u001b[49m\u001b[43max\u001b[49m\u001b[43m,\u001b[49m\u001b[43m \u001b[49m\u001b[38;5;241;43m*\u001b[39;49m\u001b[38;5;28;43mmap\u001b[39;49m\u001b[43m(\u001b[49m\u001b[43msanitize_sequence\u001b[49m\u001b[43m,\u001b[49m\u001b[43m \u001b[49m\u001b[43margs\u001b[49m\u001b[43m)\u001b[49m\u001b[43m,\u001b[49m\u001b[43m \u001b[49m\u001b[38;5;241;43m*\u001b[39;49m\u001b[38;5;241;43m*\u001b[39;49m\u001b[43mkwargs\u001b[49m\u001b[43m)\u001b[49m\n\u001b[0;32m   1414\u001b[0m     bound \u001b[38;5;241m=\u001b[39m new_sig\u001b[38;5;241m.\u001b[39mbind(ax, \u001b[38;5;241m*\u001b[39margs, \u001b[38;5;241m*\u001b[39m\u001b[38;5;241m*\u001b[39mkwargs)\n\u001b[0;32m   1415\u001b[0m     auto_label \u001b[38;5;241m=\u001b[39m (bound\u001b[38;5;241m.\u001b[39marguments\u001b[38;5;241m.\u001b[39mget(label_namer)\n\u001b[0;32m   1416\u001b[0m                   \u001b[38;5;129;01mor\u001b[39;00m bound\u001b[38;5;241m.\u001b[39mkwargs\u001b[38;5;241m.\u001b[39mget(label_namer))\n",
      "File \u001b[1;32m~\\anaconda3\\lib\\site-packages\\matplotlib\\axes\\_axes.py:2409\u001b[0m, in \u001b[0;36mAxes.bar\u001b[1;34m(self, x, height, width, bottom, align, **kwargs)\u001b[0m\n\u001b[0;32m   2407\u001b[0m     \u001b[38;5;28;01melif\u001b[39;00m orientation \u001b[38;5;241m==\u001b[39m \u001b[38;5;124m'\u001b[39m\u001b[38;5;124mhorizontal\u001b[39m\u001b[38;5;124m'\u001b[39m:\n\u001b[0;32m   2408\u001b[0m         r\u001b[38;5;241m.\u001b[39msticky_edges\u001b[38;5;241m.\u001b[39mx\u001b[38;5;241m.\u001b[39mappend(l)\n\u001b[1;32m-> 2409\u001b[0m     \u001b[38;5;28;43mself\u001b[39;49m\u001b[38;5;241;43m.\u001b[39;49m\u001b[43madd_patch\u001b[49m\u001b[43m(\u001b[49m\u001b[43mr\u001b[49m\u001b[43m)\u001b[49m\n\u001b[0;32m   2410\u001b[0m     patches\u001b[38;5;241m.\u001b[39mappend(r)\n\u001b[0;32m   2412\u001b[0m \u001b[38;5;28;01mif\u001b[39;00m xerr \u001b[38;5;129;01mis\u001b[39;00m \u001b[38;5;129;01mnot\u001b[39;00m \u001b[38;5;28;01mNone\u001b[39;00m \u001b[38;5;129;01mor\u001b[39;00m yerr \u001b[38;5;129;01mis\u001b[39;00m \u001b[38;5;129;01mnot\u001b[39;00m \u001b[38;5;28;01mNone\u001b[39;00m:\n",
      "File \u001b[1;32m~\\anaconda3\\lib\\site-packages\\matplotlib\\axes\\_base.py:2363\u001b[0m, in \u001b[0;36m_AxesBase.add_patch\u001b[1;34m(self, p)\u001b[0m\n\u001b[0;32m   2361\u001b[0m \u001b[38;5;28;01mif\u001b[39;00m p\u001b[38;5;241m.\u001b[39mget_clip_path() \u001b[38;5;129;01mis\u001b[39;00m \u001b[38;5;28;01mNone\u001b[39;00m:\n\u001b[0;32m   2362\u001b[0m     p\u001b[38;5;241m.\u001b[39mset_clip_path(\u001b[38;5;28mself\u001b[39m\u001b[38;5;241m.\u001b[39mpatch)\n\u001b[1;32m-> 2363\u001b[0m \u001b[38;5;28;43mself\u001b[39;49m\u001b[38;5;241;43m.\u001b[39;49m\u001b[43m_update_patch_limits\u001b[49m\u001b[43m(\u001b[49m\u001b[43mp\u001b[49m\u001b[43m)\u001b[49m\n\u001b[0;32m   2364\u001b[0m \u001b[38;5;28mself\u001b[39m\u001b[38;5;241m.\u001b[39m_children\u001b[38;5;241m.\u001b[39mappend(p)\n\u001b[0;32m   2365\u001b[0m p\u001b[38;5;241m.\u001b[39m_remove_method \u001b[38;5;241m=\u001b[39m \u001b[38;5;28mself\u001b[39m\u001b[38;5;241m.\u001b[39m_children\u001b[38;5;241m.\u001b[39mremove\n",
      "File \u001b[1;32m~\\anaconda3\\lib\\site-packages\\matplotlib\\axes\\_base.py:2397\u001b[0m, in \u001b[0;36m_AxesBase._update_patch_limits\u001b[1;34m(self, patch)\u001b[0m\n\u001b[0;32m   2395\u001b[0m         updatey \u001b[38;5;241m=\u001b[39m \u001b[38;5;28;01mFalse\u001b[39;00m\n\u001b[0;32m   2396\u001b[0m trf_to_data \u001b[38;5;241m=\u001b[39m patch_trf \u001b[38;5;241m-\u001b[39m \u001b[38;5;28mself\u001b[39m\u001b[38;5;241m.\u001b[39mtransData\n\u001b[1;32m-> 2397\u001b[0m xys \u001b[38;5;241m=\u001b[39m \u001b[43mtrf_to_data\u001b[49m\u001b[38;5;241;43m.\u001b[39;49m\u001b[43mtransform\u001b[49m\u001b[43m(\u001b[49m\u001b[43mvertices\u001b[49m\u001b[43m)\u001b[49m\n\u001b[0;32m   2398\u001b[0m \u001b[38;5;28mself\u001b[39m\u001b[38;5;241m.\u001b[39mupdate_datalim(xys, updatex\u001b[38;5;241m=\u001b[39mupdatex, updatey\u001b[38;5;241m=\u001b[39mupdatey)\n",
      "File \u001b[1;32m~\\anaconda3\\lib\\site-packages\\matplotlib\\transforms.py:1503\u001b[0m, in \u001b[0;36mTransform.transform\u001b[1;34m(self, values)\u001b[0m\n\u001b[0;32m   1500\u001b[0m values \u001b[38;5;241m=\u001b[39m values\u001b[38;5;241m.\u001b[39mreshape((\u001b[38;5;241m-\u001b[39m\u001b[38;5;241m1\u001b[39m, \u001b[38;5;28mself\u001b[39m\u001b[38;5;241m.\u001b[39minput_dims))\n\u001b[0;32m   1502\u001b[0m \u001b[38;5;66;03m# Transform the values\u001b[39;00m\n\u001b[1;32m-> 1503\u001b[0m res \u001b[38;5;241m=\u001b[39m \u001b[38;5;28;43mself\u001b[39;49m\u001b[38;5;241;43m.\u001b[39;49m\u001b[43mtransform_affine\u001b[49m\u001b[43m(\u001b[49m\u001b[38;5;28;43mself\u001b[39;49m\u001b[38;5;241;43m.\u001b[39;49m\u001b[43mtransform_non_affine\u001b[49m\u001b[43m(\u001b[49m\u001b[43mvalues\u001b[49m\u001b[43m)\u001b[49m\u001b[43m)\u001b[49m\n\u001b[0;32m   1505\u001b[0m \u001b[38;5;66;03m# Convert the result back to the shape of the input values.\u001b[39;00m\n\u001b[0;32m   1506\u001b[0m \u001b[38;5;28;01mif\u001b[39;00m ndim \u001b[38;5;241m==\u001b[39m \u001b[38;5;241m0\u001b[39m:\n",
      "File \u001b[1;32m~\\anaconda3\\lib\\site-packages\\matplotlib\\transforms.py:2419\u001b[0m, in \u001b[0;36mCompositeGenericTransform.transform_affine\u001b[1;34m(self, points)\u001b[0m\n\u001b[0;32m   2417\u001b[0m \u001b[38;5;28;01mdef\u001b[39;00m \u001b[38;5;21mtransform_affine\u001b[39m(\u001b[38;5;28mself\u001b[39m, points):\n\u001b[0;32m   2418\u001b[0m     \u001b[38;5;66;03m# docstring inherited\u001b[39;00m\n\u001b[1;32m-> 2419\u001b[0m     \u001b[38;5;28;01mreturn\u001b[39;00m \u001b[38;5;28;43mself\u001b[39;49m\u001b[38;5;241;43m.\u001b[39;49m\u001b[43mget_affine\u001b[49m\u001b[43m(\u001b[49m\u001b[43m)\u001b[49m\u001b[38;5;241m.\u001b[39mtransform(points)\n",
      "File \u001b[1;32m~\\anaconda3\\lib\\site-packages\\matplotlib\\transforms.py:2446\u001b[0m, in \u001b[0;36mCompositeGenericTransform.get_affine\u001b[1;34m(self)\u001b[0m\n\u001b[0;32m   2444\u001b[0m     \u001b[38;5;28;01mreturn\u001b[39;00m \u001b[38;5;28mself\u001b[39m\u001b[38;5;241m.\u001b[39m_b\u001b[38;5;241m.\u001b[39mget_affine()\n\u001b[0;32m   2445\u001b[0m \u001b[38;5;28;01melse\u001b[39;00m:\n\u001b[1;32m-> 2446\u001b[0m     \u001b[38;5;28;01mreturn\u001b[39;00m \u001b[43mAffine2D\u001b[49m\u001b[43m(\u001b[49m\u001b[43mnp\u001b[49m\u001b[38;5;241;43m.\u001b[39;49m\u001b[43mdot\u001b[49m\u001b[43m(\u001b[49m\u001b[38;5;28;43mself\u001b[39;49m\u001b[38;5;241;43m.\u001b[39;49m\u001b[43m_b\u001b[49m\u001b[38;5;241;43m.\u001b[39;49m\u001b[43mget_affine\u001b[49m\u001b[43m(\u001b[49m\u001b[43m)\u001b[49m\u001b[38;5;241;43m.\u001b[39;49m\u001b[43mget_matrix\u001b[49m\u001b[43m(\u001b[49m\u001b[43m)\u001b[49m\u001b[43m,\u001b[49m\n\u001b[0;32m   2447\u001b[0m \u001b[43m                           \u001b[49m\u001b[38;5;28;43mself\u001b[39;49m\u001b[38;5;241;43m.\u001b[39;49m\u001b[43m_a\u001b[49m\u001b[38;5;241;43m.\u001b[39;49m\u001b[43mget_affine\u001b[49m\u001b[43m(\u001b[49m\u001b[43m)\u001b[49m\u001b[38;5;241;43m.\u001b[39;49m\u001b[43mget_matrix\u001b[49m\u001b[43m(\u001b[49m\u001b[43m)\u001b[49m\u001b[43m)\u001b[49m\u001b[43m)\u001b[49m\n",
      "File \u001b[1;32m~\\anaconda3\\lib\\site-packages\\matplotlib\\transforms.py:1914\u001b[0m, in \u001b[0;36mAffine2D.__init__\u001b[1;34m(self, matrix, **kwargs)\u001b[0m\n\u001b[0;32m   1911\u001b[0m \u001b[38;5;28;01mif\u001b[39;00m matrix \u001b[38;5;129;01mis\u001b[39;00m \u001b[38;5;28;01mNone\u001b[39;00m:\n\u001b[0;32m   1912\u001b[0m     \u001b[38;5;66;03m# A bit faster than np.identity(3).\u001b[39;00m\n\u001b[0;32m   1913\u001b[0m     matrix \u001b[38;5;241m=\u001b[39m IdentityTransform\u001b[38;5;241m.\u001b[39m_mtx\u001b[38;5;241m.\u001b[39mcopy()\n\u001b[1;32m-> 1914\u001b[0m \u001b[38;5;28mself\u001b[39m\u001b[38;5;241m.\u001b[39m_mtx \u001b[38;5;241m=\u001b[39m \u001b[43mmatrix\u001b[49m\u001b[38;5;241;43m.\u001b[39;49m\u001b[43mcopy\u001b[49m\u001b[43m(\u001b[49m\u001b[43m)\u001b[49m\n\u001b[0;32m   1915\u001b[0m \u001b[38;5;28mself\u001b[39m\u001b[38;5;241m.\u001b[39m_invalid \u001b[38;5;241m=\u001b[39m \u001b[38;5;241m0\u001b[39m\n",
      "\u001b[1;31mKeyboardInterrupt\u001b[0m: "
     ]
    },
    {
     "data": {
      "image/png": "[encoded data removed]",
      "text/plain": [
       "<Figure size 640x480 with 1 Axes>"
      ]
     },
     "metadata": {},
     "output_type": "display_data"
    }
   ],
   "source": [
    "# Create new vein dataframe\n",
    "vein = df[df['pack']=='vein']\n",
    "\n",
    "sns.histplot(vein.lifespan,\n",
    "            kde=True,)\n",
    "print(vein.lifespan.kurt())\n",
    "print(vein.lifespan.skew())"
   ]
  },
  {
   "cell_type": "markdown",
   "id": "4aa937e1",
   "metadata": {},
   "source": [
    "### - Outliers"
   ]
  },
  {
   "cell_type": "code",
   "execution_count": null,
   "id": "affdd0a8",
   "metadata": {
    "code_folding": []
   },
   "outputs": [],
   "source": [
    "#\n",
    "plt.figure(figsize=(4,3))\n",
    "sns.boxplot(x='pack', y='lifespan', data=vein)"
   ]
  },
  {
   "cell_type": "markdown",
   "id": "7f24c770",
   "metadata": {},
   "source": [
    "The vein package does not contain any outliers, so we will proceed with checking the skewness and kurtosis of its histogram."
   ]
  },
  {
   "cell_type": "markdown",
   "id": "e6012df4",
   "metadata": {},
   "source": [
    "\n",
    "The distribution appears to be fairly symmetric."
   ]
  },
  {
   "cell_type": "markdown",
   "id": "7fb081f0",
   "metadata": {},
   "source": [
    "### - The Null and Alternative Hypothesis"
   ]
  },
  {
   "cell_type": "markdown",
   "id": "cd728342",
   "metadata": {},
   "source": [
    "`The average lifespan of a Filipino people is 72 years old (as per google)`\n",
    "\n",
    "1. Ho: mu = 72\n",
    "     - The average lifespan of vein package is 72 years old   \n",
    "2. Ha: mu > 72\n",
    "     - The average lifespan of vein package is greater than 72 years old (76.169 base on our sample)   \n"
   ]
  },
  {
   "cell_type": "markdown",
   "id": "a0263b14",
   "metadata": {},
   "source": [
    "### -  ttest_1samp"
   ]
  },
  {
   "cell_type": "code",
   "execution_count": null,
   "id": "05993c21",
   "metadata": {},
   "outputs": [],
   "source": [
    "t_statistic, p_value = stats.ttest_1samp(a=np.array(vein.lifespan), popmean=72, \n",
    "                                         alternative='greater')\n",
    "t_statistic, p_value"
   ]
  },
  {
   "cell_type": "markdown",
   "id": "b8a8bcf9",
   "metadata": {},
   "source": [
    "The T-score of 9.64 is relatively large, indicating that the sample mean is significantly different from the population mean. It is important to note that the sample standard deviation (sigma) has a considerable impact on the T-score."
   ]
  },
  {
   "cell_type": "markdown",
   "id": "6ea8fada",
   "metadata": {},
   "source": [
    "### - Manual Computation of T-statistic and P-value"
   ]
  },
  {
   "cell_type": "code",
   "execution_count": null,
   "id": "fa06d72f",
   "metadata": {
    "code_folding": []
   },
   "outputs": [],
   "source": [
    "# setting variables\n",
    "# hypothesis mean\n",
    "mu = 72\n",
    "# number of samples\n",
    "n = len(vein.lifespan)\n",
    "# sample mean\n",
    "x_bar = np.mean(vein.lifespan)\n",
    "# sample standard devation\n",
    "sigma = np.std(vein.lifespan)\n",
    "# confidence level\n",
    "c = .95\n",
    "# significant level (5%)\n",
    "a = 1-c "
   ]
  },
  {
   "cell_type": "code",
   "execution_count": null,
   "id": "b6ed544d",
   "metadata": {
    "code_folding": [
     0
    ]
   },
   "outputs": [],
   "source": [
    "# visualization\n",
    "sns.histplot(vein.lifespan,kde=True,)\n",
    "plt.axvline(mu, linestyle='--', color='r', label='population mean')\n",
    "plt.axvline(x_bar, linestyle='--', color='b', label='sample mean')\n",
    "plt.axvline(x_bar + sigma, linestyle='--', color='y', label='sample_1_std')\n",
    "plt.axvline(x_bar - sigma, linestyle='--', color='y', label='sample_1_std')\n",
    "plt.legend() "
   ]
  },
  {
   "cell_type": "markdown",
   "id": "94156cc1",
   "metadata": {},
   "source": [
    "In situations where the population standard deviation is unknown, the standard error can be estimated using the sample standard deviation and the sample size. This estimation is used in calculating confidence intervals and conducting hypothesis tests."
   ]
  },
  {
   "cell_type": "markdown",
   "id": "abaec54c",
   "metadata": {},
   "source": [
    "`Standard Error:`\n",
    "\n",
    "Standard error is the standard deviation of the sampling distribution. We can estimate it using the formula: \n",
    "\n",
    "`Standard Error = Standard Deviation / √(Sample Size)` \n",
    "\n",
    "Imagine taking the mean of 5 random samples, and then taking the standard deviation of those 5 sample means. That value would become the standard error. This also shows how dispersed our 5 sample means are from the mean of means.\n",
    "\n",
    "The standard error is important because it helps us to determine the precision of our estimates and to construct confidence intervals for population parameters based on our sample data. A smaller standard error indicates that our sample mean is a more precise estimate of the true population mean, while a larger standard error indicates that our sample mean is a less precise estimate of the true population mean. The exact cutoffs for what constitutes a \"low\" or \"high\" standard error will depend on the context and the specific study.\n",
    "\n",
    "For example, in a study with a large sample size, even a small difference between the sample mean and population mean may be statistically significant. In contrast, a smaller sample size may require a more substantial difference to achieve statistical significance. Additionally, the context of the study may impact the interpretation of a standard error. "
   ]
  },
  {
   "cell_type": "code",
   "execution_count": null,
   "id": "9916240d",
   "metadata": {},
   "outputs": [],
   "source": [
    "std_error = sigma / (n ** 0.5)\n",
    "print(std_error)\n",
    "print(sigma) # std of our sample"
   ]
  },
  {
   "cell_type": "markdown",
   "id": "2efc69f4",
   "metadata": {},
   "source": [
    "`T-statistic:`\n",
    "\n",
    "The t-statistic is a test statistic `used in hypothesis testing when the population standard deviation is unknown` and must be estimated from the sample data. `It is used to determine if there is a significant difference between the mean of a sample and the mean of a population` when the sample size is small (less than 30) or when the population is not normally distributed. The t-statistic is calculated as the difference between the sample mean and the hypothesized population mean, divided by the standard error of the sample mean.``\n",
    "\n",
    " The formula for the t-statistic is:\n",
    "\n",
    "`t = (x̄ - μ) / (s / √n)`\n",
    "\n",
    "where x̄ is the sample mean, μ is the hypothesized population mean, s is the sample standard deviation, n is the sample size, and √n is the square root of the sample size. The standard error is calculated as s / √n, which is used in the denominator of the t-statistic formula."
   ]
  },
  {
   "cell_type": "markdown",
   "id": "39ad57d8",
   "metadata": {},
   "source": [
    "The T-statistic we computed manually is consistent with the output from the 'stats.ttest_1samp' function. We can consult the T-statistic table to obtain the corresponding P-value, which is very low compared to the chosen significance level."
   ]
  },
  {
   "cell_type": "code",
   "execution_count": null,
   "id": "1b25c7ee",
   "metadata": {},
   "outputs": [],
   "source": [
    "# t-statistic\n",
    "t = (x_bar - mu) / std_error\n",
    "t"
   ]
  },
  {
   "cell_type": "markdown",
   "id": "d44a2b5e",
   "metadata": {},
   "source": [
    "### T-statistic\n",
    "\n",
    "Link for t-table: https://www.statisticshowto.com/tables/t-distribution-table/"
   ]
  },
  {
   "cell_type": "code",
   "execution_count": null,
   "id": "c0d2e66a",
   "metadata": {},
   "outputs": [],
   "source": [
    "plt.figure(figsize=(8,4))\n",
    "x = np.linspace(mu - 3*sigma, mu + 3*sigma, 100)\n",
    "plt.plot(x, stats.norm.pdf(x, mu, sigma))\n",
    "\n",
    "plt.axvline(mu, linestyle='--', color='r', label='population mean')\n",
    "# t-stat critical value can be seen in the t-table (above link)\n",
    "plt.axvline(mu + 1.66*sigma, linestyle='-', color='b', label='t-stat score critical value: 1.66')\n",
    "plt.axvline(mu + t , linestyle='--', color='b', label='our t-stat score:' + str(t))\n",
    "\n",
    "plt.legend(loc='upper left')"
   ]
  },
  {
   "cell_type": "markdown",
   "id": "47e2be1c",
   "metadata": {},
   "source": [
    "### P value"
   ]
  },
  {
   "cell_type": "code",
   "execution_count": null,
   "id": "366085ff",
   "metadata": {},
   "outputs": [],
   "source": [
    "plt.figure(figsize=(8,4))\n",
    "x = np.linspace(mu - 3*sigma, mu + 3*sigma, 100)\n",
    "plt.plot(x, stats.norm.pdf(x, mu, sigma))\n",
    "\n",
    "plt.axvline(mu, linestyle='--', color='r', label='population mean')\n",
    "plt.axvline(stats.norm.ppf(1 - 0.05, mu, sigma), color='b', linestyle='-', label='p-value:0.05 / Significant threshold')\n",
    "plt.axvline(stats.norm.ppf(1 - p_value, mu, sigma), color='b', linestyle='--', label='our p-value score:' + \"{:.10f}\".format(p_value))\n",
    "\n",
    "plt.legend(loc='upper left')\n",
    "# P Value\n",
    "\"{:.10f}\".format(p_value)"
   ]
  },
  {
   "cell_type": "markdown",
   "id": "1666366c",
   "metadata": {},
   "source": [
    "### `T-Test Hypothesis Conclusion:`\n",
    "The p-value is very small, indicating strong evidence against the null hypothesis. This suggests that subscribers of the Veins package have a longer lifespan compared to the average lifespan of Filipino people.\n"
   ]
  },
  {
   "cell_type": "markdown",
   "id": "ad789ee6",
   "metadata": {},
   "source": [
    "***"
   ]
  },
  {
   "cell_type": "markdown",
   "id": "525732ce",
   "metadata": {},
   "source": [
    "***"
   ]
  },
  {
   "cell_type": "markdown",
   "id": "10771858",
   "metadata": {},
   "source": [
    "# Binomial Test\n",
    "Binomial tests are similar to one-sample t-tests in that they test a sample statistic against some population-level expectation. The difference is that: binomial tests are used for `binary categorical data` to compare a `sample frequency` to an expected population-level probability.\n",
    "\n",
    "`usage:`\n",
    "1. is there a fix number of trials?\n",
    "2. are there only two possible outcomes?\n",
    "3. are the outcomes independent to eash other?\n",
    "4. does the probability of success remain the same for each trial?"
   ]
  },
  {
   "cell_type": "markdown",
   "id": "ff55dcb4",
   "metadata": {},
   "source": [
    "### Example 1\n",
    "Let's compare if 'Artery package' is more preferable than than the 'Vein package'."
   ]
  },
  {
   "cell_type": "markdown",
   "id": "cb934c47",
   "metadata": {},
   "source": [
    "#### `Reminders:`\n",
    "Stating a null hypothesis means that there is always no significant difference between comparisons while the alternative hypothesis state that there is a significant differences.\n",
    "\n",
    "- Ho: artery = vien\n",
    "- Ha: artery > vien"
   ]
  },
  {
   "cell_type": "code",
   "execution_count": null,
   "id": "514ac7f1",
   "metadata": {},
   "outputs": [],
   "source": [
    "# Setting variables\n",
    "artery = df[df['pack']=='artery']\n",
    "\n",
    "population = len(df)\n",
    "artery_count = len(artery)\n",
    "vein_count = len(vein)\n",
    "\n",
    "print(population, artery_count, vein_count)"
   ]
  },
  {
   "cell_type": "code",
   "execution_count": null,
   "id": "d903c3eb",
   "metadata": {},
   "outputs": [],
   "source": [
    "# probability choosing between 'Artery' and 'Vein' pack is at 50%\n",
    "# significant level at 95%\n",
    "pval_greater = binom_test(artery_count, population, p=0.5, \n",
    "                          alternative='greater',\n",
    "                         )\n",
    "pval_greater"
   ]
  },
  {
   "cell_type": "markdown",
   "id": "395dff4d",
   "metadata": {},
   "source": [
    "We failed to reject the null hypothesis thus there is no significant difference between 'Artery' and 'Vein' package. Our population has no preferable chooice between the two packages."
   ]
  },
  {
   "cell_type": "markdown",
   "id": "1ebff5f3",
   "metadata": {},
   "source": [
    "### Example 2\n",
    "- Ho: vien = artery\n",
    "- Ha: vien < artery"
   ]
  },
  {
   "cell_type": "code",
   "execution_count": null,
   "id": "ea7c1436",
   "metadata": {},
   "outputs": [],
   "source": [
    "pval_less = binom_test(vein_count, population, p=0.5, \n",
    "                          alternative='less',\n",
    "                         )\n",
    "pval_less"
   ]
  },
  {
   "cell_type": "markdown",
   "id": "7be7d518",
   "metadata": {},
   "source": [
    "At 95% confident we are failed to reject the null hypothesis. There is no significant difference between 'Vein' and 'Artery' packages frequency."
   ]
  },
  {
   "cell_type": "markdown",
   "id": "3c0ece78",
   "metadata": {},
   "source": [
    "***"
   ]
  },
  {
   "cell_type": "markdown",
   "id": "c18a2e2e",
   "metadata": {},
   "source": [
    "***"
   ]
  },
  {
   "cell_type": "markdown",
   "id": "8b69bd0d",
   "metadata": {},
   "source": [
    "# T-Test (Two Sample)\n",
    "Comparing Quantitative and Binary Variables with their mean value."
   ]
  },
  {
   "cell_type": "markdown",
   "id": "4dd859ee",
   "metadata": {},
   "source": [
    "### Example 1\n",
    "\n",
    "Testing 'Vein' and 'Artery' means.\n",
    "\n",
    "### State the null and alternative hypothesis\n",
    "- Ho: vein = artery (in terms of mean/average) \n",
    "- Ha: vein != artery (in terms of mean)"
   ]
  },
  {
   "cell_type": "markdown",
   "id": "f278b30e",
   "metadata": {},
   "source": [
    "#### Check the sample size between the two categories"
   ]
  },
  {
   "cell_type": "code",
   "execution_count": null,
   "id": "f502fbd0",
   "metadata": {},
   "outputs": [],
   "source": [
    "print(len(vein))\n",
    "print(len(artery))"
   ]
  },
  {
   "cell_type": "code",
   "execution_count": null,
   "id": "50c53974",
   "metadata": {},
   "outputs": [],
   "source": [
    "# perform binomial two tailed test to check if both categories has a significant differences in \n",
    "# terms of frequency\n",
    "pval_greater = binom_test(artery_count, population, p=0.5, alternative='two-sided')\n",
    "pval_greater"
   ]
  },
  {
   "cell_type": "markdown",
   "id": "d54538e3",
   "metadata": {},
   "source": [
    "Our two-sided pval state that we failed to reject the null hypothesis. Theres no significant difference between the two categories. "
   ]
  },
  {
   "cell_type": "markdown",
   "id": "46a8a69c",
   "metadata": {},
   "source": [
    "#### Check if STD is equal"
   ]
  },
  {
   "cell_type": "code",
   "execution_count": null,
   "id": "7c0e4908",
   "metadata": {},
   "outputs": [],
   "source": [
    "ratio = np.std(vein.lifespan) / np.std(artery.lifespan)\n",
    "print(np.std(vein.lifespan))\n",
    "print(np.std(artery.lifespan))\n",
    "ratio"
   ]
  },
  {
   "cell_type": "markdown",
   "id": "40fa4b7d",
   "metadata": {},
   "source": [
    "A ratio between 0.9 and 1.1 should suffice. Even we have different sample size we can still perform the Two Sample T-test. The `Variance` or `Standard Devation` one of the assumption of the test."
   ]
  },
  {
   "cell_type": "markdown",
   "id": "524765e1",
   "metadata": {},
   "source": [
    "### Visualization"
   ]
  },
  {
   "cell_type": "code",
   "execution_count": null,
   "id": "ab175622",
   "metadata": {},
   "outputs": [],
   "source": [
    "plt.figure(figsize=(12, 4)) \n",
    "\n",
    "ax1 = plt.subplot(1,2,1)\n",
    "#plot overlapping kde plot\n",
    "ax1 = sns.kdeplot(vein.lifespan, shade=True, label='Vein')\n",
    "ax1 = sns.kdeplot(artery.lifespan, shade=True, label='Artery')\n",
    "ax1 = plt.axvline(vein.lifespan.mean(), color='b', linestyle='--', label='vein mean:' + str(round(vein.lifespan.mean(),4)))\n",
    "ax1 = plt.axvline(artery.lifespan.mean(), color='orange', linestyle='--', label='artery mean:' + str(round(artery.lifespan.mean(),4)))\n",
    "plt.legend(loc='upper left')\n",
    "\n",
    "ax2 = plt.subplot(1,2,2)\n",
    "ax2 = sns.boxplot(x = 'pack', y = 'lifespan', data= df)"
   ]
  },
  {
   "cell_type": "markdown",
   "id": "47f4ceaa",
   "metadata": {},
   "source": [
    "### Run the t-test here"
   ]
  },
  {
   "cell_type": "code",
   "execution_count": null,
   "id": "5cf5f636",
   "metadata": {},
   "outputs": [],
   "source": [
    "tstat, pval =ttest_ind(vein.lifespan,artery.lifespan)\n",
    "pval"
   ]
  },
  {
   "cell_type": "markdown",
   "id": "56bc2e9d",
   "metadata": {},
   "source": [
    "### Two Sample T-test Result\n",
    "Pval is below the significant level (0.05) which mean that we should reject the null hypothesis. There is a significant difference in terms of their average."
   ]
  },
  {
   "cell_type": "markdown",
   "id": "ade287ed",
   "metadata": {},
   "source": [
    "### Further Observation\n",
    "In the above visualization notice that we have an outliers in 'Artery Pack'. Let's convert it to the mean value and run another test."
   ]
  },
  {
   "cell_type": "code",
   "execution_count": null,
   "id": "eee388a1",
   "metadata": {},
   "outputs": [],
   "source": [
    "# replace outliers with mean value\n",
    "import warnings\n",
    "warnings.filterwarnings('ignore')\n",
    "\n",
    "artery['lifespan'] = artery['lifespan'].where(artery['lifespan'] > 70, np.mean(artery['lifespan']) )\n",
    "\n",
    "plt.figure(figsize=(5, 4)) \n",
    "sns.boxplot(x = 'pack', y = 'lifespan', data= artery)"
   ]
  },
  {
   "cell_type": "code",
   "execution_count": null,
   "id": "dfe85ab6",
   "metadata": {},
   "outputs": [],
   "source": [
    "tstat, pval =ttest_ind(vein.lifespan,artery.lifespan)\n",
    "pval"
   ]
  },
  {
   "cell_type": "markdown",
   "id": "7e9cdd27",
   "metadata": {},
   "source": [
    "### Final Result\n",
    "After manipulating the outliers, our pval increases by small amount however its still not enough. Were still rejecting the null hypothesis. Vein and Artery packages has significant differences in terms of average lifespan.\n"
   ]
  },
  {
   "cell_type": "markdown",
   "id": "a64a7d79",
   "metadata": {},
   "source": [
    "***"
   ]
  },
  {
   "cell_type": "markdown",
   "id": "a1d73c0d",
   "metadata": {},
   "source": [
    "# Anova and Turkey\n",
    "Categorical and Nominal(continious) variable\n",
    "<br/>\n",
    "Just like Two sample T-test, ANOVA tests the null hypothesis that `all groups have the same population mean'.\n",
    "\n",
    "`Assumptions:`\n",
    "1. The observations should be independently randomly sampled from the population\n",
    "2. The standard deviations of the groups should be equal\n",
    "   - it is normally sufficient to divide one standard deviation by the other and see if the ratio is “close” to 1. Generally, a ratio between 0.9 and 1.1 should suffice. \n",
    "   - ratio = np.std(dist_1) / np.std(dist_2)\n",
    "3. The data should be normally distributed…ish\n",
    "4. The groups created by the categorical variable must be independent"
   ]
  },
  {
   "cell_type": "code",
   "execution_count": null,
   "id": "a7ee7199",
   "metadata": {},
   "outputs": [],
   "source": [
    "df = pd.read_csv('dataset_files/store.csv')\n",
    "print(df.shape)\n",
    "print(df.Store.unique())\n",
    "df.sample(2)"
   ]
  },
  {
   "cell_type": "markdown",
   "id": "a29620f9",
   "metadata": {},
   "source": [
    "#### Seperate each `Sales` per `Store`"
   ]
  },
  {
   "cell_type": "code",
   "execution_count": null,
   "id": "3db177a0",
   "metadata": {},
   "outputs": [],
   "source": [
    "a = df.Sale[df.Store == 'A']\n",
    "b = df.Sale[df.Store == 'B']\n",
    "c = df.Sale[df.Store == 'C']"
   ]
  },
  {
   "cell_type": "markdown",
   "id": "dc1534da",
   "metadata": {},
   "source": [
    "#### Runt The Test"
   ]
  },
  {
   "cell_type": "code",
   "execution_count": null,
   "id": "1d978d4f",
   "metadata": {},
   "outputs": [],
   "source": [
    "fstat, pval = f_oneway(a,b,c)\n",
    "pval"
   ]
  },
  {
   "cell_type": "markdown",
   "id": "5ef36a94",
   "metadata": {},
   "source": [
    "If the p-value is below our significance there is at least one pair of our groups earned significantly different scores on average however, we won’t know which pair until we investigate further!"
   ]
  },
  {
   "cell_type": "markdown",
   "id": "b899ed19",
   "metadata": {},
   "source": [
    "#### Tukey's Range Test\n",
    "Now, we want to find out which pair of stores are different"
   ]
  },
  {
   "cell_type": "code",
   "execution_count": null,
   "id": "5aa7f1f6",
   "metadata": {},
   "outputs": [],
   "source": [
    "tukey_results =  pairwise_tukeyhsd(df.Sale, df.Store, 0.05)\n",
    "print(tukey_results)"
   ]
  },
  {
   "cell_type": "markdown",
   "id": "a84ca3ff",
   "metadata": {},
   "source": [
    "- (C and A) and (C and B) failed to reject the null hypothesis. There is no significant differences.\n",
    "- (A and B) Accept the null hypothesis. There is a significant difference between their sales in average."
   ]
  },
  {
   "cell_type": "markdown",
   "id": "a944856c",
   "metadata": {},
   "source": [
    "#### Visualization"
   ]
  },
  {
   "cell_type": "code",
   "execution_count": null,
   "id": "36aadece",
   "metadata": {
    "scrolled": true
   },
   "outputs": [],
   "source": [
    "sns.boxplot(x=df.Store, y=df.Sale, data=df)"
   ]
  },
  {
   "cell_type": "markdown",
   "id": "be143da4",
   "metadata": {},
   "source": [
    "***"
   ]
  },
  {
   "cell_type": "markdown",
   "id": "7892259c",
   "metadata": {},
   "source": [
    "***"
   ]
  },
  {
   "cell_type": "markdown",
   "id": "1a301ee3",
   "metadata": {},
   "source": [
    "# Chi-square Test\n",
    "Two Categorical Variables\n",
    "\n",
    "`Assumptions:`\n",
    "1. The observations should be independently randomly sampled from the population. This is also true of 2-sample t-tests, ANOVA, and Tukey. The purpose of this assumption is to ensure that the sample is representative of the population of interest.\n",
    "2. The categories of both variables must be mutually exclusive. In other words, individual observations should only fall into one category per variable. This means that for example categorical variables like “college major”, where students can have multiple different college majors, would not be appropriate for a Chi-Square test.\n",
    "3. The groups should be independent. Similar to 2-sample t-tests, ANOVA, and Tukey, a Chi-Square test also shouldn’t be used if either of the categorical variables splits observations into groups that can influence one another. For example, a Chi-Square test would not be appropriate if one of the variables represents three different time points."
   ]
  },
  {
   "cell_type": "code",
   "execution_count": null,
   "id": "ad1ae424",
   "metadata": {},
   "outputs": [],
   "source": [
    "df = pd.read_csv(\"dataset_files/ants_grade.csv\")\n",
    "df.sample(3)"
   ]
  },
  {
   "cell_type": "markdown",
   "id": "9071d3a6",
   "metadata": {},
   "source": [
    "#### Contingency table"
   ]
  },
  {
   "cell_type": "code",
   "execution_count": null,
   "id": "84fcaeed",
   "metadata": {},
   "outputs": [],
   "source": [
    "ct = pd.crosstab(df.Grade, df.Ant, margins=False)\n",
    "ct"
   ]
  },
  {
   "cell_type": "markdown",
   "id": "ad2bc026",
   "metadata": {},
   "source": [
    "#### Expected Value\n",
    "The more that the expected and observed tables differ, the more sure we can be that the variables are associated."
   ]
  },
  {
   "cell_type": "code",
   "execution_count": null,
   "id": "14288b36",
   "metadata": {},
   "outputs": [],
   "source": [
    "# e = (total_category_row)(total_categoty_column) / total_population\n",
    "# example for harvester and first\n",
    "(36) * (82) / 108"
   ]
  },
  {
   "cell_type": "code",
   "execution_count": null,
   "id": "fd25ac13",
   "metadata": {},
   "outputs": [],
   "source": [
    "# using chi2_contingency\n",
    "chi2, pval, dof, expected = chi2_contingency(ct)\n",
    "expected"
   ]
  },
  {
   "cell_type": "markdown",
   "id": "1ceb1088",
   "metadata": {},
   "source": [
    "#### Degree of Freedom"
   ]
  },
  {
   "cell_type": "code",
   "execution_count": null,
   "id": "755cfada",
   "metadata": {},
   "outputs": [],
   "source": [
    "# dof = (number of row - 1) (no. of column - 1) \n",
    "degree_of_freedom = (3-1) * (2-1)\n",
    "degree_of_freedom"
   ]
  },
  {
   "cell_type": "code",
   "execution_count": null,
   "id": "5c00a96e",
   "metadata": {},
   "outputs": [],
   "source": [
    "# using chi2_contingency\n",
    "dof"
   ]
  },
  {
   "attachments": {
    "chitable.png": {
     "image/png": "[encoded data removed]"
    }
   },
   "cell_type": "markdown",
   "id": "63c5505e",
   "metadata": {},
   "source": [
    "![chitable.png](attachment:chitable.png)"
   ]
  },
  {
   "cell_type": "markdown",
   "id": "b0d0d913",
   "metadata": {},
   "source": [
    "Critical Value is 5.991 at degree of freedom of 2 and alpha is at 0.05"
   ]
  },
  {
   "cell_type": "markdown",
   "id": "8f3a9d46",
   "metadata": {},
   "source": [
    "#### Chi Square Test\n",
    "a Chi-Square statistic larger than around 4 would strongly suggest an association between the variables."
   ]
  },
  {
   "cell_type": "code",
   "execution_count": null,
   "id": "ac50ab42",
   "metadata": {},
   "outputs": [],
   "source": [
    "# chi squared\n",
    "# chi = sum[(observed - expedted)**2  /  expected]\n",
    "# Instead of doing manual computation, I will just use the `chi2_contingency` to get the Chi score\n",
    "chi2"
   ]
  },
  {
   "cell_type": "markdown",
   "id": "39b8c213",
   "metadata": {},
   "source": [
    "Chi score is below the critical value (Rejected Region) thus we are failed to reject the null hypothesis. Ant type doesn't avary among grades."
   ]
  },
  {
   "cell_type": "markdown",
   "id": "67dcf4cf",
   "metadata": {},
   "source": [
    "#### Visualization"
   ]
  },
  {
   "cell_type": "code",
   "execution_count": null,
   "id": "3d6ae820",
   "metadata": {
    "code_folding": []
   },
   "outputs": [],
   "source": [
    "from scipy.stats import chi2\n",
    "#x-axis ranges from 0 to 20 with .001 steps\n",
    "x = np.arange(0, 7, 0.001)\n",
    "\n",
    "#define Chi-square distributions\n",
    "plt.plot(x, chi2.pdf(x, df=2), label='degree of freedom: 2')\n",
    "plt.axvline(5.991, linestyle='--', color='r', label='Critical Value at pval of 0.05')\n",
    "plt.axvline(4.96, linestyle='--', color='g', label='Chi-square test value')\n",
    "\n",
    "#add legend to plot\n",
    "plt.legend(loc='upper center')"
   ]
  },
  {
   "cell_type": "markdown",
   "id": "39bb699d",
   "metadata": {},
   "source": [
    "#### Using P-Value"
   ]
  },
  {
   "cell_type": "code",
   "execution_count": null,
   "id": "ba31917c",
   "metadata": {},
   "outputs": [],
   "source": [
    "# run Chi-Square test and print p-value\n",
    "chi2, pval, dof, expected = chi2_contingency(ct)\n",
    "pval"
   ]
  },
  {
   "cell_type": "markdown",
   "id": "92b0d18d",
   "metadata": {},
   "source": [
    "P-val is beyond our significant value(0.05), Also conculude that we are failed to reject the null hypothesis."
   ]
  },
  {
   "cell_type": "markdown",
   "id": "13bc154c",
   "metadata": {},
   "source": [
    "***"
   ]
  },
  {
   "cell_type": "markdown",
   "id": "6361099d",
   "metadata": {},
   "source": [
    "***"
   ]
  },
  {
   "cell_type": "markdown",
   "id": "3a285fd7",
   "metadata": {},
   "source": [
    "# A and B Test"
   ]
  },
  {
   "cell_type": "markdown",
   "id": "94220fcc",
   "metadata": {},
   "source": [
    "### Example 1"
   ]
  },
  {
   "cell_type": "markdown",
   "id": "263c28ac",
   "metadata": {},
   "source": [
    "This example will test weather veiwers will click/watch our recommended video base on the thumbnail image provided."
   ]
  },
  {
   "cell_type": "code",
   "execution_count": null,
   "id": "94451971",
   "metadata": {},
   "outputs": [],
   "source": [
    "df = pd.read_csv('dataset_files/AB_test.csv')\n",
    "print(df.shape)\n",
    "df.sample(2)"
   ]
  },
  {
   "cell_type": "markdown",
   "id": "f0c71a0d",
   "metadata": {},
   "source": [
    "#### Inpect the value counts for suggetion type category."
   ]
  },
  {
   "cell_type": "code",
   "execution_count": null,
   "id": "ed23739c",
   "metadata": {},
   "outputs": [],
   "source": [
    "ct = pd.crosstab(df.suggestion_type, df.Click_flag, margins=True)\n",
    "ct"
   ]
  },
  {
   "cell_type": "markdown",
   "id": "3605087b",
   "metadata": {},
   "source": [
    "#### Click Rate"
   ]
  },
  {
   "cell_type": "code",
   "execution_count": null,
   "id": "7003f789",
   "metadata": {},
   "outputs": [],
   "source": [
    "Click_rate_cuteFace = 117 / 375\n",
    "Click_rate_SexyBody = 130 / 336\n",
    "print(Click_rate_cuteFace)\n",
    "print(round(Click_rate_SexyBody,3))"
   ]
  },
  {
   "cell_type": "markdown",
   "id": "ea69be58",
   "metadata": {},
   "source": [
    "#### State the null and alternative hypothesis\n",
    "- Ho: There is no significant difference between the two thumbnails\n",
    "- Ha: There is a significant difference between the two thumbnails"
   ]
  },
  {
   "cell_type": "code",
   "execution_count": null,
   "id": "be242132",
   "metadata": {},
   "outputs": [],
   "source": [
    "# remove margin in our contingency so that our chi2_contingency will compute the correct values\n",
    "ct = pd.crosstab(df.suggestion_type, df.Click_flag)\n",
    "chi2, pval, dof, expected = chi2_contingency(ct)\n",
    "chi2, pval, dof,"
   ]
  },
  {
   "cell_type": "code",
   "execution_count": null,
   "id": "65c985c5",
   "metadata": {},
   "outputs": [],
   "source": [
    "chi2"
   ]
  },
  {
   "cell_type": "code",
   "execution_count": null,
   "id": "c94b6009",
   "metadata": {},
   "outputs": [],
   "source": [
    "from scipy.stats import chi2\n",
    "#x-axis ranges from 0 to 20 with .001 steps\n",
    "x = np.arange(0, 7, 0.001)\n",
    "\n",
    "#define Chi-square distributions\n",
    "plt.plot(x, chi2.pdf(x, df=dof), label='degree of freedom: ' + str(dof))\n",
    "plt.axvline(3.841, linestyle='--', color='r', label='Critical Value at pval of 0.05')\n",
    "plt.axvline(4.061, linestyle='--', color='g', label='Chi-square test value')\n",
    "\n",
    "#add legend to plot\n",
    "plt.legend(loc='upper center')"
   ]
  },
  {
   "cell_type": "markdown",
   "id": "eb5ea895",
   "metadata": {},
   "source": [
    "- Chi square test fall under the rejection area\n",
    "- P val is below our significant threshold\n",
    "- Reject the null hypothesis (Accept the Alternative), There is a significant difference between the two thumbnails thus we should use the sexy body thumbnails to attract more viewers."
   ]
  },
  {
   "cell_type": "markdown",
   "id": "7fde3ca3",
   "metadata": {},
   "source": [
    "***"
   ]
  },
  {
   "cell_type": "code",
   "execution_count": null,
   "id": "76b9ad18",
   "metadata": {},
   "outputs": [],
   "source": []
  }
 ],
 "metadata": {
  "kernelspec": {
   "display_name": "Python 3 (ipykernel)",
   "language": "python",
   "name": "python3"
  },
  "language_info": {
   "codemirror_mode": {
    "name": "ipython",
    "version": 3
   },
   "file_extension": ".py",
   "mimetype": "text/x-python",
   "name": "python",
   "nbconvert_exporter": "python",
   "pygments_lexer": "ipython3",
   "version": "3.8.13"
  }
 },
 "nbformat": 4,
 "nbformat_minor": 5
}
