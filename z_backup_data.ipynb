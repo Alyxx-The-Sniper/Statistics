{
 "cells": [
  {
   "cell_type": "markdown",
   "id": "7948e34e",
   "metadata": {},
   "source": [
    "# Anime Dataset 2022\n",
    "\n",
    "This Data is scrapped from [anime-planet.com](https://www.anime-planet.com/)\n",
    "which consists of 18495 rows and 17 columns.\n",
    "\n",
    "Datasource: [anime dataset](https://www.kaggle.com/datasets/vishalmane10/anime-dataset-2022?resource=download)"
   ]
  },
  {
   "cell_type": "markdown",
   "id": "d75b7a0c",
   "metadata": {},
   "source": [
    "### Importing packages and libraries "
   ]
  },
  {
   "cell_type": "code",
   "execution_count": 4,
   "id": "89773775",
   "metadata": {},
   "outputs": [],
   "source": [
    "import pandas as pd\n",
    "import numpy as np\n",
    "import matplotlib.pyplot as plt\n",
    "import seaborn as sns\n",
    "from scipy import stats"
   ]
  },
  {
   "cell_type": "markdown",
   "id": "1a04d76b",
   "metadata": {},
   "source": [
    "### Initial EDA"
   ]
  },
  {
   "cell_type": "code",
   "execution_count": 5,
   "id": "17550917",
   "metadata": {
    "scrolled": true
   },
   "outputs": [
    {
     "name": "stdout",
     "output_type": "stream",
     "text": [
      "(18495, 17)\n"
     ]
    },
    {
     "data": {
      "text/html": [
       "<div>\n",
       "<style scoped>\n",
       "    .dataframe tbody tr th:only-of-type {\n",
       "        vertical-align: middle;\n",
       "    }\n",
       "\n",
       "    .dataframe tbody tr th {\n",
       "        vertical-align: top;\n",
       "    }\n",
       "\n",
       "    .dataframe thead th {\n",
       "        text-align: right;\n",
       "    }\n",
       "</style>\n",
       "<table border=\"1\" class=\"dataframe\">\n",
       "  <thead>\n",
       "    <tr style=\"text-align: right;\">\n",
       "      <th></th>\n",
       "      <th>Rank</th>\n",
       "      <th>Name</th>\n",
       "      <th>Japanese_name</th>\n",
       "      <th>Type</th>\n",
       "      <th>Episodes</th>\n",
       "      <th>Studio</th>\n",
       "      <th>Release_season</th>\n",
       "      <th>Tags</th>\n",
       "      <th>Rating</th>\n",
       "      <th>Release_year</th>\n",
       "      <th>End_year</th>\n",
       "      <th>Description</th>\n",
       "      <th>Content_Warning</th>\n",
       "      <th>Related_Mange</th>\n",
       "      <th>Related_anime</th>\n",
       "      <th>Voice_actors</th>\n",
       "      <th>staff</th>\n",
       "    </tr>\n",
       "  </thead>\n",
       "  <tbody>\n",
       "    <tr>\n",
       "      <th>0</th>\n",
       "      <td>1</td>\n",
       "      <td>Demon Slayer: Kimetsu no Yaiba - Entertainment...</td>\n",
       "      <td>Kimetsu no Yaiba: Yuukaku-hen</td>\n",
       "      <td>TV</td>\n",
       "      <td>NaN</td>\n",
       "      <td>ufotable</td>\n",
       "      <td>Fall</td>\n",
       "      <td>Action, Adventure, Fantasy, Shounen, Demons, H...</td>\n",
       "      <td>4.6</td>\n",
       "      <td>2021.0</td>\n",
       "      <td>NaN</td>\n",
       "      <td>'Tanjiro and his friends accompany the Hashira...</td>\n",
       "      <td>Explicit Violence</td>\n",
       "      <td>Demon Slayer: Kimetsu no Yaiba</td>\n",
       "      <td>Demon Slayer: Kimetsu no Yaiba, Demon Slayer: ...</td>\n",
       "      <td>Inosuke Hashibira : Yoshitsugu Matsuoka, Nezuk...</td>\n",
       "      <td>Koyoharu Gotouge : Original Creator, Haruo Sot...</td>\n",
       "    </tr>\n",
       "  </tbody>\n",
       "</table>\n",
       "</div>"
      ],
      "text/plain": [
       "   Rank                                               Name  \\\n",
       "0     1  Demon Slayer: Kimetsu no Yaiba - Entertainment...   \n",
       "\n",
       "                    Japanese_name   Type  Episodes    Studio Release_season  \\\n",
       "0   Kimetsu no Yaiba: Yuukaku-hen  TV          NaN  ufotable          Fall    \n",
       "\n",
       "                                                Tags  Rating  Release_year  \\\n",
       "0  Action, Adventure, Fantasy, Shounen, Demons, H...     4.6        2021.0   \n",
       "\n",
       "   End_year                                        Description  \\\n",
       "0       NaN  'Tanjiro and his friends accompany the Hashira...   \n",
       "\n",
       "     Content_Warning                   Related_Mange  \\\n",
       "0  Explicit Violence  Demon Slayer: Kimetsu no Yaiba   \n",
       "\n",
       "                                       Related_anime  \\\n",
       "0  Demon Slayer: Kimetsu no Yaiba, Demon Slayer: ...   \n",
       "\n",
       "                                        Voice_actors  \\\n",
       "0  Inosuke Hashibira : Yoshitsugu Matsuoka, Nezuk...   \n",
       "\n",
       "                                               staff  \n",
       "0  Koyoharu Gotouge : Original Creator, Haruo Sot...  "
      ]
     },
     "execution_count": 5,
     "metadata": {},
     "output_type": "execute_result"
    }
   ],
   "source": [
    "# show all columns\n",
    "pd.set_option('display.max_columns', None)\n",
    "\n",
    "df = pd.read_csv('Anime.csv')\n",
    "print(df.shape)\n",
    "df.head(1)"
   ]
  },
  {
   "cell_type": "markdown",
   "id": "02da6be6",
   "metadata": {},
   "source": [
    "### General Information"
   ]
  },
  {
   "cell_type": "code",
   "execution_count": 3,
   "id": "9f0b8971",
   "metadata": {},
   "outputs": [
    {
     "name": "stdout",
     "output_type": "stream",
     "text": [
      "<class 'pandas.core.frame.DataFrame'>\n",
      "RangeIndex: 18495 entries, 0 to 18494\n",
      "Data columns (total 17 columns):\n",
      " #   Column           Non-Null Count  Dtype  \n",
      "---  ------           --------------  -----  \n",
      " 0   Rank             18495 non-null  int64  \n",
      " 1   Name             18495 non-null  object \n",
      " 2   Japanese_name    7938 non-null   object \n",
      " 3   Type             18495 non-null  object \n",
      " 4   Episodes         9501 non-null   float64\n",
      " 5   Studio           12018 non-null  object \n",
      " 6   Release_season   4116 non-null   object \n",
      " 7   Tags             18095 non-null  object \n",
      " 8   Rating           15364 non-null  float64\n",
      " 9   Release_year     18112 non-null  float64\n",
      " 10  End_year         2854 non-null   float64\n",
      " 11  Description      18491 non-null  object \n",
      " 12  Content_Warning  1840 non-null   object \n",
      " 13  Related_Mange    7627 non-null   object \n",
      " 14  Related_anime    10063 non-null  object \n",
      " 15  Voice_actors     15309 non-null  object \n",
      " 16  staff            13005 non-null  object \n",
      "dtypes: float64(4), int64(1), object(12)\n",
      "memory usage: 2.4+ MB\n"
     ]
    }
   ],
   "source": [
    "df.info()"
   ]
  },
  {
   "cell_type": "markdown",
   "id": "6673a10c",
   "metadata": {},
   "source": [
    "### EDA task:\n",
    "1. Check for duplicates\n",
    "2. Dealing with Nan values\n",
    "3. `Type` column should be in categorical datatype\n",
    "4. `Episodes` should be in integer datatype\n",
    "5. `Release_season` should be in categorical datatype\n",
    "6. `Release_year` should be in integer datatype\n",
    "7. `End_year` should be in integer datatype\n",
    "8. Data wraggling, Remove one episodes anime (we are only interested in a series type anime)\n"
   ]
  },
  {
   "cell_type": "markdown",
   "id": "4a56a144",
   "metadata": {},
   "source": [
    "### 1. Duplicates"
   ]
  },
  {
   "cell_type": "code",
   "execution_count": 4,
   "id": "bb7ab77a",
   "metadata": {},
   "outputs": [
    {
     "name": "stdout",
     "output_type": "stream",
     "text": [
      "False    18495\n",
      "dtype: int64\n",
      "18495\n"
     ]
    }
   ],
   "source": [
    "# observations that has exactly the same details as another row\n",
    "dups = df.duplicated()\n",
    "# count duplicates\n",
    "print(dups.value_counts())\n",
    "print(len(df))"
   ]
  },
  {
   "cell_type": "markdown",
   "id": "5b6a5844",
   "metadata": {},
   "source": [
    "We 18495 false result, exactly the same as our total number of rows. This means that theres no duplicated rows in our dataset."
   ]
  },
  {
   "cell_type": "markdown",
   "id": "8d34205c",
   "metadata": {},
   "source": [
    "### 2. Nan Values\n",
    "Checking null values and look for pattern why they became nulls."
   ]
  },
  {
   "cell_type": "code",
   "execution_count": 5,
   "id": "67069a8e",
   "metadata": {},
   "outputs": [
    {
     "data": {
      "text/plain": [
       "Rank                   0\n",
       "Name                   0\n",
       "Japanese_name      10557\n",
       "Type                   0\n",
       "Episodes            8994\n",
       "Studio              6477\n",
       "Release_season     14379\n",
       "Tags                 400\n",
       "Rating              3131\n",
       "Release_year         383\n",
       "End_year           15641\n",
       "Description            4\n",
       "Content_Warning    16655\n",
       "Related_Mange      10868\n",
       "Related_anime       8432\n",
       "Voice_actors        3186\n",
       "staff               5490\n",
       "dtype: int64"
      ]
     },
     "execution_count": 5,
     "metadata": {},
     "output_type": "execute_result"
    }
   ],
   "source": [
    "# check frequency of columns that has nan values\n",
    "df.isna().sum()"
   ]
  },
  {
   "cell_type": "code",
   "execution_count": 6,
   "id": "06245584",
   "metadata": {},
   "outputs": [
    {
     "data": {
      "text/plain": [
       "Rank                0.00\n",
       "Name                0.00\n",
       "Japanese_name      57.08\n",
       "Type                0.00\n",
       "Episodes           48.63\n",
       "Studio             35.02\n",
       "Release_season     77.75\n",
       "Tags                2.16\n",
       "Rating             16.93\n",
       "Release_year        2.07\n",
       "End_year           84.57\n",
       "Description         0.02\n",
       "Content_Warning    90.05\n",
       "Related_Mange      58.76\n",
       "Related_anime      45.59\n",
       "Voice_actors       17.23\n",
       "staff              29.68\n",
       "dtype: float64"
      ]
     },
     "execution_count": 6,
     "metadata": {},
     "output_type": "execute_result"
    }
   ],
   "source": [
    "# check proportion of columns that has nan values\n",
    "round(df.isna().sum() / len(df) * 100, 2) "
   ]
  },
  {
   "cell_type": "markdown",
   "id": "1fddebbe",
   "metadata": {},
   "source": [
    "### Handling missing values\n",
    "There are lot of nan values across every columns, however we may skip some of these columns that may not be needed in our anlysis.\n",
    "\n",
    "Let's inpect interesting columns that has missing values.\n",
    "\n",
    "1. `Episodes` MNAR (Missing Not at Random) there are still ongoing anime upon retrieving this dataset.\n",
    "2. `Rating` Structurally Missing Data, mostly low ranked anime has no rating\n",
    "3. `Release_year` and `End_Year` These two columns has similar inputs. Release_year is structurally missing to End_year thus if theres no record in Realease_year automatically theres no record in end_year."
   ]
  },
  {
   "cell_type": "markdown",
   "id": "b939dade",
   "metadata": {},
   "source": [
    "Here are the columns that were interested to deal with:\n",
    "1. `Episodes` theres a very high Nan values in this column, A good reason to drop however this column plays an important role in our analysis so I will convert the nulls into zero then I will create a seperate dataframe that has no nulls and zero."
   ]
  },
  {
   "cell_type": "code",
   "execution_count": 7,
   "id": "c09505e5",
   "metadata": {},
   "outputs": [],
   "source": [
    "# change null values to zero\n",
    "df['Episodes'].fillna(0, inplace=True)"
   ]
  },
  {
   "cell_type": "code",
   "execution_count": 8,
   "id": "028f3ccf",
   "metadata": {},
   "outputs": [],
   "source": [
    "# Create a seperate dataframe(null/zero value free)\n",
    "# We will use this df_E in our succeeding analysis\n",
    "df_E = df[df['Episodes'] != 0 ]"
   ]
  },
  {
   "cell_type": "markdown",
   "id": "707ccf89",
   "metadata": {},
   "source": [
    "2. `Rating`. Upon observation we have a lot of unrated anime starting from rank 901. Rank 901 onwards or we can say most low ranked anime don't have ratings."
   ]
  },
  {
   "cell_type": "code",
   "execution_count": 9,
   "id": "5fd8dad5",
   "metadata": {},
   "outputs": [
    {
     "data": {
      "text/html": [
       "<div>\n",
       "<style scoped>\n",
       "    .dataframe tbody tr th:only-of-type {\n",
       "        vertical-align: middle;\n",
       "    }\n",
       "\n",
       "    .dataframe tbody tr th {\n",
       "        vertical-align: top;\n",
       "    }\n",
       "\n",
       "    .dataframe thead th {\n",
       "        text-align: right;\n",
       "    }\n",
       "</style>\n",
       "<table border=\"1\" class=\"dataframe\">\n",
       "  <thead>\n",
       "    <tr style=\"text-align: right;\">\n",
       "      <th></th>\n",
       "      <th>Rank</th>\n",
       "      <th>Name</th>\n",
       "      <th>Japanese_name</th>\n",
       "      <th>Type</th>\n",
       "      <th>Episodes</th>\n",
       "      <th>Studio</th>\n",
       "      <th>Release_season</th>\n",
       "      <th>Tags</th>\n",
       "      <th>Rating</th>\n",
       "      <th>Release_year</th>\n",
       "      <th>End_year</th>\n",
       "      <th>Description</th>\n",
       "      <th>Content_Warning</th>\n",
       "      <th>Related_Mange</th>\n",
       "      <th>Related_anime</th>\n",
       "      <th>Voice_actors</th>\n",
       "      <th>staff</th>\n",
       "    </tr>\n",
       "  </thead>\n",
       "  <tbody>\n",
       "    <tr>\n",
       "      <th>900</th>\n",
       "      <td>901</td>\n",
       "      <td>ID:INVADED</td>\n",
       "      <td>NaN</td>\n",
       "      <td>TV</td>\n",
       "      <td>13.0</td>\n",
       "      <td>NAZ</td>\n",
       "      <td>Winter</td>\n",
       "      <td>Mystery, Sci Fi, Detectives, Psychological, Ps...</td>\n",
       "      <td>NaN</td>\n",
       "      <td>2020.0</td>\n",
       "      <td>NaN</td>\n",
       "      <td>'Sakaido was a famous and very talented detect...</td>\n",
       "      <td>Explicit Violence,, Mature Themes,, Suicide</td>\n",
       "      <td>ID: INVADED #BRAKE BROKEN</td>\n",
       "      <td>Sou: Mr. Fixer</td>\n",
       "      <td>Koharu Hondomachi : M.A.O., Sakaido : Kenjirou...</td>\n",
       "      <td>Ei Aoki : Director &amp; Episode Director &amp; Storyb...</td>\n",
       "    </tr>\n",
       "    <tr>\n",
       "      <th>901</th>\n",
       "      <td>902</td>\n",
       "      <td>GaoGaiGar Final</td>\n",
       "      <td>Yuusha-Oh GaoGaiGar Final</td>\n",
       "      <td>OVA</td>\n",
       "      <td>8.0</td>\n",
       "      <td>Sunrise</td>\n",
       "      <td>NaN</td>\n",
       "      <td>Action, Adventure, Mecha, Sci Fi, Aliens, Comb...</td>\n",
       "      <td>NaN</td>\n",
       "      <td>2000.0</td>\n",
       "      <td>2003.0</td>\n",
       "      <td>'With the 31 Primevals defeated and their sini...</td>\n",
       "      <td>NaN</td>\n",
       "      <td>King of Braves GaoGaiGar FINAL the COMIC, Haka...</td>\n",
       "      <td>GaoGaiGar, Betterman, GaoGaiGar FINAL Grand Gl...</td>\n",
       "      <td>Guy Shishiou : Nobuyuki Hiyama, Ikumi Kaidou :...</td>\n",
       "      <td>Yoshitomo Yonetani : Chief Director, Kouhei Ta...</td>\n",
       "    </tr>\n",
       "  </tbody>\n",
       "</table>\n",
       "</div>"
      ],
      "text/plain": [
       "     Rank             Name               Japanese_name   Type  Episodes  \\\n",
       "900   901       ID:INVADED                         NaN  TV         13.0   \n",
       "901   902  GaoGaiGar Final   Yuusha-Oh GaoGaiGar Final  OVA         8.0   \n",
       "\n",
       "      Studio Release_season  \\\n",
       "900      NAZ         Winter   \n",
       "901  Sunrise            NaN   \n",
       "\n",
       "                                                  Tags  Rating  Release_year  \\\n",
       "900  Mystery, Sci Fi, Detectives, Psychological, Ps...     NaN        2020.0   \n",
       "901  Action, Adventure, Mecha, Sci Fi, Aliens, Comb...     NaN        2000.0   \n",
       "\n",
       "     End_year                                        Description  \\\n",
       "900       NaN  'Sakaido was a famous and very talented detect...   \n",
       "901    2003.0  'With the 31 Primevals defeated and their sini...   \n",
       "\n",
       "                                 Content_Warning  \\\n",
       "900  Explicit Violence,, Mature Themes,, Suicide   \n",
       "901                                          NaN   \n",
       "\n",
       "                                         Related_Mange  \\\n",
       "900                          ID: INVADED #BRAKE BROKEN   \n",
       "901  King of Braves GaoGaiGar FINAL the COMIC, Haka...   \n",
       "\n",
       "                                         Related_anime  \\\n",
       "900                                     Sou: Mr. Fixer   \n",
       "901  GaoGaiGar, Betterman, GaoGaiGar FINAL Grand Gl...   \n",
       "\n",
       "                                          Voice_actors  \\\n",
       "900  Koharu Hondomachi : M.A.O., Sakaido : Kenjirou...   \n",
       "901  Guy Shishiou : Nobuyuki Hiyama, Ikumi Kaidou :...   \n",
       "\n",
       "                                                 staff  \n",
       "900  Ei Aoki : Director & Episode Director & Storyb...  \n",
       "901  Yoshitomo Yonetani : Chief Director, Kouhei Ta...  "
      ]
     },
     "execution_count": 9,
     "metadata": {},
     "output_type": "execute_result"
    }
   ],
   "source": [
    "df[df['Rating'].isna()].sort_values(by=['Rank']).head(2)"
   ]
  },
  {
   "cell_type": "markdown",
   "id": "d2396697",
   "metadata": {},
   "source": [
    "3. `Release_year` and `End_year`. Lets see how similar these two columns."
   ]
  },
  {
   "cell_type": "code",
   "execution_count": 10,
   "id": "3cbebecb",
   "metadata": {},
   "outputs": [
    {
     "data": {
      "text/html": [
       "<div>\n",
       "<style scoped>\n",
       "    .dataframe tbody tr th:only-of-type {\n",
       "        vertical-align: middle;\n",
       "    }\n",
       "\n",
       "    .dataframe tbody tr th {\n",
       "        vertical-align: top;\n",
       "    }\n",
       "\n",
       "    .dataframe thead th {\n",
       "        text-align: right;\n",
       "    }\n",
       "</style>\n",
       "<table border=\"1\" class=\"dataframe\">\n",
       "  <thead>\n",
       "    <tr style=\"text-align: right;\">\n",
       "      <th></th>\n",
       "      <th>Rank</th>\n",
       "      <th>Name</th>\n",
       "      <th>Japanese_name</th>\n",
       "      <th>Type</th>\n",
       "      <th>Episodes</th>\n",
       "      <th>Studio</th>\n",
       "      <th>Release_season</th>\n",
       "      <th>Tags</th>\n",
       "      <th>Rating</th>\n",
       "      <th>Release_year</th>\n",
       "      <th>End_year</th>\n",
       "      <th>Description</th>\n",
       "      <th>Content_Warning</th>\n",
       "      <th>Related_Mange</th>\n",
       "      <th>Related_anime</th>\n",
       "      <th>Voice_actors</th>\n",
       "      <th>staff</th>\n",
       "    </tr>\n",
       "  </thead>\n",
       "  <tbody>\n",
       "    <tr>\n",
       "      <th>1310</th>\n",
       "      <td>1311</td>\n",
       "      <td>Unbelievable Space Love</td>\n",
       "      <td>NaN</td>\n",
       "      <td>Web</td>\n",
       "      <td>10.0</td>\n",
       "      <td>NaN</td>\n",
       "      <td>NaN</td>\n",
       "      <td>BL, Romance, Shounen-ai, Dream World, Korean A...</td>\n",
       "      <td>3.91</td>\n",
       "      <td>NaN</td>\n",
       "      <td>NaN</td>\n",
       "      <td>'No synopsis yet - check back soon!'</td>\n",
       "      <td>NaN</td>\n",
       "      <td>NaN</td>\n",
       "      <td>NaN</td>\n",
       "      <td>A.I., Pilot, Ppungppangkkyu\\nDirector</td>\n",
       "      <td>Ppungppangkkyu : Director</td>\n",
       "    </tr>\n",
       "    <tr>\n",
       "      <th>3367</th>\n",
       "      <td>3368</td>\n",
       "      <td>Manga Hajimete Omoshiro Juku OVA</td>\n",
       "      <td>NaN</td>\n",
       "      <td>OVA</td>\n",
       "      <td>4.0</td>\n",
       "      <td>NaN</td>\n",
       "      <td>NaN</td>\n",
       "      <td>Family Friendly, Recap</td>\n",
       "      <td>3.63</td>\n",
       "      <td>NaN</td>\n",
       "      <td>NaN</td>\n",
       "      <td>'No synopsis yet - check back soon!'</td>\n",
       "      <td>NaN</td>\n",
       "      <td>NaN</td>\n",
       "      <td>Manga Hajimete Monogatari OVA, Manga Hajimete ...</td>\n",
       "      <td>NaN</td>\n",
       "      <td>NaN</td>\n",
       "    </tr>\n",
       "    <tr>\n",
       "      <th>4742</th>\n",
       "      <td>4743</td>\n",
       "      <td>Xing Mao Lixian Ji Zhi Shufa Pian</td>\n",
       "      <td>NaN</td>\n",
       "      <td>TV</td>\n",
       "      <td>26.0</td>\n",
       "      <td>NaN</td>\n",
       "      <td>NaN</td>\n",
       "      <td>Adventure, Animal Protagonists, Anthropomorphi...</td>\n",
       "      <td>3.53</td>\n",
       "      <td>NaN</td>\n",
       "      <td>NaN</td>\n",
       "      <td>'No synopsis yet - check back soon!'</td>\n",
       "      <td>NaN</td>\n",
       "      <td>NaN</td>\n",
       "      <td>NaN</td>\n",
       "      <td>Star Cat</td>\n",
       "      <td>NaN</td>\n",
       "    </tr>\n",
       "  </tbody>\n",
       "</table>\n",
       "</div>"
      ],
      "text/plain": [
       "      Rank                               Name Japanese_name   Type  Episodes  \\\n",
       "1310  1311            Unbelievable Space Love           NaN  Web        10.0   \n",
       "3367  3368   Manga Hajimete Omoshiro Juku OVA           NaN  OVA         4.0   \n",
       "4742  4743  Xing Mao Lixian Ji Zhi Shufa Pian           NaN  TV         26.0   \n",
       "\n",
       "     Studio Release_season                                               Tags  \\\n",
       "1310    NaN            NaN  BL, Romance, Shounen-ai, Dream World, Korean A...   \n",
       "3367    NaN            NaN                             Family Friendly, Recap   \n",
       "4742    NaN            NaN  Adventure, Animal Protagonists, Anthropomorphi...   \n",
       "\n",
       "      Rating  Release_year  End_year                           Description  \\\n",
       "1310    3.91           NaN       NaN  'No synopsis yet - check back soon!'   \n",
       "3367    3.63           NaN       NaN  'No synopsis yet - check back soon!'   \n",
       "4742    3.53           NaN       NaN  'No synopsis yet - check back soon!'   \n",
       "\n",
       "     Content_Warning Related_Mange  \\\n",
       "1310             NaN           NaN   \n",
       "3367             NaN           NaN   \n",
       "4742             NaN           NaN   \n",
       "\n",
       "                                          Related_anime  \\\n",
       "1310                                                NaN   \n",
       "3367  Manga Hajimete Monogatari OVA, Manga Hajimete ...   \n",
       "4742                                                NaN   \n",
       "\n",
       "                               Voice_actors                      staff  \n",
       "1310  A.I., Pilot, Ppungppangkkyu\\nDirector  Ppungppangkkyu : Director  \n",
       "3367                                    NaN                        NaN  \n",
       "4742                               Star Cat                        NaN  "
      ]
     },
     "execution_count": 10,
     "metadata": {},
     "output_type": "execute_result"
    }
   ],
   "source": [
    "# creating variable for only nan values in Release_year column\n",
    "df_releaseYear_nan = df[df['Release_year'].isna()]\n",
    "df_releaseYear_nan.head(3)"
   ]
  },
  {
   "cell_type": "markdown",
   "id": "b4270197",
   "metadata": {},
   "source": [
    "Comparing the similarity of Release_year to End_year column."
   ]
  },
  {
   "cell_type": "code",
   "execution_count": 11,
   "id": "ad365944",
   "metadata": {},
   "outputs": [
    {
     "name": "stdout",
     "output_type": "stream",
     "text": [
      "383\n"
     ]
    },
    {
     "data": {
      "text/plain": [
       "15641"
      ]
     },
     "execution_count": 11,
     "metadata": {},
     "output_type": "execute_result"
    }
   ],
   "source": [
    "# Total null in Release_year and End_year\n",
    "print(len(df[df['Release_year'].isna()]))\n",
    "len(df[df['End_year'].isna()])"
   ]
  },
  {
   "cell_type": "code",
   "execution_count": 12,
   "id": "0566ba9a",
   "metadata": {},
   "outputs": [
    {
     "data": {
      "text/plain": [
       "True"
      ]
     },
     "execution_count": 12,
     "metadata": {},
     "output_type": "execute_result"
    }
   ],
   "source": [
    "# check if Release_year nulls is equal in End_year \n",
    "df_releaseYear_nan['Release_year'].equals(df_releaseYear_nan['End_year'])"
   ]
  },
  {
   "cell_type": "markdown",
   "id": "57b594f7",
   "metadata": {},
   "source": [
    "### Replace nulls in multiple columns\n",
    "Replacing all the nulls in Rating, Release_year and End_year column."
   ]
  },
  {
   "cell_type": "code",
   "execution_count": 13,
   "id": "7b7096a0",
   "metadata": {},
   "outputs": [],
   "source": [
    "def replace_null(df, lst):\n",
    "    df[lst] = df[lst].fillna(0)"
   ]
  },
  {
   "cell_type": "code",
   "execution_count": 14,
   "id": "9e63c577",
   "metadata": {},
   "outputs": [],
   "source": [
    "replace_null(df, ['Rating', 'Release_year', 'End_year'])"
   ]
  },
  {
   "cell_type": "code",
   "execution_count": 15,
   "id": "ab56af94",
   "metadata": {},
   "outputs": [
    {
     "data": {
      "text/plain": [
       "Episodes        0\n",
       "Rating          0\n",
       "Release_year    0\n",
       "End_year        0\n",
       "dtype: int64"
      ]
     },
     "execution_count": 15,
     "metadata": {},
     "output_type": "execute_result"
    }
   ],
   "source": [
    "# verify\n",
    "df[['Episodes', 'Rating', 'Release_year', 'End_year']].isna().sum()"
   ]
  },
  {
   "cell_type": "markdown",
   "id": "8d9cd727",
   "metadata": {},
   "source": [
    "### 3-7. Changing data types"
   ]
  },
  {
   "cell_type": "code",
   "execution_count": 16,
   "id": "7b6a9efe",
   "metadata": {},
   "outputs": [],
   "source": [
    "# fucntion to change column datatype\n",
    "def change_type(dataframe, lst, dtype):\n",
    "    for i in lst:\n",
    "        dataframe[i] = dataframe[i].astype(dtype)  "
   ]
  },
  {
   "cell_type": "code",
   "execution_count": 17,
   "id": "fe9d8b9b",
   "metadata": {},
   "outputs": [],
   "source": [
    "# variables\n",
    "to_cat = ['Type', 'Release_season']\n",
    "to_int = ['Episodes', 'Release_year', 'End_year']"
   ]
  },
  {
   "cell_type": "code",
   "execution_count": 18,
   "id": "f81db0de",
   "metadata": {},
   "outputs": [],
   "source": [
    "# function call\n",
    "change_type(df, to_cat, 'category')\n",
    "change_type(df, to_int, 'int64')"
   ]
  },
  {
   "cell_type": "code",
   "execution_count": 19,
   "id": "0722671f",
   "metadata": {},
   "outputs": [
    {
     "name": "stdout",
     "output_type": "stream",
     "text": [
      "<class 'pandas.core.frame.DataFrame'>\n",
      "RangeIndex: 18495 entries, 0 to 18494\n",
      "Data columns (total 5 columns):\n",
      " #   Column          Non-Null Count  Dtype   \n",
      "---  ------          --------------  -----   \n",
      " 0   Type            18495 non-null  category\n",
      " 1   Release_season  4116 non-null   category\n",
      " 2   Episodes        18495 non-null  int64   \n",
      " 3   Release_year    18495 non-null  int64   \n",
      " 4   End_year        18495 non-null  int64   \n",
      "dtypes: category(2), int64(3)\n",
      "memory usage: 470.3 KB\n"
     ]
    }
   ],
   "source": [
    "# Verify\n",
    "df[['Type', 'Release_season', 'Episodes', 'Release_year', 'End_year']].info()"
   ]
  },
  {
   "cell_type": "markdown",
   "id": "0ae9098a",
   "metadata": {},
   "source": [
    "### 8. Drop Datapoint that has only one episode \n",
    "Most of one episodes anime are OVA's and Movies/WEB. We are only interested in a series anime.\n",
    "We will use the df_E dataframe for this method. "
   ]
  },
  {
   "cell_type": "code",
   "execution_count": 20,
   "id": "71e01077",
   "metadata": {},
   "outputs": [
    {
     "data": {
      "text/html": [
       "<div>\n",
       "<style scoped>\n",
       "    .dataframe tbody tr th:only-of-type {\n",
       "        vertical-align: middle;\n",
       "    }\n",
       "\n",
       "    .dataframe tbody tr th {\n",
       "        vertical-align: top;\n",
       "    }\n",
       "\n",
       "    .dataframe thead th {\n",
       "        text-align: right;\n",
       "    }\n",
       "</style>\n",
       "<table border=\"1\" class=\"dataframe\">\n",
       "  <thead>\n",
       "    <tr style=\"text-align: right;\">\n",
       "      <th></th>\n",
       "      <th>Episodes</th>\n",
       "    </tr>\n",
       "    <tr>\n",
       "      <th>Type</th>\n",
       "      <th></th>\n",
       "    </tr>\n",
       "  </thead>\n",
       "  <tbody>\n",
       "    <tr>\n",
       "      <th>DVD S</th>\n",
       "      <td>0</td>\n",
       "    </tr>\n",
       "    <tr>\n",
       "      <th>Movie</th>\n",
       "      <td>0</td>\n",
       "    </tr>\n",
       "    <tr>\n",
       "      <th>Music</th>\n",
       "      <td>0</td>\n",
       "    </tr>\n",
       "    <tr>\n",
       "      <th>OVA</th>\n",
       "      <td>1220</td>\n",
       "    </tr>\n",
       "    <tr>\n",
       "      <th>Other</th>\n",
       "      <td>0</td>\n",
       "    </tr>\n",
       "    <tr>\n",
       "      <th>TV</th>\n",
       "      <td>0</td>\n",
       "    </tr>\n",
       "    <tr>\n",
       "      <th>TV Sp</th>\n",
       "      <td>0</td>\n",
       "    </tr>\n",
       "    <tr>\n",
       "      <th>Web</th>\n",
       "      <td>965</td>\n",
       "    </tr>\n",
       "  </tbody>\n",
       "</table>\n",
       "</div>"
      ],
      "text/plain": [
       "       Episodes\n",
       "Type           \n",
       "DVD S         0\n",
       "Movie         0\n",
       "Music         0\n",
       "OVA        1220\n",
       "Other         0\n",
       "TV            0\n",
       "TV Sp         0\n",
       "Web         965"
      ]
     },
     "execution_count": 20,
     "metadata": {},
     "output_type": "execute_result"
    }
   ],
   "source": [
    "# Verify\n",
    "\n",
    "# dataset that has 1 episode only\n",
    "df_E_1 = df[df['Episodes']==1]\n",
    "df_E_1[['Type','Episodes']].groupby('Type').count()"
   ]
  },
  {
   "cell_type": "markdown",
   "id": "511898b8",
   "metadata": {},
   "source": [
    "As expected, most one episode data is comming from OVA's and Web"
   ]
  },
  {
   "cell_type": "code",
   "execution_count": 21,
   "id": "5f80df5c",
   "metadata": {},
   "outputs": [],
   "source": [
    "# df_E without one episode\n",
    "df_E = df_E[df_E['Episodes']!=1]"
   ]
  },
  {
   "cell_type": "code",
   "execution_count": 22,
   "id": "250b0631",
   "metadata": {},
   "outputs": [
    {
     "name": "stdout",
     "output_type": "stream",
     "text": [
      "0\n"
     ]
    },
    {
     "data": {
      "text/plain": [
       "0"
      ]
     },
     "execution_count": 22,
     "metadata": {},
     "output_type": "execute_result"
    }
   ],
   "source": [
    "# verify\n",
    "# Droping one episode anime(this is mostly OVA's and movies)\n",
    "\n",
    "# df_E_clean will be our dataframe free from nulls and zero value\n",
    "df_E_clean= df_E[df_E['Episodes'] != 1 ]\n",
    "\n",
    "print(len(df_E_clean[df_E_clean['Episodes']==0]))\n",
    "len(df_E_clean[df_E_clean['Episodes']==1])"
   ]
  },
  {
   "cell_type": "markdown",
   "id": "cd8ec93d",
   "metadata": {},
   "source": [
    "#### Now that we have a clean `Episodes` column stores in a `df_E` variable, we can now proceed to perform statistical analyst to it."
   ]
  },
  {
   "cell_type": "markdown",
   "id": "2215c17f",
   "metadata": {},
   "source": [
    "***"
   ]
  },
  {
   "cell_type": "markdown",
   "id": "af4cf5e5",
   "metadata": {},
   "source": [
    "# Statistical Analysis"
   ]
  },
  {
   "cell_type": "markdown",
   "id": "5a0f495a",
   "metadata": {},
   "source": [
    "## 1. Summary Statistic (for numerical variables)"
   ]
  },
  {
   "cell_type": "markdown",
   "id": "fec8a409",
   "metadata": {},
   "source": [
    "Checking the Summary statistic for the Episodes column in our seperate dataframe(`df_E`)\n",
    "\n",
    "Statistical tools:\n",
    "(mean, median, mode, standard deviation, kurtosis, skewness, range, min, max, sum, and count)"
   ]
  },
  {
   "cell_type": "markdown",
   "id": "56f86fa5",
   "metadata": {},
   "source": [
    "### Central Tendency \n",
    "Mean, Meadian, Mode, IQR, etc."
   ]
  },
  {
   "cell_type": "code",
   "execution_count": 23,
   "id": "f54c8463",
   "metadata": {},
   "outputs": [
    {
     "data": {
      "text/plain": [
       "count    7316.000000\n",
       "mean       26.870421\n",
       "std        41.478712\n",
       "min         2.000000\n",
       "25%        12.000000\n",
       "50%        13.000000\n",
       "75%        26.000000\n",
       "max       800.000000\n",
       "Name: Episodes, dtype: float64"
      ]
     },
     "execution_count": 23,
     "metadata": {},
     "output_type": "execute_result"
    },
    {
     "data": {
      "image/png": "[encoded data removed]",
      "text/plain": [
       "<Figure size 1000x500 with 2 Axes>"
      ]
     },
     "metadata": {},
     "output_type": "display_data"
    }
   ],
   "source": [
    "# Visualization\n",
    "\n",
    "plt.figure(figsize=(10, 5)) \n",
    "\n",
    "ax1 = plt.subplot(1,2,1)\n",
    "ax1 = sns.histplot(df_E.Episodes, kde=True)\n",
    "# ax1 = plt.ylim(0,50)\n",
    "ax1 = plt.axvline(df_E.Episodes.mean(), color='r', linestyle='--', label= 'mean')\n",
    "ax1 =  plt.legend()\n",
    "\n",
    "# Zoom in \n",
    "ax2 = plt.subplot(1,2,2)\n",
    "ax2 = sns.histplot(df_E.Episodes, kde=True)\n",
    "ax2 = plt.xlim(-5,80)\n",
    "ax2 = plt.ylim(0,1500)\n",
    "ax2 = plt.title('Zoom in view')\n",
    "\n",
    "ax2 = plt.axvline(df_E.Episodes.mean(), color='r', linestyle='--', label= 'mean')\n",
    "ax2 = plt.axvline(df_E.Episodes.median(), color='r', linestyle='-', label= 'median')\n",
    "ax2 = plt.axvline(df_E.Episodes.quantile(0.25), color='b', linestyle='--', label= 'q1')\n",
    "ax2 = plt.axvline(df_E.Episodes.quantile(0.75), color='y', linestyle='--', label= 'q3')\n",
    "ax2 = plt.legend()\n",
    "\n",
    "df_E.Episodes.describe()"
   ]
  },
  {
   "cell_type": "code",
   "execution_count": 24,
   "id": "5efdb6f7",
   "metadata": {},
   "outputs": [
    {
     "data": {
      "text/plain": [
       "12.0    1560\n",
       "13.0     802\n",
       "26.0     716\n",
       "2.0      424\n",
       "52.0     347\n",
       "Name: Episodes, dtype: int64"
      ]
     },
     "execution_count": 24,
     "metadata": {},
     "output_type": "execute_result"
    }
   ],
   "source": [
    "# Check the most frequent (mode) number of episodes\n",
    "df_E.Episodes.value_counts().head(5)"
   ]
  },
  {
   "cell_type": "markdown",
   "id": "ebde12fd",
   "metadata": {},
   "source": [
    "Histogram shows a severely right skewed distribution which indicate that the mean is greater than the median. The mean overestimates the most common values in a positively skewed distribution. Positive outliers are pulling the value of mean higher.\n",
    "\n",
    "-  median is usually preferred measures of central tendency when the dataset is skewed"
   ]
  },
  {
   "cell_type": "markdown",
   "id": "58840a59",
   "metadata": {},
   "source": [
    "### Kurtosis and Skewness\n",
    "\n",
    "#### 1. Skewness is a measure of asymmetry of a distribution. \n",
    "\n",
    "`Notes:`\n",
    "- between -0.5 and 0.5, fairly symmetrical\n",
    "- between -1 and -0.5 or between 0.5 and 1, moderately skewed\n",
    "- less than -1 or greater than 1 highly skewed\n",
    "\n",
    "#### 2. kurtosis determines the heaviness of the distribution tails. Determine the volume of the outlier.\n",
    "\n",
    "- If the distribution is tall and thin it is called a leptokurtic distribution(`Kurtosis > 3`). Values in a leptokurtic distribution are near the mean or at the extremes.\n",
    "- A flat distribution where the values are moderately spread out is called platykurtic(`Kurtosis <3`) distribution.\n",
    "- A distribution whose shape is in between a leptokurtic distribution and a platykurtic distribution is called a mesokurtic(`Kurtosis=3`) distribution. A mesokurtic distribution looks more close to a normal distribution.\n",
    "\n",
    "`Notes:`\n",
    "- High kurtosis in a df set is an indicator that df has heavy outliers.\n",
    "- Low kurtosis in a df set is an indicator that df has lack of outliers."
   ]
  },
  {
   "cell_type": "code",
   "execution_count": 25,
   "id": "6961416e",
   "metadata": {},
   "outputs": [
    {
     "data": {
      "text/plain": [
       "7.814242675531126"
      ]
     },
     "execution_count": 25,
     "metadata": {},
     "output_type": "execute_result"
    }
   ],
   "source": [
    "df_E.Episodes.skew()"
   ]
  },
  {
   "cell_type": "code",
   "execution_count": 26,
   "id": "4e3d249d",
   "metadata": {},
   "outputs": [
    {
     "data": {
      "text/plain": [
       "95.86590438162122"
      ]
     },
     "execution_count": 26,
     "metadata": {},
     "output_type": "execute_result"
    }
   ],
   "source": [
    "df_E.Episodes.kurt()"
   ]
  },
  {
   "cell_type": "markdown",
   "id": "51ccd5e9",
   "metadata": {},
   "source": [
    "- Distribution are highly skewed to the right and leptokurtic. \n",
    "- Distribution is very tall and thin.  \n",
    "- There also are lots of outliers."
   ]
  },
  {
   "cell_type": "markdown",
   "id": "08181ed7",
   "metadata": {},
   "source": [
    "# Dealing with outliers\n",
    "\n",
    "First let's define what is outliers first. Outliers are the data points that are extremely differ from the other observations. In a boxplot outliers are the datapoints beyond the lower and upper whisker. \n",
    "\n",
    "There's a lot of technique on how to identify the outliers, However the hardest part is the decision making on what to do with them. Unfortunately, there is no straightforward “best” solution for dealing with outliers \"NO Free Lunch\" because it depends on the severity of outliers and the goals of the analysis.\n",
    "\n",
    "Remember, sometimes leaving out the outliers in the data is acceptable and other times they can negatively impact analysis and modeling so they should be dealt with by feature engineering. It all depends on the goals of the analysis and the severity of the outliers.\n",
    "\n",
    "\n",
    "#### Some of the technique for dealing outliers:\n",
    "1. Using IQR\n",
    "2. Tream_mean from scipy.stats\n",
    "3. Using  Domain Knowledge (knowledge on the dataset topics)"
   ]
  },
  {
   "cell_type": "markdown",
   "id": "a39647ea",
   "metadata": {},
   "source": [
    "Understanding boxplot. Below are reference for boxplot details"
   ]
  },
  {
   "attachments": {
    "image.png": {
     "image/png": "[encoded data removed]"
    }
   },
   "cell_type": "markdown",
   "id": "6c7a7645",
   "metadata": {},
   "source": [
    "![image.png](attachment:image.png)"
   ]
  },
  {
   "cell_type": "code",
   "execution_count": 27,
   "id": "2e2ef41b",
   "metadata": {},
   "outputs": [],
   "source": [
    "from scipy.stats import iqr"
   ]
  },
  {
   "cell_type": "code",
   "execution_count": 28,
   "id": "15ea5d7b",
   "metadata": {},
   "outputs": [],
   "source": [
    "# Getting statistical parameters manually\n",
    "q1 = df_E.Episodes.quantile(0.25)\n",
    "q3 = df_E.Episodes.quantile(0.75)\n",
    "iqr = iqr(df_E.Episodes)\n",
    "upper_whisker = q3 + (1.5*iqr)\n",
    "lower_whisker = q1 - (1.5*iqr)\n",
    "mean = round(df_E.Episodes.mean(),2)\n",
    "median = df_E.Episodes.median()"
   ]
  },
  {
   "cell_type": "code",
   "execution_count": 29,
   "id": "30b38ef6",
   "metadata": {},
   "outputs": [
    {
     "name": "stdout",
     "output_type": "stream",
     "text": [
      "iqr: 14.0\n",
      "lower whisker: -9.0\n",
      "median: 13.0\n",
      "mean: 26.87\n",
      "upper whisker: 47.0\n",
      "q1: 12.0\n",
      "q3: 26.0\n"
     ]
    },
    {
     "data": {
      "image/png": "[encoded data removed]",
      "text/plain": [
       "<Figure size 1000x500 with 2 Axes>"
      ]
     },
     "metadata": {},
     "output_type": "display_data"
    }
   ],
   "source": [
    "# Boxplot\n",
    "plt.figure(figsize=(10, 5)) \n",
    "\n",
    "ax1 = plt.subplot(1,2,1)\n",
    "ax1 = sns.boxplot(x= df_E.Episodes)\n",
    "ax1 = plt.title('df_E Episodes boxplot')\n",
    "\n",
    "ax2 = plt.subplot(1,2,2)\n",
    "ax2 = plt.title('Zoom in view')\n",
    "ax2 = sns.boxplot(x= df_E.Episodes)\n",
    "ax2 = plt.xlim(-40, 75)\n",
    "\n",
    "print('iqr:', iqr)\n",
    "print('lower whisker:', lower_whisker)\n",
    "print('median:', median)\n",
    "print('mean:', mean)\n",
    "print('upper whisker:', upper_whisker)\n",
    "print('q1:', q1)\n",
    "print('q3:', q3)"
   ]
  },
  {
   "cell_type": "code",
   "execution_count": 30,
   "id": "adb1066b",
   "metadata": {},
   "outputs": [],
   "source": [
    "# function to count outliers\n",
    "def countoutliers(df, column_name = \"\"):\n",
    "        iqr = df[column_name].quantile(.75) - df[column_name].quantile(.25)\n",
    "        lowerbound = (df[column_name].quantile(.25)) - iqr * 1.5\n",
    "        upperbound = (df[column_name].quantile(.75)) + iqr * 1.5\n",
    "        lowerbound_outliers = df[df[column_name] < lowerbound]\n",
    "        higherbound_outliers = df[df[column_name] > upperbound]\n",
    "        outliers = pd.concat([lowerbound_outliers,higherbound_outliers])\n",
    "        count = len(outliers)\n",
    "        return {column_name : count}"
   ]
  },
  {
   "cell_type": "code",
   "execution_count": 31,
   "id": "ba6fa076",
   "metadata": {},
   "outputs": [
    {
     "data": {
      "text/plain": [
       "Index(['Rank', 'Episodes', 'Rating', 'Release_year', 'End_year'], dtype='object')"
      ]
     },
     "execution_count": 31,
     "metadata": {},
     "output_type": "execute_result"
    }
   ],
   "source": [
    "# create a variable that stores numeric columns only\n",
    "df_E_N = df_E.select_dtypes(include='number')\n",
    "df_E_N.columns"
   ]
  },
  {
   "cell_type": "markdown",
   "id": "2dbacf7b",
   "metadata": {},
   "source": [
    "### Outliers count\n",
    "Right now we are only interested in the Episode column. For the demonstration purpose I included all numeric column in detectecting outliers percentage."
   ]
  },
  {
   "cell_type": "code",
   "execution_count": 32,
   "id": "4c63191d",
   "metadata": {},
   "outputs": [
    {
     "name": "stdout",
     "output_type": "stream",
     "text": [
      "{'Rank': 0}\n",
      "{'Episodes': 1210}\n",
      "{'Rating': 132}\n",
      "{'Release_year': 280}\n",
      "{'End_year': 1}\n"
     ]
    }
   ],
   "source": [
    "# Function call to caount outliers for all numeric columns\n",
    "for i in df_E_N:\n",
    "    print (countoutliers(df_E_N, i))"
   ]
  },
  {
   "cell_type": "markdown",
   "id": "dd0531c4",
   "metadata": {},
   "source": [
    "As expected theres no outliers in Rank column, however we have lots in Episodes, Rating, Release_year, and End_year columns."
   ]
  },
  {
   "cell_type": "markdown",
   "id": "c3d82ef3",
   "metadata": {},
   "source": [
    "### Outliers percentage"
   ]
  },
  {
   "cell_type": "code",
   "execution_count": 33,
   "id": "291ec997",
   "metadata": {},
   "outputs": [
    {
     "name": "stdout",
     "output_type": "stream",
     "text": [
      "Rank: 0.00%\n",
      "Episodes: 16.54%\n",
      "Rating: 1.80%\n",
      "Release_year: 3.83%\n",
      "End_year: 0.01%\n"
     ]
    }
   ],
   "source": [
    "for i in df_E_N:\n",
    "    col = i\n",
    "    perc = countoutliers(df_E_N, i)[i] / len(df_E_N)\n",
    "    print (col + ': ' + str('{:.2f}'.format(perc*100)) + '%') \n"
   ]
  },
  {
   "cell_type": "markdown",
   "id": "fc0b8c5f",
   "metadata": {},
   "source": [
    "### Visualize outliers in boxplot"
   ]
  },
  {
   "cell_type": "code",
   "execution_count": 34,
   "id": "72b45543",
   "metadata": {},
   "outputs": [
    {
     "data": {
      "image/png": "[encoded data removed]",
      "text/plain": [
       "<Figure size 2000x700 with 5 Axes>"
      ]
     },
     "metadata": {},
     "output_type": "display_data"
    }
   ],
   "source": [
    "df_E.plot(kind='box', \n",
    "          subplots=True, \n",
    "          sharey=False, \n",
    "          figsize=(20, 7))\n",
    "# increase spacing between subplots\n",
    "plt.subplots_adjust(wspace=0.5) "
   ]
  },
  {
   "cell_type": "markdown",
   "id": "ae120e48",
   "metadata": {},
   "source": [
    "### I will replace Episodes outliers with 75 percentile of its distribution"
   ]
  },
  {
   "cell_type": "code",
   "execution_count": 35,
   "id": "2db8b6f6",
   "metadata": {},
   "outputs": [],
   "source": [
    "# Function to replace outliers take 3 parameters \n",
    "# 1. dataframe name\n",
    "# 2. the new value we need \n",
    "# 3. the column name\n",
    "def Replace_Outliers(df_name, value, column_name = \"\"):\n",
    "    iqr = df_name[column_name].quantile(.75) - df_name[column_name].quantile(.25)\n",
    "    \n",
    "    lowerbound = (df_name[column_name].quantile(.25)) - iqr * 1.5\n",
    "    upperbound = (df_name[column_name].quantile(.75)) + iqr * 1.5\n",
    "            \n",
    "    df_name[column_name] = np.where(df_name[column_name] > upperbound, value, df_name[column_name])\n",
    "    df_name[column_name] = np.where(df_name[column_name] < lowerbound, value, df_name[column_name])"
   ]
  },
  {
   "cell_type": "code",
   "execution_count": 36,
   "id": "7c0bf9bc",
   "metadata": {},
   "outputs": [],
   "source": [
    "# Function call\n",
    "Replace_Outliers(df_E,\n",
    "                 df_E.Episodes.quantile(0.75),\n",
    "                 'Episodes')"
   ]
  },
  {
   "cell_type": "code",
   "execution_count": 37,
   "id": "ef4f3e0a",
   "metadata": {},
   "outputs": [
    {
     "data": {
      "text/plain": [
       "{'Episodes': 0}"
      ]
     },
     "execution_count": 37,
     "metadata": {},
     "output_type": "execute_result"
    }
   ],
   "source": [
    "# verify count oultiers in episode colum\n",
    "countoutliers(df_E, 'Episodes')"
   ]
  },
  {
   "cell_type": "markdown",
   "id": "ff5bd97f",
   "metadata": {},
   "source": [
    "### Visualize the new episodes column in df_E after removing the outliers"
   ]
  },
  {
   "cell_type": "code",
   "execution_count": 38,
   "id": "d9a3bc05",
   "metadata": {},
   "outputs": [
    {
     "name": "stdout",
     "output_type": "stream",
     "text": [
      "median: 13.0\n",
      "mean: 17.336659376708585\n",
      "q1: 12.0\n",
      "q3: 26.0\n",
      "skew:  0.4286635677560495\n",
      "kurtosis: -0.3385319801328821\n"
     ]
    },
    {
     "data": {
      "image/png": "[encoded data removed]",
      "text/plain": [
       "<Figure size 1000x500 with 2 Axes>"
      ]
     },
     "metadata": {},
     "output_type": "display_data"
    }
   ],
   "source": [
    "plt.figure(figsize=(10, 5)) \n",
    "\n",
    "# Boxplot\n",
    "ax1 = plt.subplot(1,2,1)\n",
    "ax1 = sns.boxplot(x= df_E.Episodes)\n",
    "ax1 = plt.title('Boxplot')\n",
    "\n",
    "# Histogram\n",
    "ax2 = plt.subplot(1,2,2)\n",
    "ax2 = sns.histplot(df_E.Episodes, kde=True)\n",
    "ax2 = plt.title('Histogram')\n",
    "\n",
    "ax2 = plt.axvline(df_E.Episodes.mean(), color='r', linestyle='--', label= 'mean')\n",
    "ax2 = plt.axvline(df_E.Episodes.median(), color='r', linestyle='-', label= 'median')\n",
    "ax2 = plt.axvline(df_E.Episodes.quantile(0.25), color='b', linestyle='--', label= 'q1')\n",
    "ax2 = plt.axvline(df_E.Episodes.quantile(0.75), color='y', linestyle='--', label= 'q3')\n",
    "\n",
    "plt.legend()\n",
    "print('median:', df_E.Episodes.median())\n",
    "print('mean:', df_E.Episodes.mean())\n",
    "print('q1:', df_E.Episodes.quantile(0.25))\n",
    "print('q3:', df_E.Episodes.quantile(0.75))\n",
    "print('skew: ',  df_E.Episodes.skew())\n",
    "print('kurtosis:', df_E.Episodes.kurt())"
   ]
  },
  {
   "cell_type": "markdown",
   "id": "5f5818a9",
   "metadata": {},
   "source": [
    "Now we have a more reliable dataset. Episode distribution is now fairly symetrical and flat where the values are moderately spread out. "
   ]
  },
  {
   "cell_type": "markdown",
   "id": "e9d6518e",
   "metadata": {},
   "source": [
    "# Understanding Standard Deviation\n",
    "How far each datapoint from the mean"
   ]
  },
  {
   "cell_type": "markdown",
   "id": "15636fb7",
   "metadata": {},
   "source": [
    "Checking standandard deviation for Episodes column"
   ]
  },
  {
   "cell_type": "code",
   "execution_count": 39,
   "id": "57502c94",
   "metadata": {},
   "outputs": [
    {
     "name": "stdout",
     "output_type": "stream",
     "text": [
      "10.025979976955782\n",
      "17.336659376708585\n"
     ]
    }
   ],
   "source": [
    "# standard deviation for Episodes column\n",
    "std = df_E.Episodes.std()\n",
    "mean_ = df_E.Episodes.mean()\n",
    "print(std)\n",
    "print(mean_)"
   ]
  },
  {
   "cell_type": "code",
   "execution_count": 40,
   "id": "c4385c9b",
   "metadata": {},
   "outputs": [],
   "source": [
    "# one standard deviation\n",
    "std1_low = mean_ - std\n",
    "std1_high = mean_ + std\n",
    "\n",
    "# two standard deviation\n",
    "std2_low = mean_ - std - std\n",
    "std2_high = mean_ + std + std\n",
    "\n",
    "# threestandard deviation\n",
    "std3_low = mean_ - (std * 3)\n",
    "std3_high = mean_ + (std * 3)"
   ]
  },
  {
   "cell_type": "code",
   "execution_count": 41,
   "id": "6942bb92",
   "metadata": {},
   "outputs": [
    {
     "data": {
      "image/png": "[encoded data removed]",
      "text/plain": [
       "<Figure size 1000x500 with 1 Axes>"
      ]
     },
     "metadata": {},
     "output_type": "display_data"
    }
   ],
   "source": [
    "# Visualize\n",
    "\n",
    "plt.figure(figsize=(10,5))\n",
    "# Episodes Distribution\n",
    "sns.histplot(df_E.Episodes, kde=True)\n",
    "\n",
    "mean = plt.axvline(mean_, color='r', linestyle='-', label= 'mean = ' + str(round(mean_,2)))\n",
    "\n",
    "plt.axvline(mean_ - std, color='y', linestyle='--', label='one_std_low = ' + str(round(std1_low,2)))\n",
    "plt.axvline(mean_ + std, color='y', linestyle='--', label='one_std_high = ' + str(round(std1_high,2)))\n",
    "\n",
    "plt.axvline(mean_ - std - std, color='g', linestyle='--', label= 'two_std_low = ' + str(round(std2_low,2)))\n",
    "plt.axvline(mean_ + std + std, color='g', linestyle='--', label= 'two_std_high = ' + str(round(std2_high,2)))\n",
    "\n",
    "plt.axvline(mean_ + std + std + std, color='b', linestyle='--',label= 'three_std_low = ' + str(round(std3_low,2)))\n",
    "plt.axvline(mean_ - std - std - std, color='b', linestyle='--',label= 'three_std_high = ' + str(round(std3_high,2)))\n",
    "\n",
    "plt.legend()\n",
    "plt.show()"
   ]
  },
  {
   "cell_type": "markdown",
   "id": "fbdc983a",
   "metadata": {},
   "source": [
    "Our mean is at 17.34 we add and subract the std value(10.02) from the mean and we will get a brackets of values that belong to 'One STD' (value belongs to one std is from 7.31 to 27.36) and so on up to three std.\n",
    "\n",
    "`Example:`\n",
    "For anime that has 22 episodes, thats is belong to one std. One std away from the mean is very common, while 40 episodes anime is very rare unless if we consider combining anime that has multiple seasons."
   ]
  },
  {
   "cell_type": "markdown",
   "id": "15aaf39e",
   "metadata": {},
   "source": [
    "***"
   ]
  },
  {
   "cell_type": "markdown",
   "id": "0c476fe8",
   "metadata": {},
   "source": [
    "# 2. Summary Statistic (for categorical variables) "
   ]
  },
  {
   "cell_type": "markdown",
   "id": "cfa60437",
   "metadata": {},
   "source": [
    "### Nominal Category\n",
    "Because these variables’ categories have no ordering or numeric equivalents, `it’s impossible to calculate a mean or median`. `It would also be impossible to describe spread with statistics like variance, standard deviation, a range, IQR, or percentiles`, because these statistics all rely on being able to order the data in some way. However, it is still `possible to calculate the mode`, the most common value in the dataset."
   ]
  },
  {
   "cell_type": "code",
   "execution_count": 42,
   "id": "09dc8274",
   "metadata": {},
   "outputs": [
    {
     "data": {
      "text/html": [
       "<div>\n",
       "<style scoped>\n",
       "    .dataframe tbody tr th:only-of-type {\n",
       "        vertical-align: middle;\n",
       "    }\n",
       "\n",
       "    .dataframe tbody tr th {\n",
       "        vertical-align: top;\n",
       "    }\n",
       "\n",
       "    .dataframe thead th {\n",
       "        text-align: right;\n",
       "    }\n",
       "</style>\n",
       "<table border=\"1\" class=\"dataframe\">\n",
       "  <thead>\n",
       "    <tr style=\"text-align: right;\">\n",
       "      <th></th>\n",
       "      <th>Rank</th>\n",
       "      <th>Name</th>\n",
       "      <th>Japanese_name</th>\n",
       "      <th>Type</th>\n",
       "      <th>Episodes</th>\n",
       "      <th>Studio</th>\n",
       "      <th>Release_season</th>\n",
       "      <th>Tags</th>\n",
       "      <th>Rating</th>\n",
       "      <th>Release_year</th>\n",
       "      <th>End_year</th>\n",
       "      <th>Description</th>\n",
       "      <th>Content_Warning</th>\n",
       "      <th>Related_Mange</th>\n",
       "      <th>Related_anime</th>\n",
       "      <th>Voice_actors</th>\n",
       "      <th>staff</th>\n",
       "    </tr>\n",
       "  </thead>\n",
       "  <tbody>\n",
       "    <tr>\n",
       "      <th>0</th>\n",
       "      <td>1</td>\n",
       "      <td>Demon Slayer: Kimetsu no Yaiba - Entertainment...</td>\n",
       "      <td>Kimetsu no Yaiba: Yuukaku-hen</td>\n",
       "      <td>TV</td>\n",
       "      <td>0</td>\n",
       "      <td>ufotable</td>\n",
       "      <td>Fall</td>\n",
       "      <td>Action, Adventure, Fantasy, Shounen, Demons, H...</td>\n",
       "      <td>4.6</td>\n",
       "      <td>2021</td>\n",
       "      <td>0</td>\n",
       "      <td>'Tanjiro and his friends accompany the Hashira...</td>\n",
       "      <td>Explicit Violence</td>\n",
       "      <td>Demon Slayer: Kimetsu no Yaiba</td>\n",
       "      <td>Demon Slayer: Kimetsu no Yaiba, Demon Slayer: ...</td>\n",
       "      <td>Inosuke Hashibira : Yoshitsugu Matsuoka, Nezuk...</td>\n",
       "      <td>Koyoharu Gotouge : Original Creator, Haruo Sot...</td>\n",
       "    </tr>\n",
       "  </tbody>\n",
       "</table>\n",
       "</div>"
      ],
      "text/plain": [
       "   Rank                                               Name  \\\n",
       "0     1  Demon Slayer: Kimetsu no Yaiba - Entertainment...   \n",
       "\n",
       "                    Japanese_name   Type  Episodes    Studio Release_season  \\\n",
       "0   Kimetsu no Yaiba: Yuukaku-hen  TV            0  ufotable          Fall    \n",
       "\n",
       "                                                Tags  Rating  Release_year  \\\n",
       "0  Action, Adventure, Fantasy, Shounen, Demons, H...     4.6          2021   \n",
       "\n",
       "   End_year                                        Description  \\\n",
       "0         0  'Tanjiro and his friends accompany the Hashira...   \n",
       "\n",
       "     Content_Warning                   Related_Mange  \\\n",
       "0  Explicit Violence  Demon Slayer: Kimetsu no Yaiba   \n",
       "\n",
       "                                       Related_anime  \\\n",
       "0  Demon Slayer: Kimetsu no Yaiba, Demon Slayer: ...   \n",
       "\n",
       "                                        Voice_actors  \\\n",
       "0  Inosuke Hashibira : Yoshitsugu Matsuoka, Nezuk...   \n",
       "\n",
       "                                               staff  \n",
       "0  Koyoharu Gotouge : Original Creator, Haruo Sot...  "
      ]
     },
     "execution_count": 42,
     "metadata": {},
     "output_type": "execute_result"
    }
   ],
   "source": [
    "pd.set_option('display.max_colwidth', 50)\n",
    "df.head(1)"
   ]
  },
  {
   "cell_type": "code",
   "execution_count": 43,
   "id": "4af8c5fc",
   "metadata": {},
   "outputs": [
    {
     "data": {
      "text/plain": [
       "count     18495\n",
       "unique        8\n",
       "top       TV   \n",
       "freq       5446\n",
       "Name: Type, dtype: object"
      ]
     },
     "execution_count": 43,
     "metadata": {},
     "output_type": "execute_result"
    }
   ],
   "source": [
    "df.Type.describe()"
   ]
  },
  {
   "cell_type": "markdown",
   "id": "0ba3521a",
   "metadata": {},
   "source": [
    "Our mode is 'TV' which have 5446 entry."
   ]
  },
  {
   "cell_type": "code",
   "execution_count": 44,
   "id": "0bf23791",
   "metadata": {},
   "outputs": [
    {
     "data": {
      "text/plain": [
       "TV       5446\n",
       "Movie    3577\n",
       "Web      2488\n",
       "OVA      2235\n",
       "Music    2165\n",
       "Other     990\n",
       "DVD S     911\n",
       "TV Sp     683\n",
       "Name: Type, dtype: int64"
      ]
     },
     "execution_count": 44,
     "metadata": {},
     "output_type": "execute_result"
    }
   ],
   "source": [
    "# count of datapoint types\n",
    "df.Type.value_counts()"
   ]
  },
  {
   "cell_type": "markdown",
   "id": "5358d92f",
   "metadata": {},
   "source": [
    "### Visualization"
   ]
  },
  {
   "cell_type": "code",
   "execution_count": 45,
   "id": "da4f6aeb",
   "metadata": {},
   "outputs": [
    {
     "data": {
      "image/png": "[encoded data removed]",
      "text/plain": [
       "<Figure size 800x400 with 1 Axes>"
      ]
     },
     "metadata": {},
     "output_type": "display_data"
    }
   ],
   "source": [
    "plt.figure(figsize = (8,4))\n",
    "ax = sns.countplot(x = 'Type', \n",
    "                  data = df, \n",
    "                  order = df['Type'].value_counts().iloc[:].index) # sort from highet to lowest value\n",
    "\n",
    "ax.set_xticklabels(ax.get_xticklabels(),rotation = 60)\n",
    "\n",
    "for i in ax.containers:\n",
    "    ax.bar_label(i,)\n",
    "\n",
    "plt.show()"
   ]
  },
  {
   "cell_type": "code",
   "execution_count": 46,
   "id": "8c6a6925",
   "metadata": {},
   "outputs": [
    {
     "data": {
      "image/png": "[encoded data removed]"
     },
     "metadata": {},
     "output_type": "display_data"
    }
   ],
   "source": [
    "import plotly.express as px\n",
    "fig = px.pie(df, 'Type')\n",
    "\n",
    "fig.update_layout(title=\"Type Proportion \")\n",
    "fig.update_traces(textposition='inside',\n",
    "                  textinfo='percent+label', showlegend=True)\n",
    "\n",
    "fig.show('png') "
   ]
  },
  {
   "cell_type": "markdown",
   "id": "0fcf089a",
   "metadata": {},
   "source": [
    "### Ordinal Category\n",
    "Ordinal categorical variables have ordered categories. For ordinal categorical variables, we can find the `mode` and `median` `quantile` or `percentile`."
   ]
  },
  {
   "cell_type": "code",
   "execution_count": 47,
   "id": "0b860a4e",
   "metadata": {},
   "outputs": [
    {
     "data": {
      "text/html": [
       "<div>\n",
       "<style scoped>\n",
       "    .dataframe tbody tr th:only-of-type {\n",
       "        vertical-align: middle;\n",
       "    }\n",
       "\n",
       "    .dataframe tbody tr th {\n",
       "        vertical-align: top;\n",
       "    }\n",
       "\n",
       "    .dataframe thead th {\n",
       "        text-align: right;\n",
       "    }\n",
       "</style>\n",
       "<table border=\"1\" class=\"dataframe\">\n",
       "  <thead>\n",
       "    <tr style=\"text-align: right;\">\n",
       "      <th></th>\n",
       "      <th>Rank</th>\n",
       "      <th>Name</th>\n",
       "      <th>Japanese_name</th>\n",
       "      <th>Type</th>\n",
       "      <th>Episodes</th>\n",
       "      <th>Studio</th>\n",
       "      <th>Release_season</th>\n",
       "      <th>Tags</th>\n",
       "      <th>Rating</th>\n",
       "      <th>Release_year</th>\n",
       "      <th>End_year</th>\n",
       "      <th>Description</th>\n",
       "      <th>Content_Warning</th>\n",
       "      <th>Related_Mange</th>\n",
       "      <th>Related_anime</th>\n",
       "      <th>Voice_actors</th>\n",
       "      <th>staff</th>\n",
       "    </tr>\n",
       "  </thead>\n",
       "  <tbody>\n",
       "    <tr>\n",
       "      <th>0</th>\n",
       "      <td>1</td>\n",
       "      <td>Demon Slayer: Kimetsu no Yaiba - Entertainment...</td>\n",
       "      <td>Kimetsu no Yaiba: Yuukaku-hen</td>\n",
       "      <td>TV</td>\n",
       "      <td>0</td>\n",
       "      <td>ufotable</td>\n",
       "      <td>Fall</td>\n",
       "      <td>Action, Adventure, Fantasy, Shounen, Demons, H...</td>\n",
       "      <td>4.6</td>\n",
       "      <td>2021</td>\n",
       "      <td>0</td>\n",
       "      <td>'Tanjiro and his friends accompany the Hashira...</td>\n",
       "      <td>Explicit Violence</td>\n",
       "      <td>Demon Slayer: Kimetsu no Yaiba</td>\n",
       "      <td>Demon Slayer: Kimetsu no Yaiba, Demon Slayer: ...</td>\n",
       "      <td>Inosuke Hashibira : Yoshitsugu Matsuoka, Nezuk...</td>\n",
       "      <td>Koyoharu Gotouge : Original Creator, Haruo Sot...</td>\n",
       "    </tr>\n",
       "  </tbody>\n",
       "</table>\n",
       "</div>"
      ],
      "text/plain": [
       "   Rank                                               Name  \\\n",
       "0     1  Demon Slayer: Kimetsu no Yaiba - Entertainment...   \n",
       "\n",
       "                    Japanese_name   Type  Episodes    Studio Release_season  \\\n",
       "0   Kimetsu no Yaiba: Yuukaku-hen  TV            0  ufotable          Fall    \n",
       "\n",
       "                                                Tags  Rating  Release_year  \\\n",
       "0  Action, Adventure, Fantasy, Shounen, Demons, H...     4.6          2021   \n",
       "\n",
       "   End_year                                        Description  \\\n",
       "0         0  'Tanjiro and his friends accompany the Hashira...   \n",
       "\n",
       "     Content_Warning                   Related_Mange  \\\n",
       "0  Explicit Violence  Demon Slayer: Kimetsu no Yaiba   \n",
       "\n",
       "                                       Related_anime  \\\n",
       "0  Demon Slayer: Kimetsu no Yaiba, Demon Slayer: ...   \n",
       "\n",
       "                                        Voice_actors  \\\n",
       "0  Inosuke Hashibira : Yoshitsugu Matsuoka, Nezuk...   \n",
       "\n",
       "                                               staff  \n",
       "0  Koyoharu Gotouge : Original Creator, Haruo Sot...  "
      ]
     },
     "execution_count": 47,
     "metadata": {},
     "output_type": "execute_result"
    }
   ],
   "source": [
    "df.head(1)"
   ]
  },
  {
   "cell_type": "markdown",
   "id": "9d5c83f0",
   "metadata": {},
   "source": [
    "We don't have any ordinal category column so let's create one that will categorize how good each observation by it's rating. \n",
    "\n",
    "The column name will be 'Verdict'and the order should be like this:\n",
    "\n",
    "    (df['Rating'] >= 4.5), # very good\n",
    "    (df['Rating'] >= 4), # good\n",
    "    (df['Rating'] >= 3.5)  # fair\n",
    "    (df['Rating'] >= 3), # poor\n",
    "    (df['Rating'] >= 2), # very poor\n",
    "    (df['Rating'] <  2)  # avoid"
   ]
  },
  {
   "cell_type": "code",
   "execution_count": 48,
   "id": "c675ab30",
   "metadata": {},
   "outputs": [],
   "source": [
    "conditions = [\n",
    "    (df['Rating'] >= 4.5), # very good\n",
    "    (df['Rating'] >= 4), # good\n",
    "    (df['Rating'] >= 3.5),  # fair\n",
    "    (df['Rating'] >= 3), # poor\n",
    "    (df['Rating'] >= 2), # very poor\n",
    "    (df['Rating'] <  2)  # avoid\n",
    "]\n",
    "\n",
    "values = ['very good', 'good', 'fair', 'poor', 'very poor', 'avoid']\n",
    "\n",
    "df['Verdict'] = np.select(conditions, values)"
   ]
  },
  {
   "cell_type": "code",
   "execution_count": 49,
   "id": "96ca1b4c",
   "metadata": {},
   "outputs": [],
   "source": [
    "# 'Verdict column to ordered categorical type'\n",
    "df.Verdict = pd.Categorical(df.Verdict, \n",
    "                            ['avoid', 'very poor', 'poor', 'fair', 'good', 'very good' ], # order list\n",
    "                            ordered=True\n",
    "                           )"
   ]
  },
  {
   "cell_type": "code",
   "execution_count": 50,
   "id": "6649123b",
   "metadata": {},
   "outputs": [
    {
     "data": {
      "text/plain": [
       "['very good', 'good', 'avoid', 'fair', 'poor', 'very poor']\n",
       "Categories (6, object): ['avoid' < 'very poor' < 'poor' < 'fair' < 'good' < 'very good']"
      ]
     },
     "execution_count": 50,
     "metadata": {},
     "output_type": "execute_result"
    }
   ],
   "source": [
    "# verify\n",
    "df.Verdict.unique()"
   ]
  },
  {
   "cell_type": "code",
   "execution_count": 51,
   "id": "734f6273",
   "metadata": {},
   "outputs": [
    {
     "data": {
      "image/png": "[encoded data removed]",
      "text/plain": [
       "<Figure size 800x400 with 1 Axes>"
      ]
     },
     "metadata": {},
     "output_type": "display_data"
    }
   ],
   "source": [
    "plt.figure(figsize = (8,4))\n",
    "ax = sns.countplot(x = 'Verdict', \n",
    "                  data = df, \n",
    "#                   order = df['Verdict'].value_counts().iloc[:15].index\n",
    "                  )\n",
    "\n",
    "ax.set_xticklabels(ax.get_xticklabels(),rotation = 60)\n",
    "\n",
    "for i in ax.containers:\n",
    "    ax.bar_label(i)\n",
    "\n",
    "plt.show()"
   ]
  },
  {
   "cell_type": "code",
   "execution_count": 52,
   "id": "05b61f4d",
   "metadata": {},
   "outputs": [
    {
     "data": {
      "text/html": [
       "<div>\n",
       "<style scoped>\n",
       "    .dataframe tbody tr th:only-of-type {\n",
       "        vertical-align: middle;\n",
       "    }\n",
       "\n",
       "    .dataframe tbody tr th {\n",
       "        vertical-align: top;\n",
       "    }\n",
       "\n",
       "    .dataframe thead th {\n",
       "        text-align: right;\n",
       "    }\n",
       "</style>\n",
       "<table border=\"1\" class=\"dataframe\">\n",
       "  <thead>\n",
       "    <tr style=\"text-align: right;\">\n",
       "      <th></th>\n",
       "      <th>Verdict</th>\n",
       "    </tr>\n",
       "  </thead>\n",
       "  <tbody>\n",
       "    <tr>\n",
       "      <th>poor</th>\n",
       "      <td>7763</td>\n",
       "    </tr>\n",
       "    <tr>\n",
       "      <th>fair</th>\n",
       "      <td>4298</td>\n",
       "    </tr>\n",
       "    <tr>\n",
       "      <th>avoid</th>\n",
       "      <td>3179</td>\n",
       "    </tr>\n",
       "    <tr>\n",
       "      <th>very poor</th>\n",
       "      <td>2355</td>\n",
       "    </tr>\n",
       "    <tr>\n",
       "      <th>good</th>\n",
       "      <td>882</td>\n",
       "    </tr>\n",
       "    <tr>\n",
       "      <th>very good</th>\n",
       "      <td>18</td>\n",
       "    </tr>\n",
       "  </tbody>\n",
       "</table>\n",
       "</div>"
      ],
      "text/plain": [
       "           Verdict\n",
       "poor          7763\n",
       "fair          4298\n",
       "avoid         3179\n",
       "very poor     2355\n",
       "good           882\n",
       "very good       18"
      ]
     },
     "execution_count": 52,
     "metadata": {},
     "output_type": "execute_result"
    }
   ],
   "source": [
    "# frequency\n",
    "pd.DataFrame(df.Verdict.value_counts())"
   ]
  },
  {
   "cell_type": "code",
   "execution_count": 53,
   "id": "312e8e67",
   "metadata": {},
   "outputs": [
    {
     "data": {
      "text/html": [
       "<div>\n",
       "<style scoped>\n",
       "    .dataframe tbody tr th:only-of-type {\n",
       "        vertical-align: middle;\n",
       "    }\n",
       "\n",
       "    .dataframe tbody tr th {\n",
       "        vertical-align: top;\n",
       "    }\n",
       "\n",
       "    .dataframe thead th {\n",
       "        text-align: right;\n",
       "    }\n",
       "</style>\n",
       "<table border=\"1\" class=\"dataframe\">\n",
       "  <thead>\n",
       "    <tr style=\"text-align: right;\">\n",
       "      <th></th>\n",
       "      <th>Verdict</th>\n",
       "    </tr>\n",
       "  </thead>\n",
       "  <tbody>\n",
       "    <tr>\n",
       "      <th>poor</th>\n",
       "      <td>41.97</td>\n",
       "    </tr>\n",
       "    <tr>\n",
       "      <th>fair</th>\n",
       "      <td>23.24</td>\n",
       "    </tr>\n",
       "    <tr>\n",
       "      <th>avoid</th>\n",
       "      <td>17.19</td>\n",
       "    </tr>\n",
       "    <tr>\n",
       "      <th>very poor</th>\n",
       "      <td>12.73</td>\n",
       "    </tr>\n",
       "    <tr>\n",
       "      <th>good</th>\n",
       "      <td>4.77</td>\n",
       "    </tr>\n",
       "    <tr>\n",
       "      <th>very good</th>\n",
       "      <td>0.10</td>\n",
       "    </tr>\n",
       "  </tbody>\n",
       "</table>\n",
       "</div>"
      ],
      "text/plain": [
       "           Verdict\n",
       "poor         41.97\n",
       "fair         23.24\n",
       "avoid        17.19\n",
       "very poor    12.73\n",
       "good          4.77\n",
       "very good     0.10"
      ]
     },
     "execution_count": 53,
     "metadata": {},
     "output_type": "execute_result"
    }
   ],
   "source": [
    "# proportion\n",
    "pd.DataFrame(round(df.Verdict.value_counts()/len(df)  * 100, 2))"
   ]
  },
  {
   "cell_type": "markdown",
   "id": "38795202",
   "metadata": {},
   "source": [
    "### Mode"
   ]
  },
  {
   "cell_type": "code",
   "execution_count": 54,
   "id": "29465e38",
   "metadata": {},
   "outputs": [
    {
     "data": {
      "text/plain": [
       "count     18495\n",
       "unique        6\n",
       "top        poor\n",
       "freq       7763\n",
       "Name: Verdict, dtype: object"
      ]
     },
     "execution_count": 54,
     "metadata": {},
     "output_type": "execute_result"
    }
   ],
   "source": [
    "df.Verdict.describe(include='all')"
   ]
  },
  {
   "cell_type": "markdown",
   "id": "c859be74",
   "metadata": {},
   "source": [
    "Our mode/most frequent is Verdict is 'poor' which have  a count of 776 3 (41.97%)."
   ]
  },
  {
   "cell_type": "markdown",
   "id": "b13b9157",
   "metadata": {},
   "source": [
    "### Mean\n",
    "We can use .map or .cat.codes (I prefer to use map for converting categories to numerical ordinal datatypes)"
   ]
  },
  {
   "cell_type": "code",
   "execution_count": 55,
   "id": "ef200a80",
   "metadata": {},
   "outputs": [],
   "source": [
    "# Creating new column\n",
    "df['Verdict_mapped'] = df['Verdict'].map({\n",
    "                            'avoid':1,\n",
    "                            'very poor':2,\n",
    "                            'poor':3,\n",
    "                            'fair':4,\n",
    "                            'good':5,\n",
    "                            'very good':6,\n",
    "                            }).astype('int64')"
   ]
  },
  {
   "cell_type": "code",
   "execution_count": 56,
   "id": "21477740",
   "metadata": {},
   "outputs": [
    {
     "data": {
      "text/plain": [
       "2.86"
      ]
     },
     "execution_count": 56,
     "metadata": {},
     "output_type": "execute_result"
    }
   ],
   "source": [
    "round(df.Verdict_mapped.mean(),2)"
   ]
  },
  {
   "cell_type": "markdown",
   "id": "27daa6e2",
   "metadata": {},
   "source": [
    "`Note`:  Mean value (2.86) is not interpretable. For ordinal categorical variables we should not use the mean because it's relies on the assumption of equal spacing between categories.\n",
    "\n",
    "Instead, we can rely on other summary statistics, like the `proportion of the data within a range, or percentiles/quantiles`."
   ]
  },
  {
   "cell_type": "code",
   "execution_count": 57,
   "id": "bd1848a4",
   "metadata": {},
   "outputs": [
    {
     "data": {
      "text/plain": [
       "<matplotlib.legend.Legend at 0x2692aa55640>"
      ]
     },
     "execution_count": 57,
     "metadata": {},
     "output_type": "execute_result"
    },
    {
     "data": {
      "image/png": "[encoded data removed]",
      "text/plain": [
       "<Figure size 640x480 with 1 Axes>"
      ]
     },
     "metadata": {},
     "output_type": "display_data"
    }
   ],
   "source": [
    "ax = sns.histplot(df.Verdict_mapped)\n",
    "ax = plt.axvline(df.Verdict_mapped.mean(), linestyle='-', color='r', label='mean')\n",
    "ax = plt.axvline(df.Verdict_mapped.quantile(.50), linestyle='--', color='r', label='median')\n",
    "ax = plt.axvline(df.Verdict_mapped.quantile(.25), linestyle='--', color='b', label='25%')\n",
    "ax = plt.axvline(df.Verdict_mapped.quantile(.75), linestyle='--', color='y', label='75%')\n",
    "\n",
    "# for xtict labels\n",
    "positions = [1,2,3,4,5,6]\n",
    "labels = ['avoid','very poor','poor','fair','good','very good']\n",
    "plt.xticks(positions, labels, rotation = 30)\n",
    "\n",
    "plt.legend()"
   ]
  },
  {
   "cell_type": "markdown",
   "id": "684e67df",
   "metadata": {},
   "source": [
    "Most our the data points falls under 'poor' category (Using median as our central point)"
   ]
  },
  {
   "cell_type": "markdown",
   "id": "e5a5a0a7",
   "metadata": {},
   "source": [
    "***"
   ]
  },
  {
   "cell_type": "markdown",
   "id": "5ba768e0",
   "metadata": {},
   "source": [
    "# Probability\n"
   ]
  },
  {
   "cell_type": "markdown",
   "id": "1dee89f6",
   "metadata": {},
   "source": [
    "### For Independent Event / Not mutualty exclusive"
   ]
  },
  {
   "cell_type": "code",
   "execution_count": 109,
   "id": "abb651f4",
   "metadata": {},
   "outputs": [],
   "source": [
    "A = {4,5,8,9,1,6,7}\n",
    "B = {2,3,10,1,6,7}\n",
    "A_and_B = A.intersection(B)\n",
    "Total = len(A) + len(B) - len(A_and_B)"
   ]
  },
  {
   "cell_type": "code",
   "execution_count": 110,
   "id": "33732d83",
   "metadata": {},
   "outputs": [
    {
     "data": {
      "text/plain": [
       "{1, 6, 7}"
      ]
     },
     "execution_count": 110,
     "metadata": {},
     "output_type": "execute_result"
    }
   ],
   "source": [
    "# Check if mutualy exclusive or not\n",
    "# no value means mutualy exclusive else not\n",
    "A_and_B"
   ]
  },
  {
   "cell_type": "markdown",
   "id": "44853184",
   "metadata": {},
   "source": [
    "### Single Event\n",
    "`note:` p(A ⋂ B) is single event for below formula"
   ]
  },
  {
   "cell_type": "code",
   "execution_count": 111,
   "id": "a2afade6",
   "metadata": {},
   "outputs": [
    {
     "name": "stdout",
     "output_type": "stream",
     "text": [
      "0.7 0.6 0.3\n"
     ]
    }
   ],
   "source": [
    "# p(A), p(B), p(A_and_B)\n",
    "A = len(A) / Total\n",
    "B = len(B) / Total\n",
    "A_and_B = len(A_and_B) / Total\n",
    "print(A, B, A_and_B)"
   ]
  },
  {
   "cell_type": "markdown",
   "id": "3d72fd44",
   "metadata": {},
   "source": [
    "### Two Events"
   ]
  },
  {
   "cell_type": "code",
   "execution_count": 113,
   "id": "e9b9c560",
   "metadata": {},
   "outputs": [
    {
     "data": {
      "text/plain": [
       "0.9999999999999998"
      ]
     },
     "execution_count": 113,
     "metadata": {},
     "output_type": "execute_result"
    }
   ],
   "source": [
    "# p(A U B) probabilty of A or B\n",
    "# p (A U B ) = p(A) + p(B) - p(A_and_B)\n",
    "A_or_B = A + B - A_and_B\n",
    "A_or_B"
   ]
  },
  {
   "cell_type": "code",
   "execution_count": 117,
   "id": "017de327",
   "metadata": {},
   "outputs": [
    {
     "data": {
      "text/plain": [
       "0.42"
      ]
     },
     "execution_count": 117,
     "metadata": {},
     "output_type": "execute_result"
    }
   ],
   "source": [
    "# p(A ⋂ B) probability of A intersection B\n",
    "# first event is a value in A then second event value must be in A (1st event value intersect with 2nd event)\n",
    "# reminder: p(A and B) is different from p(A ⋂ B)\n",
    "#  p(A ⋂ B) = p(A) * p(B)\n",
    "A_inter_B = A * B\n",
    "A_inter_B"
   ]
  },
  {
   "cell_type": "code",
   "execution_count": 123,
   "id": "e5b47a5c",
   "metadata": {},
   "outputs": [
    {
     "data": {
      "text/plain": [
       "0.45999999999999985"
      ]
     },
     "execution_count": 123,
     "metadata": {},
     "output_type": "execute_result"
    }
   ],
   "source": [
    "# p(A Δ B)\n",
    "# the probability of and A then B but excluding the intersection (A_inter_B)\n",
    "# p(A Δ B) = P(A) + P(B) - 2 * P(A∩B) \n",
    "# p(A Δ B) = P(A) + P(B) - 2 * P(A) * P(B)\n",
    "(A + B) - (2 * (A * B)) "
   ]
  },
  {
   "cell_type": "code",
   "execution_count": null,
   "id": "e7060eed",
   "metadata": {},
   "outputs": [],
   "source": []
  },
  {
   "cell_type": "code",
   "execution_count": null,
   "id": "ea085df7",
   "metadata": {},
   "outputs": [],
   "source": []
  },
  {
   "cell_type": "code",
   "execution_count": null,
   "id": "086dcf8c",
   "metadata": {},
   "outputs": [],
   "source": []
  },
  {
   "cell_type": "code",
   "execution_count": null,
   "id": "3d7096e6",
   "metadata": {},
   "outputs": [],
   "source": []
  },
  {
   "cell_type": "code",
   "execution_count": null,
   "id": "cb24a1d7",
   "metadata": {},
   "outputs": [],
   "source": []
  },
  {
   "cell_type": "code",
   "execution_count": null,
   "id": "0e5a6467",
   "metadata": {},
   "outputs": [],
   "source": []
  },
  {
   "cell_type": "code",
   "execution_count": null,
   "id": "9ba966ac",
   "metadata": {},
   "outputs": [],
   "source": []
  },
  {
   "cell_type": "code",
   "execution_count": null,
   "id": "2e808836",
   "metadata": {},
   "outputs": [],
   "source": []
  },
  {
   "cell_type": "code",
   "execution_count": null,
   "id": "3c9b62bc",
   "metadata": {},
   "outputs": [],
   "source": []
  },
  {
   "cell_type": "code",
   "execution_count": null,
   "id": "a04388fa",
   "metadata": {},
   "outputs": [],
   "source": []
  },
  {
   "cell_type": "code",
   "execution_count": null,
   "id": "85661c8f",
   "metadata": {},
   "outputs": [],
   "source": []
  },
  {
   "cell_type": "code",
   "execution_count": null,
   "id": "32e0125a",
   "metadata": {},
   "outputs": [],
   "source": []
  },
  {
   "cell_type": "code",
   "execution_count": null,
   "id": "7d97f838",
   "metadata": {},
   "outputs": [],
   "source": []
  },
  {
   "cell_type": "code",
   "execution_count": null,
   "id": "0e024d26",
   "metadata": {},
   "outputs": [],
   "source": []
  },
  {
   "cell_type": "code",
   "execution_count": null,
   "id": "423822c4",
   "metadata": {},
   "outputs": [],
   "source": []
  },
  {
   "cell_type": "code",
   "execution_count": null,
   "id": "244a188b",
   "metadata": {},
   "outputs": [],
   "source": []
  },
  {
   "cell_type": "code",
   "execution_count": null,
   "id": "0ded4787",
   "metadata": {},
   "outputs": [],
   "source": []
  },
  {
   "cell_type": "code",
   "execution_count": null,
   "id": "f8269670",
   "metadata": {},
   "outputs": [],
   "source": []
  },
  {
   "cell_type": "code",
   "execution_count": null,
   "id": "d5ce61cf",
   "metadata": {},
   "outputs": [],
   "source": []
  },
  {
   "cell_type": "code",
   "execution_count": null,
   "id": "73c37029",
   "metadata": {},
   "outputs": [],
   "source": []
  },
  {
   "cell_type": "code",
   "execution_count": null,
   "id": "6db05aed",
   "metadata": {},
   "outputs": [],
   "source": []
  },
  {
   "cell_type": "code",
   "execution_count": null,
   "id": "4fbd0860",
   "metadata": {},
   "outputs": [],
   "source": []
  },
  {
   "cell_type": "code",
   "execution_count": null,
   "id": "d917a83d",
   "metadata": {},
   "outputs": [],
   "source": []
  },
  {
   "cell_type": "code",
   "execution_count": null,
   "id": "a7f7015a",
   "metadata": {},
   "outputs": [],
   "source": []
  },
  {
   "cell_type": "code",
   "execution_count": null,
   "id": "1c9ea23b",
   "metadata": {},
   "outputs": [],
   "source": []
  },
  {
   "cell_type": "code",
   "execution_count": null,
   "id": "45aaca5c",
   "metadata": {},
   "outputs": [],
   "source": []
  },
  {
   "cell_type": "code",
   "execution_count": null,
   "id": "04abe5e5",
   "metadata": {},
   "outputs": [],
   "source": []
  },
  {
   "cell_type": "code",
   "execution_count": null,
   "id": "bd227824",
   "metadata": {},
   "outputs": [],
   "source": []
  },
  {
   "cell_type": "code",
   "execution_count": null,
   "id": "afb071db",
   "metadata": {},
   "outputs": [],
   "source": []
  },
  {
   "cell_type": "code",
   "execution_count": null,
   "id": "f1017d77",
   "metadata": {},
   "outputs": [],
   "source": []
  },
  {
   "cell_type": "markdown",
   "id": "654fc27f",
   "metadata": {},
   "source": [
    "### `Take notes:`"
   ]
  },
  {
   "cell_type": "markdown",
   "id": "9b239e4f",
   "metadata": {},
   "source": [
    "1. `P(A or B)` = probability of event A or event B without the the probability of both A and B (intersection)\n",
    "- p(A or B) = p(A) + p(B) - p(A and B)"
   ]
  },
  {
   "cell_type": "code",
   "execution_count": 256,
   "id": "cb6dbbb5",
   "metadata": {},
   "outputs": [],
   "source": [
    " Hyakkaou_Private_Academy = pd.DataFrame({\n",
    "#                                          'ID':      [1,2,3,4,5,6,7,8,9,10],\n",
    "                                         'Name':    ['Yumeko','Kikari','Souko','Ririka','Mary',\n",
    "                                                    'Ryota','Kaede','Jun','Nagi','Ibara'],\n",
    "                                         'Gender':  ['girl','girl','girl','girl','girl',\n",
    "                                                     'boy','boy','boy','boy','boy'],\n",
    "                                         'Place': [1,2,3,4,5,6,7,8,9,10]\n",
    "                                         })"
   ]
  },
  {
   "cell_type": "code",
   "execution_count": 257,
   "id": "56ad7909",
   "metadata": {},
   "outputs": [
    {
     "data": {
      "text/html": [
       "<div>\n",
       "<style scoped>\n",
       "    .dataframe tbody tr th:only-of-type {\n",
       "        vertical-align: middle;\n",
       "    }\n",
       "\n",
       "    .dataframe tbody tr th {\n",
       "        vertical-align: top;\n",
       "    }\n",
       "\n",
       "    .dataframe thead th {\n",
       "        text-align: right;\n",
       "    }\n",
       "</style>\n",
       "<table border=\"1\" class=\"dataframe\">\n",
       "  <thead>\n",
       "    <tr style=\"text-align: right;\">\n",
       "      <th></th>\n",
       "      <th>Name</th>\n",
       "      <th>Gender</th>\n",
       "      <th>Place</th>\n",
       "    </tr>\n",
       "  </thead>\n",
       "  <tbody>\n",
       "    <tr>\n",
       "      <th>0</th>\n",
       "      <td>Yumeko</td>\n",
       "      <td>girl</td>\n",
       "      <td>1</td>\n",
       "    </tr>\n",
       "    <tr>\n",
       "      <th>1</th>\n",
       "      <td>Kikari</td>\n",
       "      <td>girl</td>\n",
       "      <td>2</td>\n",
       "    </tr>\n",
       "    <tr>\n",
       "      <th>2</th>\n",
       "      <td>Souko</td>\n",
       "      <td>girl</td>\n",
       "      <td>3</td>\n",
       "    </tr>\n",
       "    <tr>\n",
       "      <th>3</th>\n",
       "      <td>Ririka</td>\n",
       "      <td>girl</td>\n",
       "      <td>4</td>\n",
       "    </tr>\n",
       "    <tr>\n",
       "      <th>4</th>\n",
       "      <td>Mary</td>\n",
       "      <td>girl</td>\n",
       "      <td>5</td>\n",
       "    </tr>\n",
       "    <tr>\n",
       "      <th>5</th>\n",
       "      <td>Ryota</td>\n",
       "      <td>boy</td>\n",
       "      <td>6</td>\n",
       "    </tr>\n",
       "    <tr>\n",
       "      <th>6</th>\n",
       "      <td>Kaede</td>\n",
       "      <td>boy</td>\n",
       "      <td>7</td>\n",
       "    </tr>\n",
       "    <tr>\n",
       "      <th>7</th>\n",
       "      <td>Jun</td>\n",
       "      <td>boy</td>\n",
       "      <td>8</td>\n",
       "    </tr>\n",
       "    <tr>\n",
       "      <th>8</th>\n",
       "      <td>Nagi</td>\n",
       "      <td>boy</td>\n",
       "      <td>9</td>\n",
       "    </tr>\n",
       "    <tr>\n",
       "      <th>9</th>\n",
       "      <td>Ibara</td>\n",
       "      <td>boy</td>\n",
       "      <td>10</td>\n",
       "    </tr>\n",
       "  </tbody>\n",
       "</table>\n",
       "</div>"
      ],
      "text/plain": [
       "     Name Gender  Place\n",
       "0  Yumeko   girl      1\n",
       "1  Kikari   girl      2\n",
       "2   Souko   girl      3\n",
       "3  Ririka   girl      4\n",
       "4    Mary   girl      5\n",
       "5   Ryota    boy      6\n",
       "6   Kaede    boy      7\n",
       "7     Jun    boy      8\n",
       "8    Nagi    boy      9\n",
       "9   Ibara    boy     10"
      ]
     },
     "execution_count": 257,
     "metadata": {},
     "output_type": "execute_result"
    }
   ],
   "source": [
    " Hyakkaou_Private_Academy"
   ]
  },
  {
   "cell_type": "code",
   "execution_count": null,
   "id": "0a18811e",
   "metadata": {},
   "outputs": [],
   "source": [
    "A = []"
   ]
  },
  {
   "cell_type": "code",
   "execution_count": null,
   "id": "8db2fca6",
   "metadata": {},
   "outputs": [],
   "source": []
  },
  {
   "cell_type": "code",
   "execution_count": null,
   "id": "b8c7fb96",
   "metadata": {},
   "outputs": [],
   "source": []
  },
  {
   "cell_type": "code",
   "execution_count": null,
   "id": "5abcaa9a",
   "metadata": {},
   "outputs": [],
   "source": []
  },
  {
   "cell_type": "code",
   "execution_count": null,
   "id": "28b93c55",
   "metadata": {},
   "outputs": [],
   "source": []
  },
  {
   "cell_type": "code",
   "execution_count": null,
   "id": "175caa72",
   "metadata": {},
   "outputs": [],
   "source": []
  },
  {
   "cell_type": "code",
   "execution_count": null,
   "id": "9d8d62b5",
   "metadata": {},
   "outputs": [],
   "source": []
  },
  {
   "cell_type": "code",
   "execution_count": 253,
   "id": "97128786",
   "metadata": {},
   "outputs": [
    {
     "ename": "KeyError",
     "evalue": "'Element'",
     "output_type": "error",
     "traceback": [
      "\u001b[1;31m---------------------------------------------------------------------------\u001b[0m",
      "\u001b[1;31mKeyError\u001b[0m                                  Traceback (most recent call last)",
      "File \u001b[1;32m~\\anaconda3\\lib\\site-packages\\pandas\\core\\indexes\\base.py:3621\u001b[0m, in \u001b[0;36mIndex.get_loc\u001b[1;34m(self, key, method, tolerance)\u001b[0m\n\u001b[0;32m   3620\u001b[0m \u001b[38;5;28;01mtry\u001b[39;00m:\n\u001b[1;32m-> 3621\u001b[0m     \u001b[38;5;28;01mreturn\u001b[39;00m \u001b[38;5;28;43mself\u001b[39;49m\u001b[38;5;241;43m.\u001b[39;49m\u001b[43m_engine\u001b[49m\u001b[38;5;241;43m.\u001b[39;49m\u001b[43mget_loc\u001b[49m\u001b[43m(\u001b[49m\u001b[43mcasted_key\u001b[49m\u001b[43m)\u001b[49m\n\u001b[0;32m   3622\u001b[0m \u001b[38;5;28;01mexcept\u001b[39;00m \u001b[38;5;167;01mKeyError\u001b[39;00m \u001b[38;5;28;01mas\u001b[39;00m err:\n",
      "File \u001b[1;32m~\\anaconda3\\lib\\site-packages\\pandas\\_libs\\index.pyx:136\u001b[0m, in \u001b[0;36mpandas._libs.index.IndexEngine.get_loc\u001b[1;34m()\u001b[0m\n",
      "File \u001b[1;32m~\\anaconda3\\lib\\site-packages\\pandas\\_libs\\index.pyx:163\u001b[0m, in \u001b[0;36mpandas._libs.index.IndexEngine.get_loc\u001b[1;34m()\u001b[0m\n",
      "File \u001b[1;32mpandas\\_libs\\hashtable_class_helper.pxi:5198\u001b[0m, in \u001b[0;36mpandas._libs.hashtable.PyObjectHashTable.get_item\u001b[1;34m()\u001b[0m\n",
      "File \u001b[1;32mpandas\\_libs\\hashtable_class_helper.pxi:5206\u001b[0m, in \u001b[0;36mpandas._libs.hashtable.PyObjectHashTable.get_item\u001b[1;34m()\u001b[0m\n",
      "\u001b[1;31mKeyError\u001b[0m: 'Element'",
      "\nThe above exception was the direct cause of the following exception:\n",
      "\u001b[1;31mKeyError\u001b[0m                                  Traceback (most recent call last)",
      "Input \u001b[1;32mIn [253]\u001b[0m, in \u001b[0;36m<cell line: 2>\u001b[1;34m()\u001b[0m\n\u001b[0;32m      1\u001b[0m \u001b[38;5;66;03m# event A\u001b[39;00m\n\u001b[1;32m----> 2\u001b[0m A \u001b[38;5;241m=\u001b[39m  Hyakkaou_Private_Academy[\u001b[43mHyakkaou_Private_Academy\u001b[49m\u001b[43m[\u001b[49m\u001b[38;5;124;43m'\u001b[39;49m\u001b[38;5;124;43mElement\u001b[39;49m\u001b[38;5;124;43m'\u001b[39;49m\u001b[43m]\u001b[49m\u001b[38;5;241m.\u001b[39mstr\u001b[38;5;241m.\u001b[39mcontains(\u001b[38;5;124m'\u001b[39m\u001b[38;5;124mFire\u001b[39m\u001b[38;5;124m'\u001b[39m)]\n\u001b[0;32m      3\u001b[0m A \u001b[38;5;241m=\u001b[39m \u001b[38;5;28mlen\u001b[39m(A) \u001b[38;5;241m/\u001b[39m \u001b[38;5;28mlen\u001b[39m( Hyakkaou_Private_Academy)\n\u001b[0;32m      5\u001b[0m \u001b[38;5;66;03m# Event B\u001b[39;00m\n",
      "File \u001b[1;32m~\\anaconda3\\lib\\site-packages\\pandas\\core\\frame.py:3505\u001b[0m, in \u001b[0;36mDataFrame.__getitem__\u001b[1;34m(self, key)\u001b[0m\n\u001b[0;32m   3503\u001b[0m \u001b[38;5;28;01mif\u001b[39;00m \u001b[38;5;28mself\u001b[39m\u001b[38;5;241m.\u001b[39mcolumns\u001b[38;5;241m.\u001b[39mnlevels \u001b[38;5;241m>\u001b[39m \u001b[38;5;241m1\u001b[39m:\n\u001b[0;32m   3504\u001b[0m     \u001b[38;5;28;01mreturn\u001b[39;00m \u001b[38;5;28mself\u001b[39m\u001b[38;5;241m.\u001b[39m_getitem_multilevel(key)\n\u001b[1;32m-> 3505\u001b[0m indexer \u001b[38;5;241m=\u001b[39m \u001b[38;5;28;43mself\u001b[39;49m\u001b[38;5;241;43m.\u001b[39;49m\u001b[43mcolumns\u001b[49m\u001b[38;5;241;43m.\u001b[39;49m\u001b[43mget_loc\u001b[49m\u001b[43m(\u001b[49m\u001b[43mkey\u001b[49m\u001b[43m)\u001b[49m\n\u001b[0;32m   3506\u001b[0m \u001b[38;5;28;01mif\u001b[39;00m is_integer(indexer):\n\u001b[0;32m   3507\u001b[0m     indexer \u001b[38;5;241m=\u001b[39m [indexer]\n",
      "File \u001b[1;32m~\\anaconda3\\lib\\site-packages\\pandas\\core\\indexes\\base.py:3623\u001b[0m, in \u001b[0;36mIndex.get_loc\u001b[1;34m(self, key, method, tolerance)\u001b[0m\n\u001b[0;32m   3621\u001b[0m     \u001b[38;5;28;01mreturn\u001b[39;00m \u001b[38;5;28mself\u001b[39m\u001b[38;5;241m.\u001b[39m_engine\u001b[38;5;241m.\u001b[39mget_loc(casted_key)\n\u001b[0;32m   3622\u001b[0m \u001b[38;5;28;01mexcept\u001b[39;00m \u001b[38;5;167;01mKeyError\u001b[39;00m \u001b[38;5;28;01mas\u001b[39;00m err:\n\u001b[1;32m-> 3623\u001b[0m     \u001b[38;5;28;01mraise\u001b[39;00m \u001b[38;5;167;01mKeyError\u001b[39;00m(key) \u001b[38;5;28;01mfrom\u001b[39;00m \u001b[38;5;21;01merr\u001b[39;00m\n\u001b[0;32m   3624\u001b[0m \u001b[38;5;28;01mexcept\u001b[39;00m \u001b[38;5;167;01mTypeError\u001b[39;00m:\n\u001b[0;32m   3625\u001b[0m     \u001b[38;5;66;03m# If we have a listlike key, _check_indexing_error will raise\u001b[39;00m\n\u001b[0;32m   3626\u001b[0m     \u001b[38;5;66;03m#  InvalidIndexError. Otherwise we fall through and re-raise\u001b[39;00m\n\u001b[0;32m   3627\u001b[0m     \u001b[38;5;66;03m#  the TypeError.\u001b[39;00m\n\u001b[0;32m   3628\u001b[0m     \u001b[38;5;28mself\u001b[39m\u001b[38;5;241m.\u001b[39m_check_indexing_error(key)\n",
      "\u001b[1;31mKeyError\u001b[0m: 'Element'"
     ]
    }
   ],
   "source": [
    "# event A\n",
    "A =  Hyakkaou_Private_Academy[Hyakkaou_Private_Academy['Element'].str.contains('Fire')]\n",
    "A = len(A) / len( Hyakkaou_Private_Academy)\n",
    "\n",
    "# Event B\n",
    "B =  Hyakkaou_Private_Academy[Hyakkaou_Private_Academy['Element'].str.contains('Ice')]\n",
    "B = len(B) / len( Hyakkaou_Private_Academy)\n",
    "\n",
    "# Event A and B (intersection)\n",
    "A_and_B = Hyakkaou_Private_Academy[Hyakkaou_Private_Academy['Element'].str.contains('Ice | Fire')]\n",
    "A_and_B = len(A_and_B) / len( Hyakkaou_Private_Academy)"
   ]
  },
  {
   "cell_type": "code",
   "execution_count": 248,
   "id": "2741af03",
   "metadata": {},
   "outputs": [
    {
     "name": "stdout",
     "output_type": "stream",
     "text": [
      "0.7\n",
      "0.6\n",
      "0.3\n"
     ]
    }
   ],
   "source": [
    "# Verify\n",
    "print(A) # 7/10 string contains 'fire'\n",
    "print(B) # 6/10 string contains 'Ice'\n",
    "print(A_and_B) # 2/10 string contains 'fire and Ice'"
   ]
  },
  {
   "cell_type": "code",
   "execution_count": 249,
   "id": "e59a6e00",
   "metadata": {},
   "outputs": [
    {
     "data": {
      "text/plain": [
       "100.0"
      ]
     },
     "execution_count": 249,
     "metadata": {},
     "output_type": "execute_result"
    }
   ],
   "source": [
    "# p(A or B) = p(A) + p(B) - p(A and B)\n",
    "prob_A_and_B = (A + B) - (A_and_B)\n",
    "round(prob_A_and_B * 100, 2)"
   ]
  },
  {
   "cell_type": "code",
   "execution_count": 250,
   "id": "c2207369",
   "metadata": {},
   "outputs": [],
   "source": [
    "def prob_a_or_b(a, b, all_possible_outcomes):\n",
    "  # probability of event a\n",
    "    prob_a = len(a)/len(all_possible_outcomes)\n",
    "    \n",
    "    # probability of event b\n",
    "    prob_b = len(b)/len(all_possible_outcomes)\n",
    "    \n",
    "    # intersection of events a and b\n",
    "    inter = a.intersection(b)\n",
    "    \n",
    "    # probability of intersection of events a and b\n",
    "    prob_inter = len(inter)/len(all_possible_outcomes)\n",
    "    \n",
    "    # add return statement here\n",
    "    return prob_a + prob_b - prob_inter"
   ]
  },
  {
   "cell_type": "code",
   "execution_count": 146,
   "id": "f848e453",
   "metadata": {},
   "outputs": [],
   "source": [
    "odds = {1,6,7,4,5,9,10}\n",
    "greater_than_two = {1,6,7,2,3,8}\n",
    "all_possible_rolls = {1, 2, 3, 4, 5, 6}"
   ]
  },
  {
   "cell_type": "code",
   "execution_count": 147,
   "id": "de581f28",
   "metadata": {},
   "outputs": [
    {
     "data": {
      "text/plain": [
       "0.8333333333333333"
      ]
     },
     "execution_count": 147,
     "metadata": {},
     "output_type": "execute_result"
    }
   ],
   "source": [
    "prob_a_or_b(odds,greater_than_two, all_possible_rolls)"
   ]
  },
  {
   "cell_type": "code",
   "execution_count": null,
   "id": "0e56fc98",
   "metadata": {},
   "outputs": [],
   "source": []
  },
  {
   "cell_type": "code",
   "execution_count": null,
   "id": "3e42fa0a",
   "metadata": {},
   "outputs": [],
   "source": []
  },
  {
   "cell_type": "code",
   "execution_count": null,
   "id": "a44c18c0",
   "metadata": {},
   "outputs": [],
   "source": []
  },
  {
   "cell_type": "code",
   "execution_count": null,
   "id": "109b7f6c",
   "metadata": {},
   "outputs": [],
   "source": []
  },
  {
   "cell_type": "code",
   "execution_count": null,
   "id": "10bb1fd3",
   "metadata": {},
   "outputs": [],
   "source": []
  },
  {
   "cell_type": "code",
   "execution_count": null,
   "id": "487617bb",
   "metadata": {},
   "outputs": [],
   "source": []
  },
  {
   "cell_type": "code",
   "execution_count": null,
   "id": "75d828e6",
   "metadata": {},
   "outputs": [],
   "source": []
  },
  {
   "cell_type": "code",
   "execution_count": null,
   "id": "fc2a35fa",
   "metadata": {},
   "outputs": [],
   "source": []
  },
  {
   "cell_type": "code",
   "execution_count": 65,
   "id": "1fdb4f1a",
   "metadata": {},
   "outputs": [
    {
     "data": {
      "text/plain": [
       "Toei Animation       737\n",
       "Sunrise              476\n",
       "J.C.Staff            382\n",
       "TMS Entertainment    364\n",
       "MADHOUSE             357\n",
       "Name: Studio, dtype: int64"
      ]
     },
     "execution_count": 65,
     "metadata": {},
     "output_type": "execute_result"
    }
   ],
   "source": [
    "# check top 5 studio in terms of production number \n",
    "df.Studio.value_counts().head()"
   ]
  },
  {
   "cell_type": "code",
   "execution_count": 68,
   "id": "83db8b4d",
   "metadata": {},
   "outputs": [],
   "source": [
    "# set variable that only havve the top 5 studio\n",
    "dfq = df[df.Studio.isin(['Toei Animation',\n",
    "                         'Sunrise',\n",
    "                         'J.C.Staff',\n",
    "                         'TMS Entertainment',\n",
    "                         'MADHOUSE',\n",
    "                         ])]"
   ]
  },
  {
   "cell_type": "code",
   "execution_count": 70,
   "id": "d660ed49",
   "metadata": {},
   "outputs": [
    {
     "data": {
      "text/plain": [
       "Toei Animation       737\n",
       "Sunrise              476\n",
       "J.C.Staff            382\n",
       "TMS Entertainment    364\n",
       "MADHOUSE             357\n",
       "Name: Studio, dtype: int64"
      ]
     },
     "execution_count": 70,
     "metadata": {},
     "output_type": "execute_result"
    }
   ],
   "source": [
    "# verify\n",
    "dfq.Studio.value_counts().head()"
   ]
  },
  {
   "cell_type": "code",
   "execution_count": 74,
   "id": "6e51e011",
   "metadata": {},
   "outputs": [
    {
     "data": {
      "text/html": [
       "<div>\n",
       "<style scoped>\n",
       "    .dataframe tbody tr th:only-of-type {\n",
       "        vertical-align: middle;\n",
       "    }\n",
       "\n",
       "    .dataframe tbody tr th {\n",
       "        vertical-align: top;\n",
       "    }\n",
       "\n",
       "    .dataframe thead th {\n",
       "        text-align: right;\n",
       "    }\n",
       "</style>\n",
       "<table border=\"1\" class=\"dataframe\">\n",
       "  <thead>\n",
       "    <tr style=\"text-align: right;\">\n",
       "      <th></th>\n",
       "      <th>Studio</th>\n",
       "      <th>Verdict</th>\n",
       "    </tr>\n",
       "  </thead>\n",
       "  <tbody>\n",
       "    <tr>\n",
       "      <th>1</th>\n",
       "      <td>TMS Entertainment</td>\n",
       "      <td>very good</td>\n",
       "    </tr>\n",
       "    <tr>\n",
       "      <th>13</th>\n",
       "      <td>MADHOUSE</td>\n",
       "      <td>very good</td>\n",
       "    </tr>\n",
       "    <tr>\n",
       "      <th>20</th>\n",
       "      <td>Sunrise</td>\n",
       "      <td>good</td>\n",
       "    </tr>\n",
       "    <tr>\n",
       "      <th>36</th>\n",
       "      <td>Sunrise</td>\n",
       "      <td>good</td>\n",
       "    </tr>\n",
       "    <tr>\n",
       "      <th>39</th>\n",
       "      <td>Sunrise</td>\n",
       "      <td>good</td>\n",
       "    </tr>\n",
       "  </tbody>\n",
       "</table>\n",
       "</div>"
      ],
      "text/plain": [
       "               Studio    Verdict\n",
       "1   TMS Entertainment  very good\n",
       "13           MADHOUSE  very good\n",
       "20            Sunrise       good\n",
       "36            Sunrise       good\n",
       "39            Sunrise       good"
      ]
     },
     "execution_count": 74,
     "metadata": {},
     "output_type": "execute_result"
    }
   ],
   "source": [
    "dfq[['Studio', 'Verdict']].head()"
   ]
  },
  {
   "cell_type": "code",
   "execution_count": 91,
   "id": "661fda84",
   "metadata": {},
   "outputs": [],
   "source": [
    "ct = pd.crosstab(dfq.Studio, dfq.Verdict, margins=True, \n",
    "                 normalize=True\n",
    "                )"
   ]
  },
  {
   "cell_type": "code",
   "execution_count": 92,
   "id": "fa070146",
   "metadata": {},
   "outputs": [
    {
     "data": {
      "text/html": [
       "<div>\n",
       "<style scoped>\n",
       "    .dataframe tbody tr th:only-of-type {\n",
       "        vertical-align: middle;\n",
       "    }\n",
       "\n",
       "    .dataframe tbody tr th {\n",
       "        vertical-align: top;\n",
       "    }\n",
       "\n",
       "    .dataframe thead th {\n",
       "        text-align: right;\n",
       "    }\n",
       "</style>\n",
       "<table border=\"1\" class=\"dataframe\">\n",
       "  <thead>\n",
       "    <tr style=\"text-align: right;\">\n",
       "      <th>Verdict</th>\n",
       "      <th>avoid</th>\n",
       "      <th>very poor</th>\n",
       "      <th>poor</th>\n",
       "      <th>fair</th>\n",
       "      <th>good</th>\n",
       "      <th>very good</th>\n",
       "      <th>All</th>\n",
       "    </tr>\n",
       "    <tr>\n",
       "      <th>Studio</th>\n",
       "      <th></th>\n",
       "      <th></th>\n",
       "      <th></th>\n",
       "      <th></th>\n",
       "      <th></th>\n",
       "      <th></th>\n",
       "      <th></th>\n",
       "    </tr>\n",
       "  </thead>\n",
       "  <tbody>\n",
       "    <tr>\n",
       "      <th>J.C.Staff</th>\n",
       "      <td>0.65</td>\n",
       "      <td>2.03</td>\n",
       "      <td>5.74</td>\n",
       "      <td>6.74</td>\n",
       "      <td>1.34</td>\n",
       "      <td>0.00</td>\n",
       "      <td>16.49</td>\n",
       "    </tr>\n",
       "    <tr>\n",
       "      <th>MADHOUSE</th>\n",
       "      <td>0.22</td>\n",
       "      <td>1.25</td>\n",
       "      <td>7.04</td>\n",
       "      <td>4.53</td>\n",
       "      <td>2.33</td>\n",
       "      <td>0.04</td>\n",
       "      <td>15.41</td>\n",
       "    </tr>\n",
       "    <tr>\n",
       "      <th>Sunrise</th>\n",
       "      <td>0.69</td>\n",
       "      <td>1.21</td>\n",
       "      <td>8.85</td>\n",
       "      <td>8.20</td>\n",
       "      <td>1.60</td>\n",
       "      <td>0.00</td>\n",
       "      <td>20.55</td>\n",
       "    </tr>\n",
       "    <tr>\n",
       "      <th>TMS Entertainment</th>\n",
       "      <td>0.78</td>\n",
       "      <td>0.22</td>\n",
       "      <td>5.83</td>\n",
       "      <td>7.12</td>\n",
       "      <td>1.73</td>\n",
       "      <td>0.04</td>\n",
       "      <td>15.72</td>\n",
       "    </tr>\n",
       "    <tr>\n",
       "      <th>Toei Animation</th>\n",
       "      <td>1.94</td>\n",
       "      <td>1.64</td>\n",
       "      <td>15.28</td>\n",
       "      <td>11.83</td>\n",
       "      <td>1.12</td>\n",
       "      <td>0.00</td>\n",
       "      <td>31.82</td>\n",
       "    </tr>\n",
       "    <tr>\n",
       "      <th>All</th>\n",
       "      <td>4.27</td>\n",
       "      <td>6.35</td>\n",
       "      <td>42.75</td>\n",
       "      <td>38.43</td>\n",
       "      <td>8.12</td>\n",
       "      <td>0.09</td>\n",
       "      <td>100.00</td>\n",
       "    </tr>\n",
       "  </tbody>\n",
       "</table>\n",
       "</div>"
      ],
      "text/plain": [
       "Verdict            avoid  very poor   poor   fair  good  very good     All\n",
       "Studio                                                                    \n",
       "J.C.Staff           0.65       2.03   5.74   6.74  1.34       0.00   16.49\n",
       "MADHOUSE            0.22       1.25   7.04   4.53  2.33       0.04   15.41\n",
       "Sunrise             0.69       1.21   8.85   8.20  1.60       0.00   20.55\n",
       "TMS Entertainment   0.78       0.22   5.83   7.12  1.73       0.04   15.72\n",
       "Toei Animation      1.94       1.64  15.28  11.83  1.12       0.00   31.82\n",
       "All                 4.27       6.35  42.75  38.43  8.12       0.09  100.00"
      ]
     },
     "execution_count": 92,
     "metadata": {},
     "output_type": "execute_result"
    }
   ],
   "source": [
    "round(ct*100 ,2)"
   ]
  },
  {
   "cell_type": "code",
   "execution_count": null,
   "id": "7919c04d",
   "metadata": {},
   "outputs": [],
   "source": []
  },
  {
   "cell_type": "code",
   "execution_count": null,
   "id": "2e9f90af",
   "metadata": {},
   "outputs": [],
   "source": []
  },
  {
   "cell_type": "code",
   "execution_count": null,
   "id": "3f6545db",
   "metadata": {},
   "outputs": [],
   "source": []
  },
  {
   "cell_type": "code",
   "execution_count": null,
   "id": "784749c7",
   "metadata": {},
   "outputs": [],
   "source": []
  },
  {
   "cell_type": "code",
   "execution_count": null,
   "id": "ed1bed95",
   "metadata": {},
   "outputs": [],
   "source": []
  },
  {
   "cell_type": "code",
   "execution_count": null,
   "id": "24255e41",
   "metadata": {},
   "outputs": [],
   "source": []
  },
  {
   "cell_type": "code",
   "execution_count": null,
   "id": "abde19d3",
   "metadata": {},
   "outputs": [],
   "source": []
  },
  {
   "cell_type": "code",
   "execution_count": null,
   "id": "22636c41",
   "metadata": {},
   "outputs": [],
   "source": []
  },
  {
   "cell_type": "code",
   "execution_count": null,
   "id": "75fc3219",
   "metadata": {},
   "outputs": [],
   "source": []
  },
  {
   "cell_type": "code",
   "execution_count": null,
   "id": "a788a335",
   "metadata": {},
   "outputs": [],
   "source": []
  },
  {
   "cell_type": "code",
   "execution_count": null,
   "id": "fe794922",
   "metadata": {},
   "outputs": [],
   "source": []
  },
  {
   "cell_type": "code",
   "execution_count": null,
   "id": "e6bb705e",
   "metadata": {},
   "outputs": [],
   "source": []
  },
  {
   "cell_type": "code",
   "execution_count": null,
   "id": "6b1f741e",
   "metadata": {},
   "outputs": [],
   "source": []
  },
  {
   "cell_type": "code",
   "execution_count": null,
   "id": "84b812b3",
   "metadata": {},
   "outputs": [],
   "source": []
  },
  {
   "cell_type": "code",
   "execution_count": null,
   "id": "f20b238f",
   "metadata": {},
   "outputs": [],
   "source": []
  },
  {
   "cell_type": "code",
   "execution_count": null,
   "id": "1d660c45",
   "metadata": {},
   "outputs": [],
   "source": []
  },
  {
   "cell_type": "code",
   "execution_count": null,
   "id": "b26b4263",
   "metadata": {},
   "outputs": [],
   "source": []
  },
  {
   "cell_type": "markdown",
   "id": "c9bd7d84",
   "metadata": {},
   "source": [
    "***"
   ]
  },
  {
   "cell_type": "code",
   "execution_count": null,
   "id": "37f5b3ff",
   "metadata": {},
   "outputs": [],
   "source": [
    "import pandas as pd\n",
    "import numpy as np\n",
    "import matplotlib.pyplot as plt\n",
    "import seaborn as sns"
   ]
  },
  {
   "cell_type": "markdown",
   "id": "0627ba15",
   "metadata": {},
   "source": [
    "Create a variable that store non nulls for the 'Rating' column"
   ]
  },
  {
   "cell_type": "code",
   "execution_count": null,
   "id": "e75855d5",
   "metadata": {},
   "outputs": [],
   "source": [
    "df_survey = df[df['Rating'].notna()]"
   ]
  },
  {
   "cell_type": "markdown",
   "id": "652c68bd",
   "metadata": {},
   "source": [
    "Choose only the 'TV', 'Movie', and 'OVA' in Type column"
   ]
  },
  {
   "cell_type": "code",
   "execution_count": null,
   "id": "a2cb38a3",
   "metadata": {},
   "outputs": [],
   "source": [
    "# Clearing first the whitespcase\n",
    "df_survey['Type'] = df_survey['Type'].str.strip()\n",
    "# verify\n",
    "df_survey.Type.unique()"
   ]
  },
  {
   "cell_type": "code",
   "execution_count": null,
   "id": "94faac1e",
   "metadata": {},
   "outputs": [],
   "source": [
    "df_survey = df_survey[df_survey.Type.isin(['TV', 'OVA', 'Movie'])]\n",
    "# verify\n",
    "df_survey.Type.unique()"
   ]
  },
  {
   "cell_type": "markdown",
   "id": "e3166c72",
   "metadata": {},
   "source": [
    "Create a new column named 'Judgement'. This will categorize the 'Studio' columns as good or bad"
   ]
  },
  {
   "cell_type": "code",
   "execution_count": null,
   "id": "65575957",
   "metadata": {},
   "outputs": [],
   "source": [
    "import warnings\n",
    "warnings.filterwarnings(\"ignore\")\n",
    "\n",
    "conditions = [\n",
    "    (df_survey['Rating'] >= 3), # good\n",
    "    (df_survey['Rating'] < 3), # bad\n",
    "]\n",
    "\n",
    "values = ['good', 'bad']\n",
    "\n",
    "df_survey['Judgement'] = np.select(conditions, values)"
   ]
  },
  {
   "cell_type": "code",
   "execution_count": null,
   "id": "bcf12a5c",
   "metadata": {},
   "outputs": [],
   "source": [
    "df_survey[['Type', 'Rating', 'Judgement']].head()"
   ]
  },
  {
   "cell_type": "code",
   "execution_count": null,
   "id": "e824ca9e",
   "metadata": {},
   "outputs": [],
   "source": [
    "from scipy.stats import chi2_contingency"
   ]
  },
  {
   "cell_type": "markdown",
   "id": "6edfdf6b",
   "metadata": {},
   "source": [
    "### Contingency table frequency"
   ]
  },
  {
   "cell_type": "code",
   "execution_count": null,
   "id": "00dfbbfd",
   "metadata": {
    "code_folding": []
   },
   "outputs": [],
   "source": [
    "#\n",
    "# Visualize\n",
    "\n",
    "Anime_type = ['Movie', 'OVA', 'TV']\n",
    "bad = [397,371,477]\n",
    "good= [2154,1615,4125]\n",
    "\n",
    "x = np.arange(len(Anime_type))  # the color locations\n",
    "width = 0.35  # the width of the bars\n",
    "\n",
    "fig, ax = plt.subplots(figsize=(8, 6))\n",
    "rects1 = ax.bar(x - width/2, bad, width, label='bad')\n",
    "rects2 = ax.bar(x + width/2, good, width, label='good')\n",
    "\n",
    "# Add some text for labels, title and custom x-axis tick labels, etc.\n",
    "ax.set_ylabel('Color Counts')\n",
    "ax.set_title('Anime Type Judgement')\n",
    "ax.set_xticks(x)\n",
    "ax.set_xticklabels(Anime_type)\n",
    "ax.legend(loc='upper left')\n",
    "\n",
    "def autolabel(rects):\n",
    "    \"\"\"Attach a text label above each bar in *rects*, displaying its height.\"\"\"\n",
    "    for rect in rects:\n",
    "        height = rect.get_height()\n",
    "        ax.annotate('{}'.format(height),\n",
    "                    xy=(rect.get_x() + rect.get_width() / 2, height),\n",
    "                    xytext=(0, 3),  # 3 points vertical offset\n",
    "                    textcoords=\"offset points\",\n",
    "                    ha='center', va='bottom')\n",
    "\n",
    "autolabel(rects1)\n",
    "autolabel(rects2)\n",
    "fig.tight_layout()"
   ]
  },
  {
   "cell_type": "markdown",
   "id": "4385fc5e",
   "metadata": {},
   "source": [
    "### Frequency"
   ]
  },
  {
   "cell_type": "code",
   "execution_count": null,
   "id": "64f2d740",
   "metadata": {},
   "outputs": [],
   "source": [
    "Contingency_table = pd.crosstab(df_survey.Judgement, df_survey.Type, margins=True)\n",
    "Contingency_table"
   ]
  },
  {
   "cell_type": "markdown",
   "id": "e0459aee",
   "metadata": {},
   "source": [
    "### Proportion"
   ]
  },
  {
   "cell_type": "code",
   "execution_count": null,
   "id": "e8ebfbf1",
   "metadata": {},
   "outputs": [],
   "source": [
    "Contingency_table = pd.crosstab(df_survey.Judgement, df_survey.Type, margins=True, normalize=True)\n",
    "round(Contingency_table*100 ,2)"
   ]
  },
  {
   "cell_type": "markdown",
   "id": "945163df",
   "metadata": {},
   "source": [
    "`Interpretation`\n",
    "\n",
    "- 12.64% probability of getting a bad judgement in movie type\n",
    "- 29.88% probability of getting a bad judgement whether any of the anime type\n",
    "- 19.13% probability of getting a good judgement in movie type\n",
    "- 31.77% probability of judgment from movie type wheter good or bad. "
   ]
  },
  {
   "cell_type": "markdown",
   "id": "f843c194",
   "metadata": {},
   "source": [
    "### `Conditional Probabilities:`"
   ]
  },
  {
   "cell_type": "markdown",
   "id": "244694bb",
   "metadata": {},
   "source": [
    "1. Probability of  a `movie` and `bad`(12.64%) given that we already know the total `bad` (29.88%)\n",
    "- p(movie and bad | total bad)\n",
    "- p(12.64 / 29.88)"
   ]
  },
  {
   "cell_type": "code",
   "execution_count": null,
   "id": "232d633a",
   "metadata": {},
   "outputs": [],
   "source": [
    "# p(12.64 / 29.88)\n",
    "(12.64 / 29.88 * 100)"
   ]
  },
  {
   "cell_type": "markdown",
   "id": "976a6ab5",
   "metadata": {},
   "source": [
    "The probability of getting a bad judgement in movie type given that we already know that there is 29.88% total `bad judgement` is increase which is now `42%`."
   ]
  },
  {
   "cell_type": "markdown",
   "id": "d9c1df52",
   "metadata": {},
   "source": [
    "#### `Further explaination`\n",
    "\n",
    "We got 12.64% probability of of getting a bad judgement without knowing the total number of bad judgement(29.88%) (initially what we know is the total population(100%))"
   ]
  },
  {
   "cell_type": "markdown",
   "id": "877329d5",
   "metadata": {},
   "source": [
    "2. Probability of  a `movie` and `bad`(12.64%) given that we already know the total `movie` (31.77%)\n",
    "- p(movie and bad | total bad)\n",
    "- p(12.64 / 31.77)"
   ]
  },
  {
   "cell_type": "code",
   "execution_count": null,
   "id": "0caffecc",
   "metadata": {},
   "outputs": [],
   "source": [
    "(12.64/31.77 * 100)"
   ]
  },
  {
   "cell_type": "markdown",
   "id": "164da2f1",
   "metadata": {},
   "source": [
    "# `Deriving Baye's Theorem`"
   ]
  },
  {
   "cell_type": "code",
   "execution_count": null,
   "id": "9aad3c62",
   "metadata": {},
   "outputs": [],
   "source": [
    "round(Contingency_table*100 ,2)"
   ]
  },
  {
   "cell_type": "markdown",
   "id": "b8594ea3",
   "metadata": {},
   "source": [
    "1. ) Probability of movie and bad given total bad\n",
    "- p(movie and bad | total bad)\n",
    "- p(12.64 / 29.88)"
   ]
  },
  {
   "cell_type": "code",
   "execution_count": null,
   "id": "ddd8c751",
   "metadata": {},
   "outputs": [],
   "source": [
    "(12.64 / 29.88 )"
   ]
  },
  {
   "cell_type": "markdown",
   "id": "05e6869f",
   "metadata": {},
   "source": [
    "2. ) Probability of movie and bad given total movie\n",
    "- p(movie and bad | total movie)\n",
    "- p(12.64 / 31.77)"
   ]
  },
  {
   "cell_type": "code",
   "execution_count": null,
   "id": "c693768e",
   "metadata": {},
   "outputs": [],
   "source": [
    "(12.64 / 31.77 * 100)"
   ]
  },
  {
   "cell_type": "markdown",
   "id": "e332f4f3",
   "metadata": {},
   "source": [
    "We got diffrent probabilities. The results scale based on the given information we know (given total bad vs given total movie)"
   ]
  },
  {
   "cell_type": "markdown",
   "id": "95e837b5",
   "metadata": {},
   "source": [
    "### 1. Question\n",
    "Can we solve p(movie and bad | total bad) without knowing `p(movie and bad)`?\n",
    "\n",
    "This means that can we find the probability of getting `movie and bad` without knowing it in the first place. We only know the `total bad` (29.88%)."
   ]
  },
  {
   "cell_type": "raw",
   "id": "45346668",
   "metadata": {},
   "source": [
    "- p(movie and bad | total bad) =  p(movie and bad ) \n",
    "                                   --------------------  \n",
    "                                      p(total bad)\n",
    "\n",
    "\n",
    "# multiply both side by p(total bad)\n",
    "\n",
    "- p(movie and bad | total bad) X p(total bad) =  p(movie and bad) \n",
    "                                                ----------------- X p(total bad) -> CANCELLED OUT \n",
    "                                                   p(total bad) -> CANCELLED OUT\n",
    "                                                   \n",
    "# we are left with this formula for p(movie and bad)                                             \n",
    "- p(movie and bad | total bad) X p(total bad) =  p(movie and bad)                                                    "
   ]
  },
  {
   "cell_type": "raw",
   "id": "cbf6f4a2",
   "metadata": {},
   "source": [
    "- p(movie and bad | total movie) =  p(movie and bad ) \n",
    "                                   --------------------  \n",
    "                                      p(total movie)\n",
    "\n",
    "\n",
    "\n",
    "- p(movie and bad | total movie) X p(total movie) =  p(movie and bad) \n",
    "                                                     ----------------- X p(total movie)->CANCEL  \n",
    "                                                       p(total movie) -> CANCELLED OUT\n",
    "                                                   \n",
    "                                                   \n",
    "- p(movie and bad | total movie) X p(total movie) =  p(movie and bad)                                                    "
   ]
  },
  {
   "cell_type": "markdown",
   "id": "8ef1b34f",
   "metadata": {},
   "source": [
    "- p(movie and bad | total bad) X p(total bad) =  p(movie and bad) \n",
    "\n",
    "and \n",
    "\n",
    "- p(movie and bad | total movie) X p(total movie) =  p(movie and bad)  "
   ]
  },
  {
   "cell_type": "markdown",
   "id": "20f917db",
   "metadata": {},
   "source": [
    "`Note:` We have equal probability of p(movie and bad) from both formula"
   ]
  },
  {
   "cell_type": "markdown",
   "id": "3c824612",
   "metadata": {},
   "source": [
    "##### We want to solve for the `p(movie and bad | total bad)`"
   ]
  },
  {
   "cell_type": "markdown",
   "id": "efc98e76",
   "metadata": {},
   "source": [
    "`p(movie and bad | total bad) X p(total bad) = p(movie and bad | total movie) X p(total movie)`"
   ]
  },
  {
   "attachments": {
    "bayes.png": {
     "image/png": "[encoded data removed]"
    }
   },
   "cell_type": "markdown",
   "id": "60e3d283",
   "metadata": {},
   "source": [
    "![bayes.png](attachment:bayes.png)"
   ]
  },
  {
   "cell_type": "markdown",
   "id": "867bea5d",
   "metadata": {},
   "source": [
    "Lets subtistute movie and bad with A and B:\n",
    "- A = movie\n",
    "- B = bad\n"
   ]
  },
  {
   "cell_type": "code",
   "execution_count": null,
   "id": "f31fff33",
   "metadata": {},
   "outputs": [],
   "source": [
    "round(Contingency_table*100 ,2)"
   ]
  },
  {
   "cell_type": "raw",
   "id": "5f0e608b",
   "metadata": {},
   "source": [
    "- p(A & B | B) = p(A & B | A) * p(A)\n",
    "                ---------------------\n",
    "                        p(B)\n",
    "                     \n",
    "\n",
    "- p(A & B | B) =   p(12.64 / 31.77) * p(31.77) \n",
    "                  ------------------------------\n",
    "                           p(29.88)\n",
    "           \n",
    "               =     12.64\n",
    "                   ----------\n",
    "                     29.88\n",
    "      \n",
    "               = 42.30      "
   ]
  },
  {
   "cell_type": "raw",
   "id": "968c3a8c",
   "metadata": {},
   "source": [
    "- p(A & B | A) = p(A & B | B) * p(B)\n",
    "                ---------------------\n",
    "                        p(A)\n",
    "\n",
    "\n",
    "               = p(12.64 / 29.88) * p(29.88) \n",
    "                ------------------------------\n",
    "                        p(31.77)\n",
    "           \n",
    "\n",
    "               =     12.64\n",
    "                   ----------\n",
    "                     31.77\n",
    "      \n",
    "               = 39.78                      "
   ]
  },
  {
   "cell_type": "markdown",
   "id": "e98b4015",
   "metadata": {},
   "source": [
    "Bayes Theorem is not that complicated if we know and have plotted all the information in a contingency table. But what if we only have limited knowledge about our data, for example we don't really know the `total bad` because it's almost impossible to know the total person in the whole world who will judge an anime as bad we just took a sample."
   ]
  },
  {
   "cell_type": "code",
   "execution_count": null,
   "id": "dff59cbb",
   "metadata": {},
   "outputs": [],
   "source": [
    "round(Contingency_table*100 ,2)"
   ]
  },
  {
   "cell_type": "markdown",
   "id": "3e1c5fce",
   "metadata": {},
   "source": [
    "1. A = movie\n",
    "2. B = bad\n",
    "\n",
    "\n",
    "- p(A and B) = 12.64\n",
    "- p(A) = 31.77\n",
    "- p(B) = ???"
   ]
  },
  {
   "cell_type": "markdown",
   "id": "d3779d17",
   "metadata": {},
   "source": [
    "We don't know the probability of bad `p(B)` so the best way is to make a guess. Let's say 45%. then plug it in the Baye's Theorem."
   ]
  },
  {
   "cell_type": "raw",
   "id": "8b814306",
   "metadata": {},
   "source": [
    "- p(A & B | B) = p(A & B | A) * p(A)\n",
    "                ---------------------\n",
    "                        p(B)\n",
    "                     \n",
    "\n",
    "- p(A & B | B) =   p(12.64 / 31.77) * p(31.77) \n",
    "                  ------------------------------\n",
    "                           p(45.00)  -> HERE WE PUT OUR GUESS PROBABILITY\n",
    "           \n",
    "               =     12.64\n",
    "                   ----------\n",
    "                     45.00\n",
    "      \n",
    "               = 28.08   "
   ]
  },
  {
   "cell_type": "markdown",
   "id": "352fbe07",
   "metadata": {},
   "source": [
    "The probability of movie and bad given of 45% our guess total bad is 28.08%."
   ]
  },
  {
   "cell_type": "markdown",
   "id": "fd11aade",
   "metadata": {},
   "source": [
    "We have 28.08% of the movie being judge as bad if we have 45% of the population answered bad."
   ]
  },
  {
   "cell_type": "markdown",
   "id": "3455814e",
   "metadata": {},
   "source": [
    "# Central Limit Theorem\n",
    "The CLT states that the sampling distribution of the mean is normally distributed as long as the population is not too skewed or the sample size is large enough. "
   ]
  },
  {
   "cell_type": "markdown",
   "id": "eb449d56",
   "metadata": {},
   "source": [
    "#### Function for our visualization"
   ]
  },
  {
   "cell_type": "code",
   "execution_count": 6,
   "id": "a6726ef6",
   "metadata": {
    "code_folding": [
     9
    ]
   },
   "outputs": [],
   "source": [
    "#\n",
    "####################################################################################################################\n",
    "\n",
    "# choose_statistic() allows us to choose a statistic we want to calculate for our sampling and population distributions.\n",
    "# It contains two parameters:\n",
    "\n",
    "# x: An array of numbers\n",
    "# sample_stat_text: A string that tells the function which statistic to calculate on x.\n",
    "# It takes on three values: “Mean”, “Minimum”, or “Variance”.\n",
    "def choose_statistic(x, sample_stat_text):\n",
    "    # calculate mean if the text is \"Mean\"\n",
    "    if sample_stat_text == \"Mean\":\n",
    "        return np.mean(x)\n",
    "    # calculate minimum if the text is \"Minimum\"\n",
    "    elif sample_stat_text == \"Minimum\":\n",
    "        return np.min(x)\n",
    "    # calculate variance if the text is \"Variance\"\n",
    "    elif sample_stat_text == \"Variance\":\n",
    "        return np.var(x, ddof=1) # ddof=1 to edit the formula behind making variance a unbiased estimator\n",
    "    # if you want to add an extra stat\n",
    "    # raise error if sample_stat_text is not \"Mean\", \"Minimum\", or \"Variance\"\n",
    "    else:\n",
    "        raise Exception('Make sure to input \"Mean\", \"Minimum\", or \"Variance\"')\n",
    "\n",
    "####################################################################################################################\n",
    "\n",
    "#population_distribution() allows us to plot the population distribution of a dataframe with one function call.\n",
    "# It takes the following parameter:\n",
    "# population_data: the dataframe being passed into the function\n",
    "def population_distribution(population_data):\n",
    "    # plot the population distribution\n",
    "    sns.histplot(population_data, stat='density',  kde=True)\n",
    "    plt.axvline(np.mean(population_data), linestyle='--', color='r', label='Population Mean: ' + str(round(np.mean(population_data))))\n",
    "    # informative title for the distribution\n",
    "    plt.title(f\"Population Distribution\")\n",
    "    plt.legend()\n",
    "    plt.show()\n",
    "    plt.clf()\n",
    "\n",
    "####################################################################################################################\n",
    "\n",
    "# sampling_distribution() allows us to plot a simulated sampling distribution of a statistic.\n",
    "# The simulated sampling distribution is created by taking random samples of some size,\n",
    "# calculating a particular statistic, and plotting a histogram of those sample statistics.\n",
    "# It contains three parameters:\n",
    "# population_data: the dataframe being sampled from\n",
    "# samp_size: the size of each sample\n",
    "# stat: the specific statistic being measured for each sample — either “Mean”, “Minimum”, or “Variance”\n",
    "def sampling_distribution(population_data, number_of_sample, samp_size, stat):\n",
    "    # list that will hold all the sample statistics\n",
    "    sample_stats = []\n",
    "    for i in range(number_of_sample):\n",
    "        # get a random sample from the population of size samp_size\n",
    "        samp = np.random.choice(population_data, samp_size, replace=False)\n",
    "        # calculate the chosen statistic (mean, minimum, or variance) of the sample\n",
    "        sample_stat = choose_statistic(samp, stat)\n",
    "        # add sample_stat to the sample_stats list\n",
    "        sample_stats.append(sample_stat)\n",
    "\n",
    "    pop_statistic = round(choose_statistic(population_data, stat), 2)\n",
    "    # plot the sampling distribution\n",
    "    sns.histplot(sample_stats, stat='density')\n",
    "    # informative title for the sampling distribution\n",
    "    plt.title(\n",
    "        f\"Sampling Distribution of the {stat} \\nMean of the Sample {stat}s: {round(np.mean(sample_stats), 2)} \\n Population {stat}: {pop_statistic}\")\n",
    "    plt.axvline(pop_statistic, color='r', linestyle='dashed', label=f'Population {stat}')\n",
    "    # plot the mean of the chosen sample statistic for the sampling distribution\n",
    "    plt.axvline(np.mean(sample_stats), color='orange', linestyle='dashed', label=f'Mean of the Sample {stat}s')\n",
    "    plt.legend()\n",
    "    plt.show()\n",
    "    plt.clf()\n",
    "    \n",
    "####################################################################################################################"
   ]
  },
  {
   "cell_type": "markdown",
   "id": "f9963811",
   "metadata": {},
   "source": [
    "#### Were using our  'Episodes' column for yhis example"
   ]
  },
  {
   "cell_type": "code",
   "execution_count": 7,
   "id": "a0264697",
   "metadata": {},
   "outputs": [
    {
     "ename": "NameError",
     "evalue": "name 'df_E' is not defined",
     "output_type": "error",
     "traceback": [
      "\u001b[1;31m---------------------------------------------------------------------------\u001b[0m",
      "\u001b[1;31mNameError\u001b[0m                                 Traceback (most recent call last)",
      "Input \u001b[1;32mIn [7]\u001b[0m, in \u001b[0;36m<cell line: 2>\u001b[1;34m()\u001b[0m\n\u001b[0;32m      1\u001b[0m \u001b[38;5;66;03m# storingthe episodes distribution in a variable\u001b[39;00m\n\u001b[1;32m----> 2\u001b[0m population_data \u001b[38;5;241m=\u001b[39m \u001b[43mdf_E\u001b[49m\u001b[38;5;241m.\u001b[39mEpisodes\n",
      "\u001b[1;31mNameError\u001b[0m: name 'df_E' is not defined"
     ]
    }
   ],
   "source": [
    "# storingthe episodes distribution in a variable\n",
    "population_data = df_E.Episodes"
   ]
  },
  {
   "cell_type": "code",
   "execution_count": 3,
   "id": "a1780d78",
   "metadata": {},
   "outputs": [
    {
     "ename": "NameError",
     "evalue": "name 'population_data' is not defined",
     "output_type": "error",
     "traceback": [
      "\u001b[1;31m---------------------------------------------------------------------------\u001b[0m",
      "\u001b[1;31mNameError\u001b[0m                                 Traceback (most recent call last)",
      "Input \u001b[1;32mIn [3]\u001b[0m, in \u001b[0;36m<cell line: 2>\u001b[1;34m()\u001b[0m\n\u001b[0;32m      1\u001b[0m \u001b[38;5;66;03m# plot the distribution\u001b[39;00m\n\u001b[1;32m----> 2\u001b[0m population_distribution(\u001b[43mpopulation_data\u001b[49m)\n",
      "\u001b[1;31mNameError\u001b[0m: name 'population_data' is not defined"
     ]
    }
   ],
   "source": [
    "# plot the distribution\n",
    "population_distribution(population_data)"
   ]
  },
  {
   "cell_type": "markdown",
   "id": "09a6ca1d",
   "metadata": {},
   "source": [
    "Distribution looks binomial, Can we group this into two categories? We can use K-means clusttering for this distribution but thats for another topic. We will do our Machine Learning activities in seperate notebook."
   ]
  },
  {
   "cell_type": "code",
   "execution_count": null,
   "id": "28ffd4c0",
   "metadata": {},
   "outputs": [],
   "source": [
    "# fuction that takes 4 paramenters\n",
    "# 1. the distribution data\n",
    "# 2. number of samples to take\n",
    "# 3. sample size\n",
    "# 4. choose statistic\n",
    "sampling_distribution(population_data, 1, 100, 'Mean')"
   ]
  },
  {
   "cell_type": "code",
   "execution_count": null,
   "id": "5f911e9c",
   "metadata": {},
   "outputs": [],
   "source": [
    "# number of sample = 7\n",
    "sampling_distribution(population_data, 7, 100, 'Mean')"
   ]
  },
  {
   "cell_type": "code",
   "execution_count": null,
   "id": "a461c4ef",
   "metadata": {},
   "outputs": [],
   "source": [
    "# number of sample: 100\n",
    "sampling_distribution(population_data, 100, 100, 'Mean')"
   ]
  },
  {
   "cell_type": "markdown",
   "id": "b467d84f",
   "metadata": {},
   "source": [
    "\n",
    "As we take more and more samples our `mean of samples means` becoming more closer to our original `population mean`. Thats because as we take ramdom sampling, the value of that random are more likely closer to the population mean (17)."
   ]
  },
  {
   "cell_type": "code",
   "execution_count": null,
   "id": "175d2970",
   "metadata": {},
   "outputs": [],
   "source": []
  },
  {
   "cell_type": "code",
   "execution_count": null,
   "id": "93f73667",
   "metadata": {},
   "outputs": [],
   "source": []
  },
  {
   "cell_type": "code",
   "execution_count": null,
   "id": "8bbad2b2",
   "metadata": {},
   "outputs": [],
   "source": []
  },
  {
   "cell_type": "code",
   "execution_count": null,
   "id": "2323e85e",
   "metadata": {},
   "outputs": [],
   "source": []
  },
  {
   "cell_type": "code",
   "execution_count": null,
   "id": "c840b0c9",
   "metadata": {},
   "outputs": [],
   "source": []
  },
  {
   "cell_type": "code",
   "execution_count": null,
   "id": "3ce1e7e8",
   "metadata": {},
   "outputs": [],
   "source": []
  },
  {
   "cell_type": "code",
   "execution_count": null,
   "id": "c2aea153",
   "metadata": {},
   "outputs": [],
   "source": []
  },
  {
   "cell_type": "code",
   "execution_count": null,
   "id": "d016f89c",
   "metadata": {},
   "outputs": [],
   "source": []
  },
  {
   "cell_type": "code",
   "execution_count": null,
   "id": "32fbbb3d",
   "metadata": {},
   "outputs": [],
   "source": []
  },
  {
   "cell_type": "code",
   "execution_count": null,
   "id": "5298d852",
   "metadata": {},
   "outputs": [],
   "source": []
  },
  {
   "cell_type": "code",
   "execution_count": null,
   "id": "a9488f41",
   "metadata": {},
   "outputs": [],
   "source": []
  },
  {
   "cell_type": "code",
   "execution_count": null,
   "id": "df2db890",
   "metadata": {},
   "outputs": [],
   "source": []
  },
  {
   "cell_type": "code",
   "execution_count": null,
   "id": "41a35e94",
   "metadata": {},
   "outputs": [],
   "source": []
  },
  {
   "cell_type": "code",
   "execution_count": null,
   "id": "f0b09b56",
   "metadata": {},
   "outputs": [],
   "source": []
  },
  {
   "cell_type": "code",
   "execution_count": null,
   "id": "97710e59",
   "metadata": {},
   "outputs": [],
   "source": []
  },
  {
   "cell_type": "code",
   "execution_count": null,
   "id": "b1ed5916",
   "metadata": {},
   "outputs": [],
   "source": []
  },
  {
   "cell_type": "code",
   "execution_count": null,
   "id": "dac7e6a7",
   "metadata": {},
   "outputs": [],
   "source": []
  },
  {
   "cell_type": "code",
   "execution_count": null,
   "id": "45458e2a",
   "metadata": {},
   "outputs": [],
   "source": []
  },
  {
   "cell_type": "code",
   "execution_count": null,
   "id": "842511f6",
   "metadata": {},
   "outputs": [],
   "source": []
  },
  {
   "cell_type": "code",
   "execution_count": null,
   "id": "cf54383f",
   "metadata": {},
   "outputs": [],
   "source": []
  },
  {
   "cell_type": "code",
   "execution_count": null,
   "id": "5d6a2552",
   "metadata": {},
   "outputs": [],
   "source": []
  },
  {
   "cell_type": "code",
   "execution_count": null,
   "id": "a2bccf0a",
   "metadata": {},
   "outputs": [],
   "source": []
  },
  {
   "cell_type": "code",
   "execution_count": null,
   "id": "2e1c3aeb",
   "metadata": {},
   "outputs": [],
   "source": []
  },
  {
   "cell_type": "code",
   "execution_count": null,
   "id": "1e564e54",
   "metadata": {},
   "outputs": [],
   "source": []
  },
  {
   "cell_type": "code",
   "execution_count": null,
   "id": "74147c2d",
   "metadata": {},
   "outputs": [],
   "source": []
  },
  {
   "cell_type": "code",
   "execution_count": null,
   "id": "07e62bf3",
   "metadata": {},
   "outputs": [],
   "source": []
  },
  {
   "cell_type": "code",
   "execution_count": null,
   "id": "0f0ecda4",
   "metadata": {},
   "outputs": [],
   "source": []
  },
  {
   "cell_type": "code",
   "execution_count": null,
   "id": "e9744037",
   "metadata": {},
   "outputs": [],
   "source": []
  }
 ],
 "metadata": {
  "kernelspec": {
   "display_name": "Python 3 (ipykernel)",
   "language": "python",
   "name": "python3"
  },
  "language_info": {
   "codemirror_mode": {
    "name": "ipython",
    "version": 3
   },
   "file_extension": ".py",
   "mimetype": "text/x-python",
   "name": "python",
   "nbconvert_exporter": "python",
   "pygments_lexer": "ipython3",
   "version": "3.8.13"
  }
 },
 "nbformat": 4,
 "nbformat_minor": 5
}
