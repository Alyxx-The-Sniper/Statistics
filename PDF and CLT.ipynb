{
 "cells": [
  {
   "cell_type": "markdown",
   "id": "b3849177",
   "metadata": {},
   "source": [
    "# Probability Distribution Function "
   ]
  },
  {
   "cell_type": "code",
   "execution_count": 1,
   "id": "4831a126",
   "metadata": {
    "scrolled": false
   },
   "outputs": [],
   "source": [
    "import pandas as pd\n",
    "import numpy as np\n",
    "import matplotlib.pyplot as plt\n",
    "import seaborn as sns\n",
    "from scipy import stats\n",
    "from scipy.stats import binom"
   ]
  },
  {
   "cell_type": "code",
   "execution_count": 2,
   "id": "8fb27b2b",
   "metadata": {
    "scrolled": false
   },
   "outputs": [
    {
     "name": "stdout",
     "output_type": "stream",
     "text": [
      "(21613, 13)\n"
     ]
    },
    {
     "data": {
      "text/html": [
       "<div>\n",
       "<style scoped>\n",
       "    .dataframe tbody tr th:only-of-type {\n",
       "        vertical-align: middle;\n",
       "    }\n",
       "\n",
       "    .dataframe tbody tr th {\n",
       "        vertical-align: top;\n",
       "    }\n",
       "\n",
       "    .dataframe thead th {\n",
       "        text-align: right;\n",
       "    }\n",
       "</style>\n",
       "<table border=\"1\" class=\"dataframe\">\n",
       "  <thead>\n",
       "    <tr style=\"text-align: right;\">\n",
       "      <th></th>\n",
       "      <th>id</th>\n",
       "      <th>price</th>\n",
       "      <th>bedrooms</th>\n",
       "      <th>bathrooms</th>\n",
       "      <th>sqft_living</th>\n",
       "      <th>sqft_lot</th>\n",
       "      <th>floors</th>\n",
       "      <th>waterfront</th>\n",
       "      <th>view</th>\n",
       "      <th>condition</th>\n",
       "      <th>grade</th>\n",
       "      <th>sqft_above</th>\n",
       "      <th>sqft_basement</th>\n",
       "    </tr>\n",
       "  </thead>\n",
       "  <tbody>\n",
       "    <tr>\n",
       "      <th>0</th>\n",
       "      <td>7129300520</td>\n",
       "      <td>221900.0</td>\n",
       "      <td>3</td>\n",
       "      <td>1.00</td>\n",
       "      <td>1180</td>\n",
       "      <td>5650</td>\n",
       "      <td>1.0</td>\n",
       "      <td>0</td>\n",
       "      <td>0</td>\n",
       "      <td>3</td>\n",
       "      <td>7</td>\n",
       "      <td>1180</td>\n",
       "      <td>0</td>\n",
       "    </tr>\n",
       "    <tr>\n",
       "      <th>1</th>\n",
       "      <td>6414100192</td>\n",
       "      <td>538000.0</td>\n",
       "      <td>3</td>\n",
       "      <td>2.25</td>\n",
       "      <td>2570</td>\n",
       "      <td>7242</td>\n",
       "      <td>2.0</td>\n",
       "      <td>0</td>\n",
       "      <td>0</td>\n",
       "      <td>3</td>\n",
       "      <td>7</td>\n",
       "      <td>2170</td>\n",
       "      <td>400</td>\n",
       "    </tr>\n",
       "    <tr>\n",
       "      <th>2</th>\n",
       "      <td>5631500400</td>\n",
       "      <td>180000.0</td>\n",
       "      <td>2</td>\n",
       "      <td>1.00</td>\n",
       "      <td>770</td>\n",
       "      <td>10000</td>\n",
       "      <td>1.0</td>\n",
       "      <td>0</td>\n",
       "      <td>0</td>\n",
       "      <td>3</td>\n",
       "      <td>6</td>\n",
       "      <td>770</td>\n",
       "      <td>0</td>\n",
       "    </tr>\n",
       "  </tbody>\n",
       "</table>\n",
       "</div>"
      ],
      "text/plain": [
       "           id     price  bedrooms  bathrooms  sqft_living  sqft_lot  floors  \\\n",
       "0  7129300520  221900.0         3       1.00         1180      5650     1.0   \n",
       "1  6414100192  538000.0         3       2.25         2570      7242     2.0   \n",
       "2  5631500400  180000.0         2       1.00          770     10000     1.0   \n",
       "\n",
       "   waterfront  view  condition  grade  sqft_above  sqft_basement  \n",
       "0           0     0          3      7        1180              0  \n",
       "1           0     0          3      7        2170            400  \n",
       "2           0     0          3      6         770              0  "
      ]
     },
     "execution_count": 2,
     "metadata": {},
     "output_type": "execute_result"
    }
   ],
   "source": [
    "df = pd.read_csv('king.csv')\n",
    "print(df.shape)\n",
    "df.head(3)"
   ]
  },
  {
   "cell_type": "code",
   "execution_count": 3,
   "id": "6362e6ef",
   "metadata": {
    "scrolled": false
   },
   "outputs": [
    {
     "data": {
      "text/plain": [
       "3    14031\n",
       "4     5679\n",
       "5     1701\n",
       "2      172\n",
       "1       30\n",
       "Name: condition, dtype: int64"
      ]
     },
     "execution_count": 3,
     "metadata": {},
     "output_type": "execute_result"
    }
   ],
   "source": [
    "df.condition.value_counts()"
   ]
  },
  {
   "cell_type": "markdown",
   "id": "90e83a96",
   "metadata": {},
   "source": [
    "# Descrete Variable \n",
    "`Probability Mass Function (PMF)`"
   ]
  },
  {
   "cell_type": "code",
   "execution_count": 3,
   "id": "7d02ac72",
   "metadata": {
    "code_folding": [],
    "scrolled": false
   },
   "outputs": [
    {
     "data": {
      "image/png": "[encoded data removed]",
      "text/plain": [
       "<Figure size 1200x400 with 1 Axes>"
      ]
     },
     "metadata": {},
     "output_type": "display_data"
    }
   ],
   "source": [
    "#\n",
    "plt.figure(figsize=(12,4))\n",
    "\n",
    "prob = df['condition'].value_counts(normalize=True)\n",
    "# prob = prob.sort_index\n",
    "\n",
    "\n",
    "ax = plt.subplot(1,2,1)\n",
    "ax = sns.barplot(x = prob.index, \n",
    "                 y=prob.values,  \n",
    "                  \n",
    "                )\n",
    "\n",
    "plt.xlabel('Apartment Condition')\n",
    "plt.ylabel('Probability')\n",
    "plt.title('Probability Mass Function')\n",
    "\n",
    "for i in ax.containers:\n",
    "    ax.bar_label(i,\n",
    "                fmt='%.4f', # show 4 decimals only\n",
    "                )"
   ]
  },
  {
   "cell_type": "markdown",
   "id": "64f029e3",
   "metadata": {},
   "source": [
    "- In a random selection, there is a 65% probability of getting a number 3 condition apartment.\n",
    "- 98.9% probability of apartment are in normal to good condition."
   ]
  },
  {
   "cell_type": "code",
   "execution_count": null,
   "id": "cf48beb8",
   "metadata": {
    "scrolled": true
   },
   "outputs": [],
   "source": []
  },
  {
   "cell_type": "code",
   "execution_count": null,
   "id": "2cb1be82",
   "metadata": {
    "scrolled": true
   },
   "outputs": [],
   "source": []
  },
  {
   "cell_type": "markdown",
   "id": "990efbf2",
   "metadata": {},
   "source": [
    "***"
   ]
  },
  {
   "cell_type": "markdown",
   "id": "896e6304",
   "metadata": {},
   "source": [
    "# Binomial\n",
    "\n",
    "`Pre reqiusites`\n",
    "1. There are 2 potential outcomes pertrial.\n",
    "2. The probability of success (p) is the same accross all trials.\n",
    "3. The number of trials (n) is fixed.\n",
    "4. Each trial is independent."
   ]
  },
  {
   "cell_type": "markdown",
   "id": "4e36bffb",
   "metadata": {},
   "source": [
    "### Example\n",
    "Study shows color blindness affects about 8% of men. "
   ]
  },
  {
   "cell_type": "code",
   "execution_count": 5,
   "id": "d0a5a2db",
   "metadata": {
    "scrolled": false
   },
   "outputs": [
    {
     "data": {
      "text/html": [
       "<div>\n",
       "<style scoped>\n",
       "    .dataframe tbody tr th:only-of-type {\n",
       "        vertical-align: middle;\n",
       "    }\n",
       "\n",
       "    .dataframe tbody tr th {\n",
       "        vertical-align: top;\n",
       "    }\n",
       "\n",
       "    .dataframe thead th {\n",
       "        text-align: right;\n",
       "    }\n",
       "</style>\n",
       "<table border=\"1\" class=\"dataframe\">\n",
       "  <thead>\n",
       "    <tr style=\"text-align: right;\">\n",
       "      <th>Checkup_result</th>\n",
       "      <th>negative</th>\n",
       "      <th>positive</th>\n",
       "      <th>All</th>\n",
       "    </tr>\n",
       "    <tr>\n",
       "      <th>Sex</th>\n",
       "      <th></th>\n",
       "      <th></th>\n",
       "      <th></th>\n",
       "    </tr>\n",
       "  </thead>\n",
       "  <tbody>\n",
       "    <tr>\n",
       "      <th>Female</th>\n",
       "      <td>17</td>\n",
       "      <td>7</td>\n",
       "      <td>24</td>\n",
       "    </tr>\n",
       "    <tr>\n",
       "      <th>Male</th>\n",
       "      <td>23</td>\n",
       "      <td>2</td>\n",
       "      <td>25</td>\n",
       "    </tr>\n",
       "    <tr>\n",
       "      <th>All</th>\n",
       "      <td>40</td>\n",
       "      <td>9</td>\n",
       "      <td>49</td>\n",
       "    </tr>\n",
       "  </tbody>\n",
       "</table>\n",
       "</div>"
      ],
      "text/plain": [
       "Checkup_result  negative  positive  All\n",
       "Sex                                    \n",
       "Female                17         7   24\n",
       "Male                  23         2   25\n",
       "All                   40         9   49"
      ]
     },
     "execution_count": 5,
     "metadata": {},
     "output_type": "execute_result"
    }
   ],
   "source": [
    "df2 = pd.read_csv('blindness.csv')\n",
    "ct = pd.crosstab(df2.Sex, df2.Checkup_result,\n",
    "                 margins=True, \n",
    "#                  normalize=True\n",
    "                )\n",
    "ct"
   ]
  },
  {
   "cell_type": "code",
   "execution_count": 6,
   "id": "b8a2b71f",
   "metadata": {
    "scrolled": false
   },
   "outputs": [
    {
     "data": {
      "text/plain": [
       "0.08"
      ]
     },
     "execution_count": 6,
     "metadata": {},
     "output_type": "execute_result"
    }
   ],
   "source": [
    "# probability of Male and positive given Male\n",
    "# p(Male and positive | Male )\n",
    "2/25"
   ]
  },
  {
   "cell_type": "markdown",
   "id": "0b8ecfc0",
   "metadata": {},
   "source": [
    "A random of 10 men are taken. Find the probability that:\n",
    "1. All men are colorblind (n = 10)\n",
    "2. No men are colorblind\n",
    "3. Exactly 2 men are colorblind\n",
    "4. Atlest 2 or more men are colorblind"
   ]
  },
  {
   "cell_type": "markdown",
   "id": "dd2d0b77",
   "metadata": {},
   "source": [
    "### Visualize"
   ]
  },
  {
   "cell_type": "markdown",
   "id": "6901f19f",
   "metadata": {},
   "source": [
    "Approach :\n",
    "\n",
    "- Define n and p.\n",
    "- Define a list of values of r from 0 to n.\n",
    "- Get mean and variance.\n",
    "- For each r, calculate the pmf and store in a list."
   ]
  },
  {
   "cell_type": "code",
   "execution_count": 7,
   "id": "1bbf166d",
   "metadata": {
    "code_folding": [],
    "scrolled": false
   },
   "outputs": [],
   "source": [
    "# setting the values of n and p\n",
    "n = 10\n",
    "p = 0.08\n",
    "\n",
    "# defining the list of r values\n",
    "r_values = list(range(n + 1))\n",
    "\n",
    "# obtaining the mean and variance \n",
    "mean, var = binom.stats(n, p)\n",
    "\n",
    "# list of pmf values\n",
    "dist = [binom.pmf(r, n, p) for r in r_values ]\n",
    "\n",
    "# printing the table\n",
    "# print(\"r\\tp(r)\")\n",
    "# for i in range(n + 1):\n",
    "#     print(str(r_values[i]) + \"\\t\" + str(dist[i]))\n",
    "    \n",
    "# # printing mean and variance\n",
    "# print(\"mean = \"+str(mean))\n",
    "# print(\"variance = \"+str(var))"
   ]
  },
  {
   "cell_type": "code",
   "execution_count": 8,
   "id": "bd2672b1",
   "metadata": {
    "code_folding": [
     0
    ],
    "scrolled": false
   },
   "outputs": [
    {
     "data": {
      "text/plain": [
       "<matplotlib.legend.Legend at 0x20a3cd085b0>"
      ]
     },
     "execution_count": 8,
     "metadata": {},
     "output_type": "execute_result"
    },
    {
     "data": {
      "image/png": "[encoded data removed]",
      "text/plain": [
       "<Figure size 1200x400 with 1 Axes>"
      ]
     },
     "metadata": {},
     "output_type": "display_data"
    }
   ],
   "source": [
    "#\n",
    "plt.figure(figsize=(12,4))\n",
    "ax = sns.barplot(x = r_values, \n",
    "                 y= dist,  \n",
    "                               )\n",
    "\n",
    "plt.title('Number of colorblind men from a sample of 10')\n",
    "for i in ax.containers:\n",
    "    ax.bar_label(i,\n",
    "                fmt='%.5f'\n",
    "                )\n",
    "\n",
    "m = n * p\n",
    "var = (n * p) * (1-p)\n",
    "std = var ** .5\n",
    "  \n",
    "    \n",
    "    \n",
    "plt.axvline(m, linestyle='--', color='r', label='Mean: ' + str(m))\n",
    "plt.axvline(m + std, linestyle='--', color='b', label='1_STD: ' + str(std))\n",
    "plt.axvline(m - std, linestyle='--', color='b', label='1_STD: ' + str(std))\n",
    "\n",
    "\n",
    "plt.legend(loc='upper center')"
   ]
  },
  {
   "cell_type": "markdown",
   "id": "2cfb35f2",
   "metadata": {},
   "source": [
    "### All men are colorblind (n = 10)"
   ]
  },
  {
   "cell_type": "code",
   "execution_count": 9,
   "id": "10b7093f",
   "metadata": {
    "scrolled": false
   },
   "outputs": [
    {
     "data": {
      "text/plain": [
       "1.0737418240000003e-11"
      ]
     },
     "execution_count": 9,
     "metadata": {},
     "output_type": "execute_result"
    }
   ],
   "source": [
    "stats.binom.pmf(10,10,.08)"
   ]
  },
  {
   "cell_type": "markdown",
   "id": "5e316c0e",
   "metadata": {},
   "source": [
    "### No men are colorblind"
   ]
  },
  {
   "cell_type": "code",
   "execution_count": 10,
   "id": "057aa3f5",
   "metadata": {
    "scrolled": false
   },
   "outputs": [
    {
     "data": {
      "text/plain": [
       "0.4343884542236323"
      ]
     },
     "execution_count": 10,
     "metadata": {},
     "output_type": "execute_result"
    }
   ],
   "source": [
    "stats.binom.pmf(0,10,.08)"
   ]
  },
  {
   "cell_type": "markdown",
   "id": "10788706",
   "metadata": {},
   "source": [
    "### Exactly 2 men are colorblind"
   ]
  },
  {
   "cell_type": "code",
   "execution_count": 11,
   "id": "691e7fc3",
   "metadata": {
    "scrolled": false
   },
   "outputs": [
    {
     "data": {
      "text/plain": [
       "0.14780703546361773"
      ]
     },
     "execution_count": 11,
     "metadata": {},
     "output_type": "execute_result"
    }
   ],
   "source": [
    "stats.binom.pmf(2,10,.08)"
   ]
  },
  {
   "cell_type": "markdown",
   "id": "bca51937",
   "metadata": {},
   "source": [
    "### Atlest 2 or more men are colorblind\n",
    "\n",
    "In this question, we need to change our code to cummulative distibution function (CDF)"
   ]
  },
  {
   "cell_type": "code",
   "execution_count": 12,
   "id": "0e165613",
   "metadata": {
    "scrolled": false
   },
   "outputs": [
    {
     "data": {
      "text/plain": [
       "0.18788245514712265"
      ]
     },
     "execution_count": 12,
     "metadata": {},
     "output_type": "execute_result"
    }
   ],
   "source": [
    "# this code get the cumulative value from 2 to 10 probability.\n",
    "# subtrach the probability of 0 to 1 from 100%\n",
    "1 - stats.binom.cdf(1,10,.08)"
   ]
  },
  {
   "cell_type": "markdown",
   "id": "48d75b91",
   "metadata": {},
   "source": [
    "### The number of expected color blind in the sample\n",
    "`This is also the mean of the distribution`"
   ]
  },
  {
   "cell_type": "code",
   "execution_count": 13,
   "id": "4e922f16",
   "metadata": {
    "scrolled": false
   },
   "outputs": [
    {
     "data": {
      "text/plain": [
       "0.8"
      ]
     },
     "execution_count": 13,
     "metadata": {},
     "output_type": "execute_result"
    }
   ],
   "source": [
    "m = n * p\n",
    "m"
   ]
  },
  {
   "cell_type": "markdown",
   "id": "e796bf34",
   "metadata": {},
   "source": [
    "### Standard Deviation"
   ]
  },
  {
   "cell_type": "code",
   "execution_count": 14,
   "id": "76d298c0",
   "metadata": {
    "scrolled": false
   },
   "outputs": [
    {
     "data": {
      "text/plain": [
       "0.8579044235810888"
      ]
     },
     "execution_count": 14,
     "metadata": {},
     "output_type": "execute_result"
    }
   ],
   "source": [
    "# n * p ( 1 - p)\n",
    "var = (n * p) * (1-p)\n",
    "std = var ** .5\n",
    "std"
   ]
  },
  {
   "cell_type": "markdown",
   "id": "2b739f64",
   "metadata": {},
   "source": [
    "When success and failure are equally likely, the binomial distribution is a normal distribution. Hence, changing the value of p to 0.5, we obtain this graph, which is identical to a normal distribution plot :"
   ]
  },
  {
   "cell_type": "code",
   "execution_count": 15,
   "id": "92928e41",
   "metadata": {
    "code_folding": [
     0
    ],
    "scrolled": false
   },
   "outputs": [
    {
     "data": {
      "image/png": "[encoded data removed]",
      "text/plain": [
       "<Figure size 800x400 with 1 Axes>"
      ]
     },
     "metadata": {},
     "output_type": "display_data"
    }
   ],
   "source": [
    "#\n",
    "n = 10\n",
    "p = .5\n",
    "r_values = list(range(n + 1))\n",
    "mean, var = binom.stats(n, p)\n",
    "dist = [binom.pmf(r, n, p) for r in r_values ]\n",
    "#\n",
    "plt.figure(figsize=(8,4))\n",
    "ax = sns.barplot(x = r_values, \n",
    "                 y= dist,  \n",
    "                               )\n",
    "\n",
    "plt.title('Number of colorblind men from a sample of 10')\n",
    "for i in ax.containers:\n",
    "    ax.bar_label(i,\n",
    "                fmt='%.3f'\n",
    "                )"
   ]
  },
  {
   "cell_type": "markdown",
   "id": "b3955627",
   "metadata": {},
   "source": [
    "# Continous Variable \n",
    "`Probability Density Function (PDF)`"
   ]
  },
  {
   "cell_type": "markdown",
   "id": "216ff363",
   "metadata": {},
   "source": [
    "- Data preparation\n",
    "\n",
    "Let's manipulate first our dataset to make it a normal distribtion.\n"
   ]
  },
  {
   "cell_type": "code",
   "execution_count": 16,
   "id": "e4bc5179",
   "metadata": {
    "scrolled": false
   },
   "outputs": [],
   "source": [
    "def Replace_Outliers(df_name, value, column_name = \"\"):\n",
    "    iqr = df_name[column_name].quantile(.75) - df_name[column_name].quantile(.25)\n",
    "    \n",
    "    lowerbound = (df_name[column_name].quantile(.25)) - iqr * 1.5\n",
    "    upperbound = (df_name[column_name].quantile(.75)) + iqr * 1.5\n",
    "            \n",
    "    df_name[column_name] = np.where(df_name[column_name] > upperbound, value, df_name[column_name])\n",
    "    df_name[column_name] = np.where(df_name[column_name] < lowerbound, value, df_name[column_name])"
   ]
  },
  {
   "cell_type": "code",
   "execution_count": 21,
   "id": "bfea2c8b",
   "metadata": {
    "scrolled": false
   },
   "outputs": [],
   "source": [
    "# run this code 5time to get rid of outliers for the sake of this example only\n",
    "Replace_Outliers(df,\n",
    "                df.sqft_living.mean(),\n",
    "                'sqft_living')"
   ]
  },
  {
   "cell_type": "code",
   "execution_count": 23,
   "id": "a14d95aa",
   "metadata": {
    "scrolled": false
   },
   "outputs": [
    {
     "data": {
      "text/plain": [
       "<AxesSubplot:xlabel='sqft_living'>"
      ]
     },
     "execution_count": 23,
     "metadata": {},
     "output_type": "execute_result"
    },
    {
     "data": {
      "image/png": "[encoded data removed]",
      "text/plain": [
       "<Figure size 640x480 with 1 Axes>"
      ]
     },
     "metadata": {},
     "output_type": "display_data"
    }
   ],
   "source": [
    "# verify\n",
    "sns.boxplot(x=df.sqft_living)"
   ]
  },
  {
   "cell_type": "markdown",
   "id": "55b9bb5c",
   "metadata": {},
   "source": [
    "Check distribution skewness and kurtosis"
   ]
  },
  {
   "cell_type": "code",
   "execution_count": 24,
   "id": "6ea02498",
   "metadata": {
    "scrolled": false
   },
   "outputs": [
    {
     "name": "stdout",
     "output_type": "stream",
     "text": [
      "-0.3199816538386857\n",
      "0.48799612173972073\n"
     ]
    }
   ],
   "source": [
    "_kurtosis = df.sqft_living.kurt()\n",
    "_skew = df.sqft_living.skew()\n",
    "\n",
    "print(_kurtosis) # moderately spreadout\n",
    "print(_skew) # fairly symmetrical"
   ]
  },
  {
   "cell_type": "markdown",
   "id": "f7a57979",
   "metadata": {},
   "source": [
    "Kurt and skewness are now in the required value. Let's begin by choosing bins and binwidth that will best represent our histogram."
   ]
  },
  {
   "cell_type": "markdown",
   "id": "3c18d6a3",
   "metadata": {},
   "source": [
    "### Determine how manny bins or datapoints in each bin (binwidth) will  best represent our histogram. "
   ]
  },
  {
   "cell_type": "code",
   "execution_count": 25,
   "id": "5b891865",
   "metadata": {
    "scrolled": false
   },
   "outputs": [],
   "source": [
    "# We have 3 variables that we may consider (1, 20, and the sqaure root of total number of datapoint)\n",
    "v1 = 20\n",
    "v2 = len(df) ** 0.5\n",
    "_range = df.sqft_living.max() - df.sqft_living.min()"
   ]
  },
  {
   "cell_type": "code",
   "execution_count": 26,
   "id": "5585db04",
   "metadata": {
    "code_folding": [
     0
    ],
    "scrolled": false
   },
   "outputs": [
    {
     "data": {
      "image/png": "[encoded data removed]",
      "text/plain": [
       "<Figure size 640x480 with 3 Axes>"
      ]
     },
     "metadata": {},
     "output_type": "display_data"
    }
   ],
   "source": [
    "# Show 4 different binwidths\n",
    "\n",
    "# the number of datapoints in each bin\n",
    "for i, binwidth in enumerate([1, v1, v2]):\n",
    "    \n",
    "    # Set up the plot\n",
    "    ax = plt.subplot(2, 2, i + 1)\n",
    "    \n",
    "    # Draw the plot\n",
    "    ax.hist(df.sqft_living,\n",
    "            bins = int(_range/binwidth),\n",
    "#             color = 'blue', \n",
    "            edgecolor = 'black'\n",
    "           )\n",
    "    \n",
    "    # Title and labels\n",
    "    ax.set_title('Histogram with Binwidth = %d' % binwidth, )\n",
    "    ax.set_xlabel('Heights')\n",
    "    ax.set_ylabel('count')\n",
    "\n",
    "plt.tight_layout()\n",
    "plt.show()"
   ]
  },
  {
   "cell_type": "markdown",
   "id": "36b754d5",
   "metadata": {},
   "source": [
    "From the given histogram above looks like 147 best suit our histogram."
   ]
  },
  {
   "cell_type": "markdown",
   "id": "5a134e39",
   "metadata": {},
   "source": [
    "### Set stat to `density`\n",
    "Density plots have an advantage over Histograms because they determine the Shape of the distribution more efficiently than histograms. They do not have to depend on the number of bins used unlike in histograms."
   ]
  },
  {
   "cell_type": "code",
   "execution_count": 43,
   "id": "7edf4c54",
   "metadata": {
    "scrolled": false
   },
   "outputs": [
    {
     "name": "stdout",
     "output_type": "stream",
     "text": [
      "1974.0738618786236\n"
     ]
    },
    {
     "data": {
      "text/plain": [
       "720.5274169123986"
      ]
     },
     "execution_count": 43,
     "metadata": {},
     "output_type": "execute_result"
    }
   ],
   "source": [
    "mu = np.mean(df.sqft_living)\n",
    "print(mu)\n",
    "sigma = np.std(df.sqft_living)\n",
    "sigma"
   ]
  },
  {
   "cell_type": "code",
   "execution_count": 44,
   "id": "1a50ca27",
   "metadata": {
    "scrolled": false
   },
   "outputs": [
    {
     "data": {
      "text/plain": [
       "<matplotlib.legend.Legend at 0x20a405f5790>"
      ]
     },
     "execution_count": 44,
     "metadata": {},
     "output_type": "execute_result"
    },
    {
     "data": {
      "image/png": "[encoded data removed]",
      "text/plain": [
       "<Figure size 640x480 with 1 Axes>"
      ]
     },
     "metadata": {},
     "output_type": "display_data"
    }
   ],
   "source": [
    "ax = sns.histplot(x=df.sqft_living,\n",
    "             kde=True,\n",
    "             stat='density',\n",
    "             binwidth = 147,\n",
    "#              bins=3               \n",
    "             )\n",
    "\n",
    "# Mean and  1_Standard Deviation\n",
    "plt.axvline(mu, linestyle='--', color='r', label='Mean')\n",
    "plt.axvline(mu + sigma, linestyle='--', color='b', label='1_STD')\n",
    "plt.axvline(mu - sigma, linestyle='--', color='b', label='1_STD')\n",
    "plt.legend()"
   ]
  },
  {
   "cell_type": "markdown",
   "id": "601d55fa",
   "metadata": {},
   "source": [
    "### Probability from minimum to mean value?"
   ]
  },
  {
   "cell_type": "code",
   "execution_count": 45,
   "id": "54144fba",
   "metadata": {
    "scrolled": false
   },
   "outputs": [
    {
     "data": {
      "text/plain": [
       "0.5"
      ]
     },
     "execution_count": 45,
     "metadata": {},
     "output_type": "execute_result"
    }
   ],
   "source": [
    "stats.norm.cdf(mu, mu, sigma)"
   ]
  },
  {
   "cell_type": "markdown",
   "id": "3ac2c3b4",
   "metadata": {},
   "source": [
    "### Probability of 1 standard devation area?"
   ]
  },
  {
   "cell_type": "code",
   "execution_count": 46,
   "id": "0cf36ff0",
   "metadata": {
    "scrolled": false
   },
   "outputs": [
    {
     "data": {
      "text/plain": [
       "0.6826894921370859"
      ]
     },
     "execution_count": 46,
     "metadata": {},
     "output_type": "execute_result"
    }
   ],
   "source": [
    "stats.norm.cdf(mu + sigma, mu, sigma) - stats.norm.cdf(mu - sigma, mu, sigma)"
   ]
  },
  {
   "cell_type": "markdown",
   "id": "2c47d8be",
   "metadata": {},
   "source": [
    "### Probability of 3500 sqft and above?"
   ]
  },
  {
   "cell_type": "code",
   "execution_count": 47,
   "id": "58f93fdf",
   "metadata": {
    "scrolled": false
   },
   "outputs": [
    {
     "data": {
      "text/plain": [
       "0.017155288234757538"
      ]
     },
     "execution_count": 47,
     "metadata": {},
     "output_type": "execute_result"
    }
   ],
   "source": [
    "1 - stats.norm.cdf(3499, mu, sigma)"
   ]
  },
  {
   "cell_type": "markdown",
   "id": "5ef30a86",
   "metadata": {},
   "source": [
    "### Probability of 3500 and below"
   ]
  },
  {
   "cell_type": "code",
   "execution_count": 48,
   "id": "98bfe253",
   "metadata": {
    "scrolled": false
   },
   "outputs": [
    {
     "data": {
      "text/plain": [
       "0.9829035940247762"
      ]
     },
     "execution_count": 48,
     "metadata": {},
     "output_type": "execute_result"
    }
   ],
   "source": [
    "stats.norm.cdf(3500, mu, sigma)"
   ]
  },
  {
   "cell_type": "markdown",
   "id": "149ba4c0",
   "metadata": {},
   "source": [
    "###  Example # 1\n",
    "\n",
    "The weather in the Galapagos islands follows a Normal distribution with a mean of 20 degrees Celcius and a standard deviation of 3 degrees."
   ]
  },
  {
   "cell_type": "code",
   "execution_count": 50,
   "id": "c012b563",
   "metadata": {
    "scrolled": false
   },
   "outputs": [],
   "source": [
    "mu, sigma = 20, 3"
   ]
  },
  {
   "cell_type": "code",
   "execution_count": 51,
   "id": "d34b51ee",
   "metadata": {
    "scrolled": false
   },
   "outputs": [],
   "source": [
    "s = np.random.normal(mu, sigma, 1000)"
   ]
  },
  {
   "cell_type": "code",
   "execution_count": 52,
   "id": "6530f6d1",
   "metadata": {
    "scrolled": false
   },
   "outputs": [
    {
     "name": "stdout",
     "output_type": "stream",
     "text": [
      "20.108309095764003\n",
      "2.986571012246543\n"
     ]
    }
   ],
   "source": [
    "# verify\n",
    "print(s.mean())\n",
    "print(s.std())"
   ]
  },
  {
   "cell_type": "code",
   "execution_count": 53,
   "id": "fbf231a6",
   "metadata": {
    "scrolled": false
   },
   "outputs": [
    {
     "data": {
      "image/png": "[encoded data removed]",
      "text/plain": [
       "<Figure size 640x480 with 1 Axes>"
      ]
     },
     "metadata": {},
     "output_type": "display_data"
    }
   ],
   "source": [
    "# visualize\n",
    "count, bins, ignored = plt.hist(s, 100, density=True)\n",
    "ax = plt.plot(bins, \n",
    "         1/(sigma * np.sqrt(2 * np.pi)) * np.exp( - (bins - mu)**2 / (2 * sigma**2) ),\n",
    "         linewidth=2, color='green', )\n",
    "\n",
    "plt.axvline(18, color='r', linestyle='-', label= 'Region of Interest Probability')\n",
    "plt.axvline(25, color='r', linestyle='-', )\n",
    "\n",
    "\n",
    "plt.legend()\n",
    "plt.show()"
   ]
  },
  {
   "cell_type": "code",
   "execution_count": 54,
   "id": "bd760321",
   "metadata": {
    "scrolled": false
   },
   "outputs": [
    {
     "data": {
      "text/plain": [
       "0.6997171101802624"
      ]
     },
     "execution_count": 54,
     "metadata": {},
     "output_type": "execute_result"
    }
   ],
   "source": [
    "stats.norm.cdf(25,mu,sigma) - stats.norm.cdf(18,mu,sigma)"
   ]
  },
  {
   "cell_type": "markdown",
   "id": "f6aaba52",
   "metadata": {},
   "source": [
    "***"
   ]
  },
  {
   "cell_type": "markdown",
   "id": "0ab90fb4",
   "metadata": {},
   "source": [
    "# Poisson Distribution\n",
    "How likely to get a certain value for the given time and average value\n",
    "\n",
    "Example usage:\n",
    "- Number of new car in a year\n",
    "- Number of phone calls per hour\n",
    "- Number of rain in a month\n",
    "\n",
    "In poisson distribution the `mean is equal to it's variance` (variance is the square root of STD)"
   ]
  },
  {
   "cell_type": "markdown",
   "id": "44dc7195",
   "metadata": {},
   "source": [
    "### Working at a call center where the average number of calls between 9am and 10am is 15 calls, what is the probability of observing more than 20 calls?"
   ]
  },
  {
   "cell_type": "code",
   "execution_count": 55,
   "id": "4fa51630",
   "metadata": {
    "scrolled": false
   },
   "outputs": [],
   "source": [
    "# average 15 calls from 9am - 10am\n",
    "mu = 15\n",
    "# probability of 20 calls\n",
    "x = 20"
   ]
  },
  {
   "cell_type": "code",
   "execution_count": 56,
   "id": "cd1a264e",
   "metadata": {
    "scrolled": false
   },
   "outputs": [
    {
     "data": {
      "text/plain": [
       "array([ 6, 18, 11, 13, 13, 10, 15, 18, 14, 12, 21, 15, 12, 13, 15, 20, 16,\n",
       "       14, 19, 21, 17, 13, 10, 12, 20, 17, 19, 18, 20, 11, 20, 14, 17, 21,\n",
       "       20, 13, 16, 15, 22, 13, 22, 18, 15, 17,  6, 16, 10, 10, 17, 21, 16,\n",
       "       14, 12, 18, 18, 18, 13, 16, 10,  9])"
      ]
     },
     "execution_count": 56,
     "metadata": {},
     "output_type": "execute_result"
    }
   ],
   "source": [
    "# creating a random variance for visualization \n",
    "# sample size is set to 100 (100 days observation from 9am - 10am timeline)\n",
    "s = stats.poisson.rvs(mu , size = 60, random_state=21)\n",
    "s"
   ]
  },
  {
   "cell_type": "code",
   "execution_count": 57,
   "id": "aad152fb",
   "metadata": {
    "scrolled": false
   },
   "outputs": [
    {
     "name": "stdout",
     "output_type": "stream",
     "text": [
      "15.333333333333334\n"
     ]
    },
    {
     "data": {
      "text/plain": [
       "15.055555555555555"
      ]
     },
     "execution_count": 57,
     "metadata": {},
     "output_type": "execute_result"
    }
   ],
   "source": [
    "# verify\n",
    "print(s.mean())\n",
    "s.var()"
   ]
  },
  {
   "cell_type": "code",
   "execution_count": 58,
   "id": "e17f5ec9",
   "metadata": {
    "scrolled": false
   },
   "outputs": [
    {
     "data": {
      "text/plain": [
       "<matplotlib.legend.Legend at 0x20a417d4c40>"
      ]
     },
     "execution_count": 58,
     "metadata": {},
     "output_type": "execute_result"
    },
    {
     "data": {
      "image/png": "[encoded data removed]",
      "text/plain": [
       "<Figure size 640x480 with 1 Axes>"
      ]
     },
     "metadata": {},
     "output_type": "display_data"
    }
   ],
   "source": [
    "sns.histplot(s,\n",
    "            stat='density')\n",
    "\n",
    "plt.axvline(mu, color='r', linestyle='--', label= 'Mean: ' + str(mu))\n",
    "plt.axvline(20, color='green', linestyle='--', label= 'more than 20 calls')\n",
    "\n",
    "plt.xlabel('Calls Count')\n",
    "            \n",
    "plt.legend()            "
   ]
  },
  {
   "cell_type": "markdown",
   "id": "749cd623",
   "metadata": {},
   "source": [
    "### More than 20 calls\n",
    "21 and more "
   ]
  },
  {
   "cell_type": "code",
   "execution_count": 59,
   "id": "620aa2c0",
   "metadata": {
    "scrolled": false
   },
   "outputs": [
    {
     "data": {
      "text/plain": [
       "0.08297091003146029"
      ]
     },
     "execution_count": 59,
     "metadata": {},
     "output_type": "execute_result"
    }
   ],
   "source": [
    "1 - stats.poisson.cdf(20, mu)"
   ]
  },
  {
   "cell_type": "markdown",
   "id": "76c07eea",
   "metadata": {},
   "source": [
    "***"
   ]
  },
  {
   "cell_type": "markdown",
   "id": "a47691d8",
   "metadata": {},
   "source": [
    "# Notes:"
   ]
  },
  {
   "attachments": {
    "image.png": {
     "image/png": "[encoded data removed]"
    }
   },
   "cell_type": "markdown",
   "id": "eed9d948",
   "metadata": {},
   "source": [
    "![image.png](attachment:image.png)"
   ]
  },
  {
   "cell_type": "markdown",
   "id": "5d379b7e",
   "metadata": {},
   "source": [
    "# Central Limit Theorem\n",
    "The CLT states that the sampling distribution of the mean is normally distributed as long as the population is not too skewed or the sample size is large enough. \n",
    "\n",
    "`Sampling distribution`: A sampling distribution is obtained by taking a random sample of a certain size multiple times, taking a sample statistic, and plotting the distribution of this sample statistic."
   ]
  },
  {
   "cell_type": "markdown",
   "id": "6b920083",
   "metadata": {},
   "source": [
    "## Example"
   ]
  },
  {
   "cell_type": "markdown",
   "id": "ca0b33d2",
   "metadata": {},
   "source": [
    "Let's say we have a Fish Bussiness in Laguna lake, (Tilapya). We need to transport it in a crate that can only support 750lbs.  \n"
   ]
  },
  {
   "cell_type": "markdown",
   "id": "8d0673bd",
   "metadata": {},
   "source": [
    "We can't posible know the total population and distribution type of all the Tilapya fishes in the lake. We will apply the Central Limit Theorem here saying that the sampling distribution of the mean is normally distributed."
   ]
  },
  {
   "cell_type": "markdown",
   "id": "3ee1f479",
   "metadata": {},
   "source": [
    "<br/>"
   ]
  },
  {
   "cell_type": "markdown",
   "id": "dfbbb89b",
   "metadata": {},
   "source": [
    "Let's take `weight dataset` as the total population of fishes. In real life can't posible know this, let's pretend that we don't know this record for the sake of this example only."
   ]
  },
  {
   "cell_type": "markdown",
   "id": "7de7b4b3",
   "metadata": {},
   "source": [
    "History records has an estimate average weight of 9.13 lbs per fish with a standard deviation of 5.64 lbs."
   ]
  },
  {
   "cell_type": "code",
   "execution_count": 307,
   "id": "b1230250",
   "metadata": {
    "scrolled": false
   },
   "outputs": [],
   "source": [
    "df = pd.read_csv('weights.csv')"
   ]
  },
  {
   "cell_type": "code",
   "execution_count": 308,
   "id": "a5259557",
   "metadata": {
    "scrolled": false
   },
   "outputs": [
    {
     "name": "stdout",
     "output_type": "stream",
     "text": [
      "9.13373087565758\n",
      "5.637385887147844\n"
     ]
    },
    {
     "data": {
      "image/png": "[encoded data removed]",
      "text/plain": [
       "<Figure size 640x480 with 1 Axes>"
      ]
     },
     "metadata": {},
     "output_type": "display_data"
    }
   ],
   "source": [
    "sns.histplot(df.p95_wgt)\n",
    "plt.axvline(np.mean(df.p95_wgt), color='r', label='mean')\n",
    "plt.legend()\n",
    "\n",
    "print(np.mean(df.p95_wgt))\n",
    "print(np.std(df.p95_wgt))"
   ]
  },
  {
   "cell_type": "code",
   "execution_count": 309,
   "id": "72e54a85",
   "metadata": {
    "scrolled": false
   },
   "outputs": [
    {
     "data": {
      "text/plain": [
       "75.0"
      ]
     },
     "execution_count": 309,
     "metadata": {},
     "output_type": "execute_result"
    }
   ],
   "source": [
    "# Our crate can only contains 75 fishes\n",
    "750 / 10"
   ]
  },
  {
   "cell_type": "markdown",
   "id": "bfb03ab8",
   "metadata": {},
   "source": [
    "### `Question:`\n",
    "1. Calculate the probability that the average weight of those 75 fish is less than or equal to 10 lbs.\n",
    "\n",
    "In real life application we need to retieve 75 fishes as samples from 30 different location in the lake. Get the mean from each samples and plot it in a distribution."
   ]
  },
  {
   "cell_type": "markdown",
   "id": "c2facc9d",
   "metadata": {},
   "source": [
    "#### Python Application"
   ]
  },
  {
   "cell_type": "code",
   "execution_count": 311,
   "id": "e7f4db4f",
   "metadata": {
    "scrolled": false
   },
   "outputs": [],
   "source": [
    "population = df.p95_wgt\n",
    "sample_size = 75 "
   ]
  },
  {
   "cell_type": "markdown",
   "id": "04b5e13d",
   "metadata": {},
   "source": [
    "- Get 75 sample size from the population\n",
    "- Get the mean of this 75 samples  \n",
    "- Repeat 30 times and plot the mean"
   ]
  },
  {
   "cell_type": "code",
   "execution_count": 332,
   "id": "a9e55fdd",
   "metadata": {
    "scrolled": false
   },
   "outputs": [],
   "source": [
    "sample_means = [] # set to 30\n",
    "\n",
    "for i in range(30): # loops 30 times from random samp\n",
    "    # we will randomly select 50 (sample_size) from our population\n",
    "    samp = np.random.choice(population, sample_size, replace = False) #this has now 50 samples\n",
    "    # calculate mean here\n",
    "    samp_mean = np.mean(samp)\n",
    "    # append here\n",
    "    sample_means.append(samp_mean)\n",
    "    # loop 30 time    \n",
    "# sample_means"
   ]
  },
  {
   "cell_type": "markdown",
   "id": "d81787cb",
   "metadata": {},
   "source": [
    "####  Mean of means"
   ]
  },
  {
   "cell_type": "code",
   "execution_count": 334,
   "id": "ec696d58",
   "metadata": {
    "scrolled": true
   },
   "outputs": [
    {
     "data": {
      "text/plain": [
       "9.22"
      ]
     },
     "execution_count": 334,
     "metadata": {},
     "output_type": "execute_result"
    }
   ],
   "source": [
    "mean_of_means = float(\"{:.2f}\".format(np.mean(sample_means)))\n",
    "mean_of_means"
   ]
  },
  {
   "cell_type": "markdown",
   "id": "af607b87",
   "metadata": {},
   "source": [
    "#### Standard Error"
   ]
  },
  {
   "cell_type": "code",
   "execution_count": 335,
   "id": "761cf42f",
   "metadata": {
    "scrolled": true
   },
   "outputs": [
    {
     "data": {
      "text/plain": [
       "0.6861683014831731"
      ]
     },
     "execution_count": 335,
     "metadata": {},
     "output_type": "execute_result"
    }
   ],
   "source": [
    "np.std(sample_means)"
   ]
  },
  {
   "cell_type": "code",
   "execution_count": 339,
   "id": "da623367",
   "metadata": {
    "scrolled": false
   },
   "outputs": [
    {
     "name": "stdout",
     "output_type": "stream",
     "text": [
      "0.5627680261332569\n"
     ]
    }
   ],
   "source": [
    "# in the above distribution the std is 5.64. In real life we posible don't know the standard deviation of the total population\n",
    "# we can use the std of our samples to estimate it (this is called std error)\n",
    "# std_error = float(\"{:.2f}\".format(np.std(sample_means)))\n",
    "\n",
    "# lets get 1 sample\n",
    "std_error = np.std(samp) / (sample_size ** .5)\n",
    "\n",
    "\n",
    "print(std_error)"
   ]
  },
  {
   "cell_type": "code",
   "execution_count": 344,
   "id": "07faa32e",
   "metadata": {
    "scrolled": true
   },
   "outputs": [
    {
     "data": {
      "text/plain": [
       "<matplotlib.legend.Legend at 0x20a4891c880>"
      ]
     },
     "execution_count": 344,
     "metadata": {},
     "output_type": "execute_result"
    },
    {
     "data": {
      "image/png": "[encoded data removed]",
      "text/plain": [
       "<Figure size 800x500 with 1 Axes>"
      ]
     },
     "metadata": {},
     "output_type": "display_data"
    }
   ],
   "source": [
    "plt.figure(figsize=(8,5))\n",
    "sns.histplot(sample_means,stat='density', kde='True')\n",
    "\n",
    "plt.axvline(mean_of_means, color='r', linestyle='--', label='mean_of_means: ' + str(mean_of_means))\n",
    "plt.axvline(mean_of_means + (std_error * 2), color='b', linestyle='--', label='2_STD Error')\n",
    "plt.axvline(mean_of_means - (std_error * 2), color='b', linestyle='--', label='2_STD Error')\n",
    "plt.axvline(10, color='y', linestyle='--', label='observing 10lbs below')\n",
    "\n",
    "plt.title(\"Sampling Distribution of the Mean\")\n",
    "plt.xlabel(\"sample weight means\")\n",
    "plt.legend(loc='upper left')"
   ]
  },
  {
   "cell_type": "markdown",
   "id": "e777bfdc",
   "metadata": {},
   "source": [
    "`Note`:\n",
    "The mean is not affected by sample size, and the standard error decreases with increased sample size."
   ]
  },
  {
   "cell_type": "markdown",
   "id": "2d59d102",
   "metadata": {},
   "source": [
    "Leveraging the part of the CLT that says the sampling distribution is normally distributed we can use the property of a normal \n",
    "distribution say's 95% of values are within 2 standard deviation."
   ]
  },
  {
   "cell_type": "markdown",
   "id": "9732d14a",
   "metadata": {},
   "source": [
    "Back to the question:\n",
    "\n",
    "1. Calculate the probability that the average weight of those 75 fish is less than or equal to 10 lbs."
   ]
  },
  {
   "cell_type": "code",
   "execution_count": 345,
   "id": "3eaa0fd0",
   "metadata": {
    "scrolled": true
   },
   "outputs": [
    {
     "data": {
      "text/plain": [
       "0.9171275020639029"
      ]
     },
     "execution_count": 345,
     "metadata": {},
     "output_type": "execute_result"
    }
   ],
   "source": [
    "below_10lbs = stats.norm.cdf(10, mean_of_means, std_error)\n",
    "below_10lbs"
   ]
  },
  {
   "cell_type": "markdown",
   "id": "8f9af00e",
   "metadata": {},
   "source": [
    "There is about 92% that the 75 fishes will be at 10lbs or below. If we are not satisfied with the result we can retrieve more samples from more locations. (increase the loops in python)"
   ]
  },
  {
   "cell_type": "code",
   "execution_count": null,
   "id": "3852e207",
   "metadata": {
    "scrolled": false
   },
   "outputs": [],
   "source": []
  },
  {
   "cell_type": "code",
   "execution_count": null,
   "id": "e5df29c0",
   "metadata": {
    "scrolled": false
   },
   "outputs": [],
   "source": []
  },
  {
   "cell_type": "code",
   "execution_count": null,
   "id": "6d168c2d",
   "metadata": {
    "scrolled": false
   },
   "outputs": [],
   "source": []
  },
  {
   "cell_type": "code",
   "execution_count": null,
   "id": "87b3d9be",
   "metadata": {
    "scrolled": false
   },
   "outputs": [],
   "source": []
  },
  {
   "cell_type": "code",
   "execution_count": null,
   "id": "5316bfad",
   "metadata": {
    "scrolled": false
   },
   "outputs": [],
   "source": []
  },
  {
   "cell_type": "code",
   "execution_count": null,
   "id": "e7bd0517",
   "metadata": {
    "scrolled": false
   },
   "outputs": [],
   "source": []
  },
  {
   "cell_type": "markdown",
   "id": "b6ce65a0",
   "metadata": {},
   "source": [
    "***"
   ]
  }
 ],
 "metadata": {
  "kernelspec": {
   "display_name": "Python 3 (ipykernel)",
   "language": "python",
   "name": "python3"
  },
  "language_info": {
   "codemirror_mode": {
    "name": "ipython",
    "version": 3
   },
   "file_extension": ".py",
   "mimetype": "text/x-python",
   "name": "python",
   "nbconvert_exporter": "python",
   "pygments_lexer": "ipython3",
   "version": "3.8.13"
  }
 },
 "nbformat": 4,
 "nbformat_minor": 5
}
